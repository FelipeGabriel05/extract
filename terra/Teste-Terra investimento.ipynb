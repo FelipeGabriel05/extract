{
 "cells": [
  {
   "cell_type": "code",
   "execution_count": null,
   "id": "7ae480cf",
   "metadata": {},
   "outputs": [],
   "source": [
    "import pdfplumber"
   ]
  },
  {
   "cell_type": "code",
   "execution_count": 57,
   "id": "4ca36f2e",
   "metadata": {},
   "outputs": [
    {
     "name": "stdout",
     "output_type": "stream",
     "text": [
      "{'Agente_da_Compensacao': '107', 'Cliente': '', 'Valor': '', 'Custodiante': '', 'C_I': 'N'}\n",
      "[['107', '', '', '', 'N']]\n"
     ]
    },
    {
     "data": {
      "image/png": "[encoded data removed]",
      "text/plain": [
       "<pdfplumber.display.PageImage at 0x1d9c785e450>"
      ]
     },
     "execution_count": 57,
     "metadata": {},
     "output_type": "execute_result"
    }
   ],
   "source": [
    "with pdfplumber.open(\"Terra.pdf\") as pdf:\n",
    "    page = pdf.pages[0]\n",
    "    coluna_cliente = page.crop((20, 160, page.width, 185))\n",
    "    \n",
    "    cliente_settings = {\n",
    "        \"vertical_strategy\": \"lines\",\n",
    "        \"horizontal_strategy\": \"explicit\",\n",
    "        \"explicit_horizontal_lines\": [170, 180]\n",
    "    }\n",
    "    \n",
    "    table_cliente = page.extract_table(cliente_settings)\n",
    "    obj_cliente = {\n",
    "        \"Agente_da_Compensacao\": table_cliente[0][0],\n",
    "        \"Cliente\": table_cliente[0][1],\n",
    "        \"Valor\": table_cliente[0][2],\n",
    "        \"Custodiante\": table_cliente[0][3],\n",
    "        \"C_I\": table_cliente[0][4],\n",
    "    }\n",
    "    print(obj_cliente)\n",
    "    print(table_cliente)\n",
    "im = coluna_patente.to_image()\n",
    "im.draw_vlines([30, 150, 280, 390, 487, 558])\n",
    "im.draw_hlines([ 170,180])"
   ]
  },
  {
   "cell_type": "code",
   "execution_count": 70,
   "id": "04fdf398",
   "metadata": {},
   "outputs": [
    {
     "name": "stdout",
     "output_type": "stream",
     "text": [
      "[['', '', '']]\n",
      "{'Banco': '', 'Agencia': '', 'Conta_Corrente': ''}\n"
     ]
    },
    {
     "data": {
      "image/png": "[encoded data removed]",
      "text/plain": [
       "<pdfplumber.display.PageImage at 0x1d9cdfb2f90>"
      ]
     },
     "execution_count": 70,
     "metadata": {},
     "output_type": "execute_result"
    }
   ],
   "source": [
    "with pdfplumber.open(\"Terra.pdf\") as pdf:\n",
    "    page = pdf.pages[0]\n",
    "    coluna_banco1 = page.crop((20, 185, page.width, 203))\n",
    "    \n",
    "    banco1_settings = {\n",
    "        \"vertical_strategy\": \"lines\",\n",
    "        \"horizontal_strategy\": \"explicit\",\n",
    "        \"explicit_horizontal_lines\": [195, 202]\n",
    "    }\n",
    "    \n",
    "    table_banco1 = page.extract_table(banco1_settings)\n",
    "    print(table_banco1)\n",
    "    \n",
    "    obj_banco = {\n",
    "        \"Banco\": table_banco1[0][0],\n",
    "        \"Agencia\": table_banco1[0][1],\n",
    "        \"Conta_Corrente\": table_banco1[0][2]\n",
    "    }\n",
    "    print(obj_banco)\n",
    "im = coluna_banco1.to_image()\n",
    "im.draw_vlines([])\n",
    "im.draw_hlines([195, 202])"
   ]
  },
  {
   "cell_type": "code",
   "execution_count": 82,
   "id": "7d0741a6",
   "metadata": {},
   "outputs": [
    {
     "name": "stdout",
     "output_type": "stream",
     "text": [
      "[['', '', '', '']]\n",
      "{'Banco': '', 'Agencia': '', 'Conta_Corrente': '', 'Acionista': '', 'Administrador': '', 'Complemento_nome': '', 'P_Vinc': ''}\n",
      "[['', '', '', '']]\n"
     ]
    },
    {
     "data": {
      "image/png": "[encoded data removed]",
      "text/plain": [
       "<pdfplumber.display.PageImage at 0x1d9d20d04d0>"
      ]
     },
     "execution_count": 82,
     "metadata": {},
     "output_type": "execute_result"
    }
   ],
   "source": [
    "with pdfplumber.open(\"Terra.pdf\") as pdf:\n",
    "    page = pdf.pages[0]\n",
    "    coluna_banco2 = page.crop((20, 204, page.width, 225))\n",
    "    \n",
    "    banco2_settings = {\n",
    "        \"vertical_strategy\": \"lines\",\n",
    "        \"horizontal_strategy\": \"explicit\",\n",
    "        \"explicit_horizontal_lines\": [215, 220]\n",
    "    }\n",
    "    \n",
    "    table_banco2 = page.extract_table(banco2_settings)\n",
    "    print(table_banco2)\n",
    "    \n",
    "    obj_banco = {\n",
    "        \"Banco\": table_banco1[0][0],\n",
    "        \"Agencia\": table_banco1[0][1],\n",
    "        \"Conta_Corrente\": table_banco1[0][2],\n",
    "        \"Acionista\": table_banco2[0][0],\n",
    "        \"Administrador\": table_banco2[0][1],\n",
    "        \"Complemento_nome\": table_banco2[0][2],\n",
    "        \"P_Vinc\": table_banco2[0][3]\n",
    "    }\n",
    "    print(obj_banco)\n",
    "    print(table_banco2)\n",
    "im = coluna_banco2.to_image()\n",
    "im.draw_vlines([])\n",
    "im.draw_hlines([215, 220])"
   ]
  },
  {
   "cell_type": "code",
   "execution_count": 12,
   "id": "25d45309",
   "metadata": {},
   "outputs": [
    {
     "name": "stdout",
     "output_type": "stream",
     "text": [
      " GUILHERME PECINI GAMOEDA\n"
     ]
    }
   ],
   "source": [
    "with pdfplumber.open(\"Terra.pdf\") as pdf:\n",
    "    page = pdf.pages[0]\n",
    "    all_text = ''\n",
    "    texto = page.extract_text()\n",
    "    for row in texto:\n",
    "        all_text += texto\n",
    "    row = all_text.split('\\n')\n",
    "    linha8 = row[8].split()\n",
    "    total = 0\n",
    "    cliente = ''\n",
    "    while total < len(linha8) - 1:\n",
    "        cliente += f\" {linha8[total]}\"\n",
    "        total += 1\n",
    "    print(cliente)"
   ]
  },
  {
   "cell_type": "code",
   "execution_count": 156,
   "id": "76d3d8ff",
   "metadata": {},
   "outputs": [
    {
     "name": "stdout",
     "output_type": "stream",
     "text": [
      "[['C', 'WING20', '12/02/2020', '1', '117.435,00', 'DAY TRADE', '88,80', 'C', '0,11'], ['V', 'WING20', '12/02/2020', '1', '117.895,00', 'DAY TRADE', '3,20', 'C', '0,11']]\n",
      "{'negocio0': {'CV': 'C', 'Mercadoria': 'WING20', 'Vencimento': '12/02/2020', 'Quantidade': '1', 'Preco_Ajuste': '117.435,00', 'Tipo_Do_Negocio': 'DAY TRADE', 'Vlr_de_Operacao_Ajuste_DC': '88,80', 'Taxa_Operacional': 'C'}, 'negocio1': {'CV': 'V', 'Mercadoria': 'WING20', 'Vencimento': '12/02/2020', 'Quantidade': '1', 'Preco_Ajuste': '117.895,00', 'Tipo_Do_Negocio': 'DAY TRADE', 'Vlr_de_Operacao_Ajuste_DC': '3,20', 'Taxa_Operacional': 'C'}}\n"
     ]
    },
    {
     "data": {
      "image/png": "[encoded data removed]",
      "text/plain": [
       "<pdfplumber.display.PageImage at 0x1d9e97d5410>"
      ]
     },
     "execution_count": 156,
     "metadata": {},
     "output_type": "execute_result"
    }
   ],
   "source": [
    "with pdfplumber.open(\"Terra.pdf\") as pdf:\n",
    "    page = pdf.pages[0]\n",
    "    coluna_negocios = page.crop((20, 245, page.width, 290))\n",
    "    \n",
    "    negocios_settings = {\n",
    "        \"vertical_strategy\": \"explicit\",\n",
    "        \"horizontal_strategy\": \"lines\",\n",
    "        \"explicit_vertical_lines\": [30, 50, 102, 165, 220, 280, 360, 460, 480, 555],\n",
    "        \"explicit_horizontal_lines\": [245, 285]\n",
    "    }\n",
    "    \n",
    "    table_negocios = coluna_negocios.extract_table(negocios_settings)\n",
    "    print(table_negocios)\n",
    "    total_negocios = {}\n",
    "    i = 0\n",
    "    while i <= len(table_negocios) - 1:\n",
    "        negocio = {\n",
    "            \"CV\": table_negocios[i][0],\n",
    "            \"Mercadoria\": table_negocios[i][1],\n",
    "            \"Vencimento\": table_negocios[i][2],\n",
    "            \"Quantidade\": table_negocios[i][3],\n",
    "            \"Preco_Ajuste\": table_negocios[i][4],\n",
    "            \"Tipo_Do_Negocio\": table_negocios[i][5],\n",
    "            \"Vlr_de_Operacao_Ajuste_DC\": table_negocios[i][6],\n",
    "            \"Taxa_Operacional\": table_negocios[i][7]\n",
    "        }\n",
    "        total_negocios[f\"negocio{i}\"] = negocio\n",
    "        i += 1\n",
    "    print(total_negocios)\n",
    "\n",
    "im = coluna_negocios.to_image()\n",
    "im.draw_vlines([30, 50, 102, 165, 220, 280, 360, 460, 480, 555])\n",
    "im.draw_hlines([245, 285])"
   ]
  },
  {
   "cell_type": "code",
   "execution_count": 224,
   "id": "f72fc4d5",
   "metadata": {},
   "outputs": [
    {
     "name": "stdout",
     "output_type": "stream",
     "text": [
      "['0,00', '0,00', '0,00', '0,00', '92,00', '|', 'C']\n",
      "['0,00', '|', '-0,91', '0,22', '0,34', '0,16', '|', 'D']\n",
      "['0,00', '0,00', '0,00', '|', 'C', '92,00', '|', 'C', '0,72', '|', 'D']\n",
      "['0,00', '0,00', '|', 'C', '90,37', '|', 'C', '91,28', '|', 'C', '90,37', '|', 'C']\n"
     ]
    }
   ],
   "source": [
    "with pdfplumber.open(\"Terra.pdf\") as pdf:\n",
    "    page = pdf.pages[0]\n",
    "    all_text = ''\n",
    "    texto = page.extract_text()\n",
    "    for row in texto:\n",
    "        all_text += texto\n",
    "    row = all_text.split('\\n')\n",
    "    print(row[22].split())\n",
    "    print(row[24].split())\n",
    "    print(row[26].split())\n",
    "    print(row[28].split())"
   ]
  },
  {
   "cell_type": "code",
   "execution_count": 282,
   "id": "16428988",
   "metadata": {},
   "outputs": [
    {
     "name": "stdout",
     "output_type": "stream",
     "text": [
      "[['0,00', '', '0,00', '', '0,00', '', '0,00', '', '92,00 | C'], ['IRRF', '', 'IRRF Day Trade (Projeção)', '', 'Taxa operacional', '', 'Taxa registro BM&F', '', 'Taxa BM&F (emol + f.gar)'], ['0,00 |', '', '-0,91', '', '0,22', '', '0,34', '', '0,16 | D'], ['+ Outros Custos', '', 'I.S.S.', '', 'Ajuste de posição', '', 'Ajuste day trade', '', 'Total de despesas'], ['0,00', '', '0,00', '', '0,00 | C', '', '92,00 | C', '', '0,72 | D']]\n"
     ]
    },
    {
     "data": {
      "image/png": "[encoded data removed]",
      "text/plain": [
       "<pdfplumber.display.PageImage at 0x1d9f8672110>"
      ]
     },
     "execution_count": 282,
     "metadata": {},
     "output_type": "execute_result"
    }
   ],
   "source": [
    "with pdfplumber.open(\"Terra.pdf\") as pdf:\n",
    "    page = pdf.pages[0]\n",
    "    coluna_inferior = page.crop((20, 290, page.width, 385))\n",
    "    \n",
    "    inferior_settings = {\n",
    "        \"vertical_strategy\": \"lines\",\n",
    "        \"horizontal_strategy\": \"explicit\",\n",
    "        \"explicit_horizontal_lines\": [302, 312, 325, 335, 345, 355, 373, 378]\n",
    "    }\n",
    "    table_inferior = coluna_inferior.extract_table(inferior_settings)\n",
    "    print(table_inferior)\n",
    "    obj_dados = {\n",
    "        \"Vendas_Disponivel\": table_inferior[0][0],\n",
    "        \"Compras_Disponivel\": table_inferior[0][2],\n",
    "        \"Vendas_Opcoes\": table_inferior[0][4],\n",
    "        \"Compras_Opcoes\": table_inferior[0][6],\n",
    "        \"Valor_dos_Negocios\": table_inferior[0][8],\n",
    "        \"IRRF\": table_inferior[2][0],\n",
    "        \"IRRF_DayTrade\": table_inferior[2][2],\n",
    "        \"Taxa_Operacional\": table_inferior[2][4],\n",
    "        \"Taxa_Registro_BMeF\": table_inferior[2][6],\n",
    "        \"Taxa_BMeF_emol_gar\": table_inferior[2][8],\n",
    "        \"Outros_Custos\": table_inferior[4][0],\n",
    "        \"ISS\": table_inferior[4][2],\n",
    "        \"Ajuste_de_posicao\": table_inferior[4][4],\n",
    "        \"Ajuste_day_Trade\": table_inferior[4][6],\n",
    "        \"Total_de_despesas\": table_inferior[4][8]\n",
    "    }\n",
    "    #print(obj_dados)\n",
    "im = coluna_inferior.to_image()\n",
    "im.draw_vlines([])\n",
    "im.draw_hlines([\n",
    "    302, 312, 325, 335, 345, 355, 373, 378\n",
    "])"
   ]
  },
  {
   "cell_type": "code",
   "execution_count": 285,
   "id": "8fa0b7ae",
   "metadata": {},
   "outputs": [
    {
     "name": "stdout",
     "output_type": "stream",
     "text": [
      "[['0,00', '', '0,00 | C', '', '90,37 | C', '', '91,28 | C', '', '90,37 | C']]\n",
      "{'Vendas_Disponivel': '0,00', 'Compras_Disponivel': '0,00', 'Vendas_Opcoes': '0,00', 'Compras_Opcoes': '0,00', 'Valor_dos_Negocios': '92,00 | C', 'IRRF': '0,00 |', 'IRRF_DayTrade': '-0,91', 'Taxa_Operacional': '0,22', 'Taxa_Registro_BMeF': '0,34', 'Taxa_BMeF_emol_gar': '0,16 | D', 'Outros_Custos': '0,00', 'ISS': '0,00', 'Ajuste_de_posicao': '0,00 | C', 'Ajuste_day_Trade': '92,00 | C', 'Total_de_despesas': '0,72 | D', 'IRRF_Corretagem': '0,00', 'Total_Conta_Investimento': '0,00 | C', 'Total_Conta_Normal': '90,37 | C', 'Total_liquido': '91,28 | C', 'Total_liquido_da_nota': '90,37 | C'}\n"
     ]
    },
    {
     "data": {
      "image/png": "[encoded data removed]",
      "text/plain": [
       "<pdfplumber.display.PageImage at 0x1d9f844d050>"
      ]
     },
     "execution_count": 285,
     "metadata": {},
     "output_type": "execute_result"
    }
   ],
   "source": [
    "with pdfplumber.open(\"Terra.pdf\") as pdf:\n",
    "    page = pdf.pages[0]\n",
    "    coluna_inferior2 = page.crop((20, 370, page.width, 385))\n",
    "    \n",
    "    inferior2_settings = {\n",
    "        \"vertical_strategy\": \"lines\",\n",
    "        \"horizontal_strategy\": \"explicit\",\n",
    "        \"explicit_horizontal_lines\": [302, 312, 325, 335, 345, 355, 373, 378]\n",
    "    }\n",
    "    table_inferior2 = coluna_inferior2.extract_table(inferior2_settings)\n",
    "    print(table_inferior2)\n",
    "    obj_dados = {\n",
    "        \"Vendas_Disponivel\": table_inferior[0][0],\n",
    "        \"Compras_Disponivel\": table_inferior[0][2],\n",
    "        \"Vendas_Opcoes\": table_inferior[0][4],\n",
    "        \"Compras_Opcoes\": table_inferior[0][6],\n",
    "        \"Valor_dos_Negocios\": table_inferior[0][8],\n",
    "        \"IRRF\": table_inferior[2][0],\n",
    "        \"IRRF_DayTrade\": table_inferior[2][2],\n",
    "        \"Taxa_Operacional\": table_inferior[2][4],\n",
    "        \"Taxa_Registro_BMeF\": table_inferior[2][6],\n",
    "        \"Taxa_BMeF_emol_gar\": table_inferior[2][8],\n",
    "        \"Outros_Custos\": table_inferior[4][0],\n",
    "        \"ISS\": table_inferior[4][2],\n",
    "        \"Ajuste_de_posicao\": table_inferior[4][4],\n",
    "        \"Ajuste_day_Trade\": table_inferior[4][6],\n",
    "        \"Total_de_despesas\": table_inferior[4][8],\n",
    "        \"IRRF_Corretagem\": table_inferior2[0][0],\n",
    "        \"Total_Conta_Investimento\": table_inferior2[0][2],\n",
    "        \"Total_Conta_Normal\": table_inferior2[0][4],\n",
    "        \"Total_liquido\": table_inferior2[0][6],\n",
    "        \"Total_liquido_da_nota\": table_inferior2[0][8] \n",
    "    }\n",
    "    print(obj_dados)\n",
    "im = coluna_inferior2.to_image()\n",
    "im.draw_vlines([])\n",
    "im.draw_hlines([\n",
    "    302, 312, 325, 335, 345, 355, 373, 378\n",
    "])"
   ]
  },
  {
   "cell_type": "code",
   "execution_count": 294,
   "id": "dabb3e77",
   "metadata": {},
   "outputs": [
    {
     "name": "stdout",
     "output_type": "stream",
     "text": [
      "{'Dados_1': '+ Custos BM&F, conforme Ofício Circular BM&F 079/2007-DG.', 'Dados_2': '- Exercício de opções = EXO', 'Dados_3': '- OZ1 = 249,75 grs. / OZ2 = 9,990 grs. / OZ3 = 0,225 grs.', 'Dados_4': '* Negócios gerados automaticamente pelo sistema.', 'Dados_5': '# Vl. isento CPMF emenda constitucional 37 - (vl. informativo)', 'Dados_6': '@ Corretora ou Pessoa Vinculada atuou na Contra Parte', 'informacao_1': '** Valores pagos conforme previsão do Contrato de Transferência de negócios realizados na BMF (Repasse / Brokerage), celebrado entre as Corretoras Intermediadoras e a Corretora', 'informacao_2': '*** Taxa referente à liquidação das operações intermediadas por Terceiros _____________________________________________________________________ e as operações feitas integralmente pela Corretora. Terra Investimentos DTVM Ltda'}\n"
     ]
    }
   ],
   "source": [
    "with pdfplumber.open(\"Terra.pdf\") as pdf:\n",
    "    page = pdf.pages[0]\n",
    "    all_text = ''\n",
    "    texto = page.extract_text()\n",
    "    for row in texto:\n",
    "        all_text += texto\n",
    "    row = all_text.split('\\n')\n",
    "\n",
    "    obj_resumo = {\n",
    "        \"Dados_1\": row[-11],\n",
    "        \"Dados_2\": row[-10],\n",
    "        \"Dados_3\": row[-9],\n",
    "        \"Dados_4\": row[-8],\n",
    "        \"Dados_5\": row[-7],\n",
    "        \"Dados_6\": row[-6],\n",
    "        \"informacao_1\": f\"{row[-5]} {row[-4]} {row[-3]}\",\n",
    "        \"informacao_2\": f\"{row[-2]} {row[-1]}\"\n",
    "    }\n",
    "    print(obj_resumo)"
   ]
  },
  {
   "cell_type": "code",
   "execution_count": null,
   "id": "9000fc5e",
   "metadata": {},
   "outputs": [],
   "source": [
    " \"Dados_2\": row[-9],\n",
    "        \"Dados_3\": row[-8],\n",
    "        \"Informacao_1\": row[-7],\n",
    "        \"Informacao_2\": row[-6],\n",
    "        \"Informacao_3\": f\"{row[-5]} {row[-4]}\",\n",
    "        \"Informacao_4\": f\"{row[-3]} {row[-2]}\",\n",
    "        \"Adicional\": row[-1]"
   ]
  }
 ],
 "metadata": {
  "kernelspec": {
   "display_name": "Python 3 (ipykernel)",
   "language": "python",
   "name": "python3"
  },
  "language_info": {
   "codemirror_mode": {
    "name": "ipython",
    "version": 3
   },
   "file_extension": ".py",
   "mimetype": "text/x-python",
   "name": "python",
   "nbconvert_exporter": "python",
   "pygments_lexer": "ipython3",
   "version": "3.11.4"
  }
 },
 "nbformat": 4,
 "nbformat_minor": 5
}
