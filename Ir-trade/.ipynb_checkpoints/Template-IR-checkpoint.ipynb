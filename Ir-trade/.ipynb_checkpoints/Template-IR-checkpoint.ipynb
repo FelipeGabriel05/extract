{
 "cells": [
  {
   "cell_type": "code",
   "execution_count": 1,
   "id": "a3aeac7e",
   "metadata": {},
   "outputs": [],
   "source": [
    "import pdfplumber"
   ]
  },
  {
   "cell_type": "code",
   "execution_count": 16,
   "id": "228a856c",
   "metadata": {
    "scrolled": true
   },
   "outputs": [
    {
     "name": "stdout",
     "output_type": "stream",
     "text": [
      "{'mes1': {'Mes': 'JANEIRO', 'Total_no_mes': 'R$ 0,00'}, 'mes2': {'Mes': 'FEVEREIRO', 'Total_no_mes': 'R$ 0,00'}, 'mes3': {'Mes': 'MARCO', 'Total_no_mes': 'R$ 0,00'}, 'mes4': {'Mes': 'ABRIL', 'Total_no_mes': 'R$ 0,00'}, 'mes5': {'Mes': 'MAIO', 'Total_no_mes': 'R$ 0,00'}, 'mes6': {'Mes': 'JUNHO', 'Total_no_mes': 'R$ 0,00'}, 'mes7': {'Mes': 'JULHO', 'Total_no_mes': 'R$ 0,00'}, 'mes8': {'Mes': 'AGOSTO', 'Total_no_mes': 'R$ 118,25'}, 'mes9': {'Mes': 'SETEMBRO', 'Total_no_mes': 'R$ 0,00'}, 'mes10': {'Mes': 'OUTUBRO', 'Total_no_mes': 'R$ 0,00'}, 'mes11': {'Mes': 'NOVEMBRO', 'Total_no_mes': 'R$ 0,00'}, 'mes12': {'Mes': 'DEZEMBRO', 'Total_no_mes': 'R$ 0,00'}}\n",
      "{'titulo_vendas': 'Vendas Isentas - Mercado à Vista', 'Cod_Lancamento': '20', 'Total': 'R$ 118,25', 'total_mes': {'mes1': {'Mes': 'JANEIRO', 'Total_no_mes': 'R$ 0,00'}, 'mes2': {'Mes': 'FEVEREIRO', 'Total_no_mes': 'R$ 0,00'}, 'mes3': {'Mes': 'MARCO', 'Total_no_mes': 'R$ 0,00'}, 'mes4': {'Mes': 'ABRIL', 'Total_no_mes': 'R$ 0,00'}, 'mes5': {'Mes': 'MAIO', 'Total_no_mes': 'R$ 0,00'}, 'mes6': {'Mes': 'JUNHO', 'Total_no_mes': 'R$ 0,00'}, 'mes7': {'Mes': 'JULHO', 'Total_no_mes': 'R$ 0,00'}, 'mes8': {'Mes': 'AGOSTO', 'Total_no_mes': 'R$ 118,25'}, 'mes9': {'Mes': 'SETEMBRO', 'Total_no_mes': 'R$ 0,00'}, 'mes10': {'Mes': 'OUTUBRO', 'Total_no_mes': 'R$ 0,00'}, 'mes11': {'Mes': 'NOVEMBRO', 'Total_no_mes': 'R$ 0,00'}, 'mes12': {'Mes': 'DEZEMBRO', 'Total_no_mes': 'R$ 0,00'}}}\n"
     ]
    },
    {
     "data": {
      "image/png": "[encoded data removed]",
      "text/plain": [
       "<pdfplumber.display.PageImage at 0x1aef94fc250>"
      ]
     },
     "execution_count": 16,
     "metadata": {},
     "output_type": "execute_result"
    }
   ],
   "source": [
    "with pdfplumber.open('48976_informe_para_imposto_renda_ano_calendario_2021.pdf') as pdf:\n",
    "    page = pdf.pages[1]\n",
    "    coluna_table = page.crop((20, 190, page.width, 415))\n",
    "    table_settings = {\n",
    "        \"vertical_strategy\": \"explicit\",\n",
    "        \"horizontal_strategy\": \"lines\",\n",
    "        \"explicit_vertical_lines\": [105, 310, 410, 498],\n",
    "        \"explicit_horizontal_lines\": [190, 204, 215, 230, 245, 260, 275, 290, 305, 320, 335, 350,\n",
    "    365, 380, 395, 406]\n",
    "    }\n",
    "    tabela_meses = coluna_table.extract_table(table_settings)\n",
    "    \n",
    "    i = 3\n",
    "    meses_lista = []\n",
    "    while i <= len(tabela_meses) - 2:\n",
    "        mes = {\n",
    "            \"Mes\": tabela_meses[i][0],\n",
    "            \"Total_no_mes\": tabela_meses[i][2]\n",
    "        }\n",
    "        meses_lista.append(mes) \n",
    "        i += 1\n",
    "   \n",
    "    print(total_mes)\n",
    "    \n",
    "    obj_vendas_isentas = {\n",
    "        \"titulo_vendas\": tabela_meses[0][0],\n",
    "        \"Cod_Lancamento\": tabela_meses[1][1],\n",
    "        \"Total\": tabela_meses[1][2],\n",
    "        \"total_mes\" : {\n",
    "            \"mes1\": meses_lista[0],\n",
    "            \"mes2\": meses_lista[1],\n",
    "            \"mes3\": meses_lista[2],\n",
    "            \"mes4\": meses_lista[3],\n",
    "            \"mes5\": meses_lista[4],\n",
    "            \"mes6\": meses_lista[5],\n",
    "            \"mes7\": meses_lista[6],\n",
    "            \"mes8\": meses_lista[7],\n",
    "            \"mes9\": meses_lista[8],\n",
    "            \"mes10\": meses_lista[9],\n",
    "            \"mes11\": meses_lista[10],\n",
    "            \"mes12\": meses_lista[11]\n",
    "        }\n",
    "    }\n",
    "    print(obj_vendas_isentas)\n",
    "im = coluna_table.to_image()\n",
    "im.draw_vlines([105, 310, 410, 498])\n",
    "im.draw_hlines([\n",
    "    190, 204, 215, 230, 245, 260, 275, 290, 305, 320, 335, 350,\n",
    "    365, 380, 395, 406\n",
    "])"
   ]
  },
  {
   "cell_type": "code",
   "execution_count": 13,
   "id": "f0dea72b",
   "metadata": {},
   "outputs": [
    {
     "name": "stdout",
     "output_type": "stream",
     "text": [
      "{'DISCLAIMER:': '20 - Ganhos líquidos em operações no mercado à vista de ações negociadas em bolsa de valores nas alienações realizadas até R$ 20.000,00 em cada mês, para o conjunto de ações. Os cálculos aqui apresentados estão em conformidade com a instrução RFB Nº 1585, de 31 de agosto de 2015(vigente).'}\n"
     ]
    }
   ],
   "source": [
    "with pdfplumber.open('48976_informe_para_imposto_renda_ano_calendario_2021.pdf') as pdf:\n",
    "        page = pdf.pages[1]\n",
    "        all_text = ''\n",
    "        text = page.extract_text()\n",
    "        for row in text:\n",
    "            all_text += text\n",
    "        row = all_text.split('\\n')\n",
    "        obj_adicional = {\n",
    "            row[-6]: f\"{row[-4]} {row[-3]} {row[-2]}\"\n",
    "        }\n",
    "        print(obj_adicional)"
   ]
  },
  {
   "cell_type": "code",
   "execution_count": 20,
   "id": "427fce99",
   "metadata": {},
   "outputs": [
    {
     "name": "stdout",
     "output_type": "stream",
     "text": [
      "Sugestão de Lançamento no campo Discriminação:\n",
      "\"100 opções de PETRA25 PN com vencimento em 21/01/2019 e custo médio unitário de R$ 0,58.\"\n",
      "BOVESPA - OPÇÕES\n"
     ]
    }
   ],
   "source": [
    "with pdfplumber.open('48976_informe_para_imposto_renda_ano_calendario_2021.pdf') as pdf:\n",
    "        page = pdf.pages[2]\n",
    "        all_text = ''\n",
    "        text = page.extract_text()\n",
    "        for row in text:\n",
    "            all_text += text\n",
    "        row = all_text.split('\\n')\n",
    "        print(row[7])\n",
    "        print(row[8])\n",
    "        \n",
    "        print(row[9])"
   ]
  },
  {
   "cell_type": "code",
   "execution_count": 102,
   "id": "eee34736",
   "metadata": {},
   "outputs": [
    {
     "name": "stdout",
     "output_type": "stream",
     "text": [
      "{'Total_negocios': {'negocio_0': {'Corretora': 'XP', 'CV': 'C', 'Grupo': '4', 'Codigo': '4', 'Empresa': 'ISHARES BOVA', 'CNPJ': '10.406.511/0001-61', 'Ativo': 'BOVAM900', 'Vencimento': '21/01/2022', 'Qtd': '3700', 'Custo_medio': 'R$ 0,50', 'Total_cTaxas': 'R$ 1.862,79'}, 'negocio_1': {'Corretora': 'XP', 'CV': 'C', 'Grupo': '4', 'Codigo': '4', 'Empresa': 'ITAUSA INVESTIMENTOS ITAU S.A.', 'CNPJ': '61.532.644/0001-15', 'Ativo': 'ITSAB115', 'Vencimento': '18/02/2022', 'Qtd': '9715', 'Custo_medio': 'R$ 0,06', 'Total_cTaxas': 'R$ 598,57'}, 'negocio_2': {'Corretora': 'XP', 'CV': 'C', 'Grupo': '4', 'Codigo': '4', 'Empresa': 'MAGAZINE LUIZA S.A.', 'CNPJ': '47.960.950/0001-21', 'Ativo': 'MGLUA100', 'Vencimento': '21/01/2022', 'Qtd': '10200', 'Custo_medio': 'R$ 0,10', 'Total_cTaxas': 'R$ 1.013,70'}}, 'Total_de_posicao': 'R$ 3.475,05'}\n"
     ]
    },
    {
     "data": {
      "image/png": "[encoded data removed]",
      "text/plain": [
       "<pdfplumber.display.PageImage at 0x1ae8619a890>"
      ]
     },
     "execution_count": 102,
     "metadata": {},
     "output_type": "execute_result"
    }
   ],
   "source": [
    "with pdfplumber.open('48976_informe_para_imposto_renda_ano_calendario_2021.pdf') as pdf:\n",
    "    page = pdf.pages[2]\n",
    "    coluna_bovespa = page.crop((20, 250, page.width, 320))\n",
    "    bovespa_settings = {\n",
    "        \"vertical_strategy\": \"explicit\",\n",
    "        \"horizontal_strategy\": \"lines\",\n",
    "        \"explicit_vertical_lines\": [40, 130, 160, 200, 250, 390, 480, 540, 610, 638, 730, 800],\n",
    "        \"explicit_horizontal_lines\": [258, 268, 285, 305, 315]\n",
    "    }\n",
    "    tabela_bovespa = coluna_bovespa.extract_table(bovespa_settings)\n",
    "    #print(tabela_bovespa)\n",
    "    \n",
    "    total_negocios = {}\n",
    "    total_increment = 0\n",
    "    while total_increment <= len(tabela_bovespa) - 2:\n",
    "        negocio = {\n",
    "            \"Corretora\": tabela_bovespa[total_increment][0],\n",
    "            \"CV\": tabela_bovespa[total_increment][1],\n",
    "            \"Grupo\": tabela_bovespa[total_increment][2],\n",
    "            \"Codigo\": tabela_bovespa[total_increment][3],\n",
    "            \"Empresa\": tabela_bovespa[total_increment][4],\n",
    "            \"CNPJ\": tabela_bovespa[total_increment][5],\n",
    "            \"Ativo\": tabela_bovespa[total_increment][6],\n",
    "            \"Vencimento\": tabela_bovespa[total_increment][7],\n",
    "            \"Qtd\": tabela_bovespa[total_increment][8],\n",
    "            \"Custo_medio\": tabela_bovespa[total_increment][9],\n",
    "            \"Total_cTaxas\": tabela_bovespa[total_increment][10],\n",
    "        }\n",
    "        total_negocios[f\"negocio_{total_increment}\"] = negocio\n",
    "        total_increment += 1\n",
    "    \n",
    "    obj_bovespa = {\n",
    "        \"Total_negocios\": total_negocios,\n",
    "        \"Total_de_posicao\": tabela_bovespa[-1][-1]\n",
    "    }\n",
    "    print(obj_bovespa)\n",
    "im = coluna_bovespa.to_image()\n",
    "im.draw_vlines([\n",
    "    40, 130, 160, 200, 250, 390, 480, 540, 610, 638, 730, 800\n",
    "])\n",
    "im.draw_hlines([\n",
    "    258, 268, 285, 305, 315\n",
    "])"
   ]
  },
  {
   "cell_type": "code",
   "execution_count": 226,
   "id": "a4956ecc",
   "metadata": {},
   "outputs": [
    {
     "name": "stdout",
     "output_type": "stream",
     "text": [
      "{'Mês Base': 'JANEIRO', 'Mercado à vista': {'Mercado à vista - ações': {'Operações comuns': '0,00', 'Day-Trade': '0,00'}, 'Mercado à vista - ouro': {'Operações comuns': '0,00', 'Day-Trade': '0'}, 'Mercado à vista - outro at. fin. fora bolsa': {'Operações comuns': '0,00', 'Day-Trade': '0'}}, 'Mercado Opções': {'Mercado opções - ações': {'Operações comuns': '-322,25', 'Day-Trade': '-95,63'}, 'Mercado opções - ouro': {'Operações comuns': '0,00', 'Day-Trade': '0,00'}, 'Mercado opções - fora bolsa': {'Operações comuns': '0,00', 'Day-Trade': '0,00'}, 'Mercado opções - outros': {'Operações comuns': '0,00', 'Day-Trade': '0,00'}}, 'Mercado Futuro': {'Mercado à vista - dólar dos EUA': {'Operações comuns': '0,00', 'Day-Trade': '0,00'}, 'Mercado à vista - índices': {'Operações comuns': '0,00', 'Day-Trade': '0,00'}, 'Mercado à vista - juros': {'Operações comuns': '0,00', 'Day-Trade': '0,00'}, 'Mercado à vista - outros': {'Operações comuns': '0,00', 'Day-Trade': '0,00'}}, 'Mercado Termo': {'Mercado a termo - ações/outro': {'Operações comuns': '0,00', 'Day-Trade': '0,00'}, 'Mercado opções - outros': {'Operações comuns': '0,00', 'Day-Trade': '0,00'}}, 'Resultados': {'RESULTADO LIQUÍDO DO MÊS': {'Operações comuns': '-322,25', 'Day-Trade': '-95,63'}, 'Resultado negativo até o mês anterior': {'Operações comuns': '0,00', 'Day-Trade': '12,24'}, 'BASE DE CÁLCULO DO IMPOSTO': {'Operações comuns': '0,00', 'Day-Trade': '0,00'}, 'Prejuízo a compensar': {'Operações comuns': '322,25', 'Day-Trade': '107,87'}, 'Alíquota do imposto': {'Operações comuns': '15%', 'Day-Trade': '20%'}, 'IMPOSTO DEVIDO': {'Operações comuns': '0,00', 'Day-Trade': '0,00'}}, 'Consolidação do Mês': {'Total do imposto devido': '0,00', 'IR Fonte de Day-Trade no mês': '0,00', 'IR Fonte de Day-Trade nos meses anteriores': '0,00', 'IR Fonte de Day-Trade a compensar': '0,00', 'IR Fonte (lei nº 11.033/2004) no mês': '0,00', 'IR Fonte (lei nº 11.033/2004) nos meses anteriores': '0,00', 'IR Fonte (lei nº 11.033/2004) meses a compensar': '0,00', 'Imposto a pagar': '0,00', 'Imposto pago': '0,00', 'obs': '(*) indicar o valor do imposto pago'}}\n"
     ]
    },
    {
     "ename": "IndexError",
     "evalue": "list index out of range",
     "output_type": "error",
     "traceback": [
      "\u001b[1;31m---------------------------------------------------------------------------\u001b[0m",
      "\u001b[1;31mIndexError\u001b[0m                                Traceback (most recent call last)",
      "Cell \u001b[1;32mIn[226], line 139\u001b[0m\n\u001b[0;32m     93\u001b[0m mercado_termo \u001b[38;5;241m=\u001b[39m {\n\u001b[0;32m     94\u001b[0m     termo_acoes: {\n\u001b[0;32m     95\u001b[0m         \u001b[38;5;124m\"\u001b[39m\u001b[38;5;124mOperações comuns\u001b[39m\u001b[38;5;124m\"\u001b[39m: table_mercado[\u001b[38;5;241m19\u001b[39m][\u001b[38;5;241m1\u001b[39m], \n\u001b[1;32m   (...)\u001b[0m\n\u001b[0;32m    101\u001b[0m     }\n\u001b[0;32m    102\u001b[0m }\n\u001b[0;32m    104\u001b[0m resultados \u001b[38;5;241m=\u001b[39m {\n\u001b[0;32m    105\u001b[0m     \u001b[38;5;124m\"\u001b[39m\u001b[38;5;124mRESULTADO LIQUÍDO DO MÊS\u001b[39m\u001b[38;5;124m\"\u001b[39m: {\n\u001b[0;32m    106\u001b[0m         \u001b[38;5;124m\"\u001b[39m\u001b[38;5;124mOperações comuns\u001b[39m\u001b[38;5;124m\"\u001b[39m: table_mercado[\u001b[38;5;241m23\u001b[39m][\u001b[38;5;241m1\u001b[39m], \n\u001b[1;32m   (...)\u001b[0m\n\u001b[0;32m    128\u001b[0m     }\n\u001b[0;32m    129\u001b[0m }\n\u001b[0;32m    131\u001b[0m consolidacao_mes \u001b[38;5;241m=\u001b[39m {\n\u001b[0;32m    132\u001b[0m     \u001b[38;5;124mf\u001b[39m\u001b[38;5;124m\"\u001b[39m\u001b[38;5;132;01m{\u001b[39;00mtable_mercado[\u001b[38;5;241m31\u001b[39m][\u001b[38;5;241m0\u001b[39m]\u001b[38;5;132;01m}\u001b[39;00m\u001b[38;5;124m\"\u001b[39m: table_mercado[\u001b[38;5;241m31\u001b[39m][\u001b[38;5;241m2\u001b[39m],\n\u001b[0;32m    133\u001b[0m     \u001b[38;5;124mf\u001b[39m\u001b[38;5;124m\"\u001b[39m\u001b[38;5;132;01m{\u001b[39;00mtable_mercado[\u001b[38;5;241m32\u001b[39m][\u001b[38;5;241m0\u001b[39m]\u001b[38;5;132;01m}\u001b[39;00m\u001b[38;5;124m\"\u001b[39m: table_mercado[\u001b[38;5;241m32\u001b[39m][\u001b[38;5;241m2\u001b[39m],\n\u001b[0;32m    134\u001b[0m     \u001b[38;5;124mf\u001b[39m\u001b[38;5;124m\"\u001b[39m\u001b[38;5;132;01m{\u001b[39;00mtable_mercado[\u001b[38;5;241m33\u001b[39m][\u001b[38;5;241m0\u001b[39m]\u001b[38;5;132;01m}\u001b[39;00m\u001b[38;5;124m\"\u001b[39m: table_mercado[\u001b[38;5;241m33\u001b[39m][\u001b[38;5;241m2\u001b[39m],\n\u001b[0;32m    135\u001b[0m     \u001b[38;5;124mf\u001b[39m\u001b[38;5;124m\"\u001b[39m\u001b[38;5;132;01m{\u001b[39;00mtable_mercado[\u001b[38;5;241m35\u001b[39m][\u001b[38;5;241m0\u001b[39m]\u001b[38;5;132;01m}\u001b[39;00m\u001b[38;5;124m\"\u001b[39m: table_mercado[\u001b[38;5;241m35\u001b[39m][\u001b[38;5;241m2\u001b[39m],\n\u001b[0;32m    136\u001b[0m     \u001b[38;5;124mf\u001b[39m\u001b[38;5;124m\"\u001b[39m\u001b[38;5;132;01m{\u001b[39;00mtable_mercado[\u001b[38;5;241m36\u001b[39m][\u001b[38;5;241m0\u001b[39m]\u001b[38;5;132;01m}\u001b[39;00m\u001b[38;5;124m\"\u001b[39m: table_mercado[\u001b[38;5;241m36\u001b[39m][\u001b[38;5;241m2\u001b[39m],\n\u001b[0;32m    137\u001b[0m     \u001b[38;5;124mf\u001b[39m\u001b[38;5;124m\"\u001b[39m\u001b[38;5;132;01m{\u001b[39;00mtable_mercado[\u001b[38;5;241m37\u001b[39m][\u001b[38;5;241m0\u001b[39m]\u001b[38;5;132;01m}\u001b[39;00m\u001b[38;5;124m\"\u001b[39m: table_mercado[\u001b[38;5;241m37\u001b[39m][\u001b[38;5;241m2\u001b[39m],\n\u001b[0;32m    138\u001b[0m     \u001b[38;5;124mf\u001b[39m\u001b[38;5;124m\"\u001b[39m\u001b[38;5;132;01m{\u001b[39;00mtable_mercado[\u001b[38;5;241m38\u001b[39m][\u001b[38;5;241m0\u001b[39m]\u001b[38;5;132;01m}\u001b[39;00m\u001b[38;5;124m\"\u001b[39m: table_mercado[\u001b[38;5;241m38\u001b[39m][\u001b[38;5;241m2\u001b[39m],\n\u001b[1;32m--> 139\u001b[0m     \u001b[38;5;124mf\u001b[39m\u001b[38;5;124m\"\u001b[39m\u001b[38;5;132;01m{\u001b[39;00mtable_mercado[\u001b[38;5;241m39\u001b[39m][\u001b[38;5;241m0\u001b[39m]\u001b[38;5;132;01m}\u001b[39;00m\u001b[38;5;124m\"\u001b[39m: table_mercado[\u001b[38;5;241m40\u001b[39m][\u001b[38;5;241m2\u001b[39m],\n\u001b[0;32m    140\u001b[0m     \u001b[38;5;124mf\u001b[39m\u001b[38;5;124m\"\u001b[39m\u001b[38;5;132;01m{\u001b[39;00mtable_mercado[\u001b[38;5;241m41\u001b[39m][\u001b[38;5;241m0\u001b[39m]\u001b[38;5;132;01m}\u001b[39;00m\u001b[38;5;124m\"\u001b[39m: table_mercado[\u001b[38;5;241m41\u001b[39m][\u001b[38;5;241m2\u001b[39m],\n\u001b[0;32m    141\u001b[0m     \u001b[38;5;124m\"\u001b[39m\u001b[38;5;124mobs\u001b[39m\u001b[38;5;124m\"\u001b[39m: table_mercado[\u001b[38;5;241m41\u001b[39m][\u001b[38;5;241m1\u001b[39m]\n\u001b[0;32m    142\u001b[0m }\n\u001b[0;32m    144\u001b[0m mercado \u001b[38;5;241m=\u001b[39m {\n\u001b[0;32m    145\u001b[0m     \u001b[38;5;124m\"\u001b[39m\u001b[38;5;124mMês Base\u001b[39m\u001b[38;5;124m\"\u001b[39m: mes[\u001b[38;5;241m-\u001b[39m\u001b[38;5;241m1\u001b[39m],\n\u001b[0;32m    146\u001b[0m     \u001b[38;5;124m\"\u001b[39m\u001b[38;5;124mMercado à vista\u001b[39m\u001b[38;5;124m\"\u001b[39m: mercado_vista,\n\u001b[1;32m   (...)\u001b[0m\n\u001b[0;32m    151\u001b[0m     \u001b[38;5;124m\"\u001b[39m\u001b[38;5;124mConsolidação do Mês\u001b[39m\u001b[38;5;124m\"\u001b[39m: consolidacao_mes\n\u001b[0;32m    152\u001b[0m }\n\u001b[0;32m    153\u001b[0m \u001b[38;5;28mprint\u001b[39m(mercado)\n",
      "\u001b[1;31mIndexError\u001b[0m: list index out of range"
     ]
    }
   ],
   "source": [
    "total_meses = 3\n",
    "with pdfplumber.open('48976_informe_para_imposto_renda_ano_calendario_2021.pdf') as pdf:\n",
    "    while total_meses <= 14:\n",
    "        page = pdf.pages[total_meses]\n",
    "        all_text = ''\n",
    "        text = page.extract_text()\n",
    "        for row in text:\n",
    "            all_text += text\n",
    "        row = all_text.split('\\n')\n",
    "        mes = row[7].split()\n",
    "        coluna_mercado = page.crop((20, 160, page.width, 770))\n",
    "        mercado_settings = {\n",
    "            \"vertical_strategy\": \"explicit\",\n",
    "            \"horizontal_strategy\": \"lines\",\n",
    "            \"explicit_vertical_lines\": [39, 230, 420, 555],\n",
    "            \"explicit_horizontal_lines\": [\n",
    "                164, 174, 194, 214, 234,\n",
    "                250, 268, 280, 300, 320,\n",
    "                340, 350, 370, 390, 400,\n",
    "                420, 440, 460,\n",
    "                480, 495, 508, 528, 545, 562, 575, 600,\n",
    "                618, 638, 658, 670, 690, 705, 715, 735, 750\n",
    "            ]\n",
    "        }\n",
    "        table_mercado = coluna_mercado.extract_table(mercado_settings)\n",
    "\n",
    "        vista_acoes = f\"{table_mercado[1][0]}\"\n",
    "        vista_ouro = f\"{table_mercado[2][0]}\"\n",
    "        vista_fora_bolsa = f\"{table_mercado[3][0]}\"\n",
    "        mercado_vista = {\n",
    "            vista_acoes: {\n",
    "                \"Operações comuns\": table_mercado[1][1],\n",
    "                \"Day-Trade\": table_mercado[1][2]\n",
    "            },        \n",
    "            vista_ouro: {\n",
    "                \"Operações comuns\": table_mercado[2][1], \n",
    "                \"Day-Trade\": table_mercado[2][2]\n",
    "            },\n",
    "            vista_fora_bolsa: {\n",
    "                \"Operações comuns\": table_mercado[3][1], \n",
    "                \"Day-Trade\": table_mercado[3][2]\n",
    "            }\n",
    "        }\n",
    "\n",
    "        opcoes_acoes = f\"{table_mercado[6][0]}\"\n",
    "        opcoes_ouro = f\"{table_mercado[7][0]}\"\n",
    "        opcoes_fora_bolsa = f\"{table_mercado[8][0]}\"\n",
    "        opcoes_outros = f\"{table_mercado[9][0]}\"\n",
    "        mercado_opcoes = {\n",
    "            opcoes_acoes: {\n",
    "                \"Operações comuns\": table_mercado[6][1], \n",
    "                \"Day-Trade\": table_mercado[6][2]\n",
    "            },\n",
    "            opcoes_ouro: {\n",
    "                \"Operações comuns\": table_mercado[7][1], \n",
    "                \"Day-Trade\": table_mercado[7][2]\n",
    "            },\n",
    "            opcoes_fora_bolsa: {\n",
    "                \"Operações comuns\": table_mercado[8][1], \n",
    "                \"Day-Trade\": table_mercado[8][2]\n",
    "            },\n",
    "            opcoes_outros: {\n",
    "                \"Operações comuns\": table_mercado[9][1], \n",
    "                \"Day-Trade\": table_mercado[9][2]\n",
    "            }\n",
    "        }\n",
    "\n",
    "        futuro_dolar = f\"{table_mercado[12][0]}\"\n",
    "        futuro_indice = f\"{table_mercado[13][0]}\"\n",
    "        futuro_juros = f\"{table_mercado[14][0]}\"\n",
    "        futuro_outros = f\"{table_mercado[15][0]}\"\n",
    "        mercado_futuro = {\n",
    "            futuro_dolar: {\n",
    "                \"Operações comuns\": table_mercado[12][1], \n",
    "                \"Day-Trade\": table_mercado[12][2]\n",
    "            },\n",
    "            futuro_indice: {\n",
    "                \"Operações comuns\": table_mercado[13][1], \n",
    "                \"Day-Trade\": table_mercado[13][2]\n",
    "            },\n",
    "            futuro_juros: {\n",
    "                \"Operações comuns\": table_mercado[14][1], \n",
    "                \"Day-Trade\": table_mercado[14][2]\n",
    "            },\n",
    "            futuro_outros: {\n",
    "                \"Operações comuns\": table_mercado[15][1], \n",
    "                \"Day-Trade\": table_mercado[15][2]\n",
    "            },\n",
    "        }\n",
    "\n",
    "        termo_acoes = f\"{table_mercado[19][0]}\"\n",
    "        termo_outros = f\"{table_mercado[20][0]}\"\n",
    "        mercado_termo = {\n",
    "            termo_acoes: {\n",
    "                \"Operações comuns\": table_mercado[19][1], \n",
    "                \"Day-Trade\": table_mercado[19][2]\n",
    "            },\n",
    "            termo_outros: {\n",
    "                \"Operações comuns\": table_mercado[20][1], \n",
    "                \"Day-Trade\": table_mercado[20][2]\n",
    "            }\n",
    "        }\n",
    "\n",
    "        resultados = {\n",
    "            \"RESULTADO LIQUÍDO DO MÊS\": {\n",
    "                \"Operações comuns\": table_mercado[23][1], \n",
    "                \"Day-Trade\": table_mercado[23][2]\n",
    "            },\n",
    "            \"Resultado negativo até o mês anterior\": {\n",
    "                \"Operações comuns\": table_mercado[24][1], \n",
    "                \"Day-Trade\": table_mercado[24][2]\n",
    "            },\n",
    "            \"BASE DE CÁLCULO DO IMPOSTO\": {\n",
    "                \"Operações comuns\": table_mercado[25][1], \n",
    "                \"Day-Trade\": table_mercado[25][2]\n",
    "            },\n",
    "            \"Prejuízo a compensar\": {\n",
    "                \"Operações comuns\": table_mercado[26][1], \n",
    "                \"Day-Trade\": table_mercado[26][2]\n",
    "            },\n",
    "            \"Alíquota do imposto\": {\n",
    "                \"Operações comuns\": table_mercado[27][1], \n",
    "                \"Day-Trade\": table_mercado[27][2]\n",
    "            },\n",
    "            \"IMPOSTO DEVIDO\": {\n",
    "                \"Operações comuns\": table_mercado[28][1], \n",
    "                \"Day-Trade\": table_mercado[28][2]\n",
    "            }\n",
    "        }\n",
    "\n",
    "        consolidacao_mes = {\n",
    "            f\"{table_mercado[31][0]}\": table_mercado[31][2],\n",
    "            f\"{table_mercado[32][0]}\": table_mercado[32][2],\n",
    "            f\"{table_mercado[33][0]}\": table_mercado[33][2],\n",
    "            f\"{table_mercado[35][0]}\": table_mercado[35][2],\n",
    "            f\"{table_mercado[36][0]}\": table_mercado[36][2],\n",
    "            f\"{table_mercado[37][0]}\": table_mercado[37][2],\n",
    "            f\"{table_mercado[38][0]}\": table_mercado[38][2],\n",
    "            f\"{table_mercado[39][0]}\": table_mercado[40][2],\n",
    "            f\"{table_mercado[41][0]}\": table_mercado[41][2],\n",
    "            \"obs\": table_mercado[41][1]\n",
    "        }\n",
    "        \n",
    "        mercado = {\n",
    "            \"Mês Base\": mes[-1],\n",
    "            \"Mercado à vista\": mercado_vista,\n",
    "            \"Mercado Opções\": mercado_opcoes,\n",
    "            \"Mercado Futuro\": mercado_futuro,\n",
    "            \"Mercado Termo\": mercado_termo,\n",
    "            \"Resultados\": resultados,\n",
    "            \"Consolidação do Mês\": consolidacao_mes\n",
    "        }\n",
    "        print(mercado)\n",
    "        total_meses += 1\n",
    "        \n",
    "\n",
    "im = coluna_mercado.to_image()\n",
    "im.draw_vlines([40, 230, 420, 555])\n",
    "im.draw_hlines([\n",
    "    164, 174, 194, 214, 234,\n",
    "    250, 268, 280, 300, 320,\n",
    "    340, 350, 370, 390, 400,\n",
    "    420, 440, 460,\n",
    "    480, 495, 508, 528, 545, 562, 575, 600,\n",
    "    618, 638, 658, 670, 690, 705, 715, 735, 750\n",
    "])"
   ]
  },
  {
   "cell_type": "code",
   "execution_count": 224,
   "id": "a7f4dc21",
   "metadata": {},
   "outputs": [
    {
     "name": "stdout",
     "output_type": "stream",
     "text": [
      "['Mês', 'base', '-', 'JANEIRO']\n",
      "['Mês', 'base', '-', 'FEVEREIRO']\n",
      "['Mês', 'base', '-', 'MARCO']\n",
      "['Mês', 'base', '-', 'ABRIL']\n",
      "['Mês', 'base', '-', 'MAIO']\n",
      "['Mês', 'base', '-', 'JUNHO']\n",
      "['Mês', 'base', '-', 'JULHO']\n",
      "['Mês', 'base', '-', 'AGOSTO']\n",
      "['Mês', 'base', '-', 'SETEMBRO']\n",
      "['Mês', 'base', '-', 'OUTUBRO']\n",
      "['Mês', 'base', '-', 'NOVEMBRO']\n",
      "['Mês', 'base', '-', 'DEZEMBRO']\n"
     ]
    }
   ],
   "source": [
    "total_meses = 3\n",
    "with pdfplumber.open('48976_informe_para_imposto_renda_ano_calendario_2021.pdf') as pdf:\n",
    "    while total_meses <= 14:\n",
    "        page = pdf.pages[total_meses]\n",
    "        all_text = ''\n",
    "        text = page.extract_text()\n",
    "        for row in text:\n",
    "            all_text += text\n",
    "        row = all_text.split('\\n')\n",
    "        print(row[7].split())\n",
    "        total_meses += 1"
   ]
  },
  {
   "cell_type": "code",
   "execution_count": 327,
   "id": "91d28538",
   "metadata": {},
   "outputs": [
    {
     "name": "stdout",
     "output_type": "stream",
     "text": [
      "{'Mercado à vista - ações': {'Operações comuns': '-187,59', 'Day-Trade': '-26,72'}, 'Mercado à vista - ouro': {'Operações comuns': '0,00', 'Day-Trade': '0'}, 'Mercado à vista - outro at. fin. fora bolsa': {'Operações comuns': '0,00', 'Day-Trade': '0'}}\n"
     ]
    },
    {
     "data": {
      "image/png": "[encoded data removed]",
      "text/plain": [
       "<pdfplumber.display.PageImage at 0x1aec17d79d0>"
      ]
     },
     "execution_count": 327,
     "metadata": {},
     "output_type": "execute_result"
    }
   ],
   "source": [
    "with pdfplumber.open('48976_informe_para_imposto_renda_ano_calendario_2021.pdf') as pdf:\n",
    "        page = pdf.pages[14]\n",
    "        coluna_mercado = page.crop((20, 160, page.width, 230))\n",
    "        mercado_settings = {\n",
    "            \"vertical_strategy\": \"explicit\",\n",
    "            \"horizontal_strategy\": \"lines\",\n",
    "            \"explicit_vertical_lines\": [39, 230, 420, 555],\n",
    "            \"explicit_horizontal_lines\": [\n",
    "                164, 174, 194, 214, 234\n",
    "            ]\n",
    "        }\n",
    "        table_mercado = coluna_mercado.extract_table(mercado_settings)\n",
    "        #print(table_mercado)\n",
    "    \n",
    "        vista_acoes = f\"{table_mercado[1][0]}\"\n",
    "        vista_ouro = f\"{table_mercado[2][0]}\"\n",
    "        vista_fora_bolsa = f\"{table_mercado[3][0]}\"\n",
    "        mercado_vista = {\n",
    "            vista_acoes: {\n",
    "                \"Operações comuns\": table_mercado[1][1],\n",
    "                \"Day-Trade\": table_mercado[1][2]\n",
    "            },        \n",
    "            vista_ouro: {\n",
    "                \"Operações comuns\": table_mercado[2][1], \n",
    "                \"Day-Trade\": table_mercado[2][2]\n",
    "            },\n",
    "            vista_fora_bolsa: {\n",
    "                \"Operações comuns\": table_mercado[3][1], \n",
    "                \"Day-Trade\": table_mercado[3][2]\n",
    "            }\n",
    "        }\n",
    "        print(mercado_vista)\n",
    "im = coluna_mercado.to_image()\n",
    "im.draw_vlines([40, 230, 420, 555])\n",
    "im.draw_hlines([\n",
    "    164, 174, 194, 214, 234,\n",
    "])\n",
    "\n",
    "#im.draw_hlines([\n",
    "#    164, 174, 194, 214, 234,\n",
    "#    250, 268, 280, 300, 320,\n",
    "#    340, 350, 370, 390, 400,\n",
    "#    420, 440, 460,\n",
    "#    480, 495, 508, 528, 545, 562, 575, 600,\n",
    "#    618, 638, 658, 670, 690, 705, 715, 735, 750\n",
    "#])"
   ]
  }
 ],
 "metadata": {
  "kernelspec": {
   "display_name": "Python 3 (ipykernel)",
   "language": "python",
   "name": "python3"
  },
  "language_info": {
   "codemirror_mode": {
    "name": "ipython",
    "version": 3
   },
   "file_extension": ".py",
   "mimetype": "text/x-python",
   "name": "python",
   "nbconvert_exporter": "python",
   "pygments_lexer": "ipython3",
   "version": "3.11.4"
  }
 },
 "nbformat": 4,
 "nbformat_minor": 5
}
