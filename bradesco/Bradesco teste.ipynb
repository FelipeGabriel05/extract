{
 "cells": [
  {
   "cell_type": "code",
   "execution_count": 1,
   "id": "be85bf83",
   "metadata": {},
   "outputs": [],
   "source": [
    "import pdfplumber"
   ]
  },
  {
   "cell_type": "code",
   "execution_count": 58,
   "id": "0b349a23",
   "metadata": {},
   "outputs": [
    {
     "name": "stdout",
     "output_type": "stream",
     "text": [
      "{'Tipo_de_Nota': 'NOTA DE CORRETAGEM', 'Nr_Nota': '6 64650', 'Foha': '1', 'Data_pregao': '2 5/11/2019'}\n"
     ]
    },
    {
     "data": {
      "image/png": "[encoded data removed]",
      "text/plain": [
       "<pdfplumber.display.PageImage at 0x1cb3cf36e10>"
      ]
     },
     "execution_count": 58,
     "metadata": {},
     "output_type": "execute_result"
    }
   ],
   "source": [
    "with pdfplumber.open('Bradesco.pdf') as pdf:\n",
    "    page = pdf.pages[0]\n",
    "    text = page.extract_text()\n",
    "    all_text = ''\n",
    "    for row in text:\n",
    "        all_text += text\n",
    "    row = all_text.split('\\n')\n",
    "    \n",
    "    coluna_titulo = page.crop((455, 20, page.width, 65))\n",
    "    titulos_settings = {\n",
    "        \"vertical_strategy\": \"lines\",\n",
    "        \"horizontal_strategy\": \"explicit\",\n",
    "        \"explicit_horizontal_lines\": [50, 57],\n",
    "        \"explicit_vertical_lines\": [458, 490, 523, 578]\n",
    "    }\n",
    "    titulos = coluna_titulo.extract_table(titulos_settings)\n",
    "    obj_nota = {\n",
    "        \"Tipo_de_Nota\": row[0],\n",
    "        \"Nr_Nota\": titulos[0][0],\n",
    "        \"Foha\": titulos[0][2],\n",
    "        \"Data_pregao\": titulos[0][3]\n",
    "    }\n",
    "    print(obj_nota)\n",
    "im = coluna_titulo.to_image()\n",
    "im.draw_vlines([458, 490, 523, 578])\n",
    "im.draw_hlines([50, 57])"
   ]
  },
  {
   "cell_type": "code",
   "execution_count": 180,
   "id": "da0c3168",
   "metadata": {},
   "outputs": [
    {
     "name": "stdout",
     "output_type": "stream",
     "text": [
      "Obs: Sobre a taxa de corretagem são aplicados os seguintes impostos: ISS, PIS e COFINS, no total de 9,65%, previstos na Lei nº 12.741, de 8/12/2012. Esse valor está consolidado acima com a descrição ISS (SÃO PAULO).\n",
      "orrlnota.qrp\n"
     ]
    }
   ],
   "source": [
    "with pdfplumber.open('Bradesco.pdf') as pdf:\n",
    "    page = pdf.pages[0]\n",
    "    text = page.extract_text()\n",
    "    all_text = ''\n",
    "    for row in text:\n",
    "        all_text += text\n",
    "    row = all_text.split('\\n')\n",
    "    \n",
    "    telefone = row[5].split()\n",
    "    internet = row[6].split()\n",
    "    cnpj = row[7].split()\n",
    "    ouvidoria = row[8].split()\n",
    "    obj_corretora = {\n",
    "        \"Tipo_corretora\": row[3],\n",
    "        \"Endereco\": row[4],\n",
    "        \"Telefone\": telefone[1],\n",
    "        \"Internet\": internet[2],\n",
    "        \"CNPJ\": cnpj[1],\n",
    "        \"Telefone_Ouvidoria\": ouvidoria[3]\n",
    "    }\n",
    "    #print(obj_corretora)\n",
    "    print(row[-2])\n",
    "    print(row[-1])"
   ]
  },
  {
   "cell_type": "code",
   "execution_count": 76,
   "id": "7e41eb88",
   "metadata": {},
   "outputs": [
    {
     "name": "stdout",
     "output_type": "stream",
     "text": [
      "None\n"
     ]
    },
    {
     "data": {
      "image/png": "[encoded data removed]",
      "text/plain": [
       "<pdfplumber.display.PageImage at 0x1cb40b4c690>"
      ]
     },
     "execution_count": 76,
     "metadata": {},
     "output_type": "execute_result"
    }
   ],
   "source": [
    "with pdfplumber.open('Bradesco.pdf') as pdf:\n",
    "    page = pdf.pages[0]\n",
    "    corretora = page.crop((340, 90, page.width, 100))\n",
    "    corretora_settings1 = {\n",
    "        \"vertical_strategy\": \"explicit\",\n",
    "        \"explicit_vertical_lines\": [390, 560]\n",
    "    }\n",
    "    email_corretora = corretora.extract_table(corretora_settings1)\n",
    "    print(email_corretora)\n",
    "im = corretora.to_image()\n",
    "im.draw_vlines([390, 560])"
   ]
  },
  {
   "cell_type": "code",
   "execution_count": 182,
   "id": "4e5411de",
   "metadata": {},
   "outputs": [
    {
     "name": "stdout",
     "output_type": "stream",
     "text": [
      "None\n"
     ]
    },
    {
     "data": {
      "image/png": "[encoded data removed]",
      "text/plain": [
       "<pdfplumber.display.PageImage at 0x2b4aec29c50>"
      ]
     },
     "execution_count": 182,
     "metadata": {},
     "output_type": "execute_result"
    }
   ],
   "source": [
    "with pdfplumber.open('Bradesco.pdf') as pdf:\n",
    "    page = pdf.pages[0]\n",
    "    corretora2 = page.crop((340, 100, page.width, 110))\n",
    "    corretora_settings2 = {\n",
    "        \"vertical_strategy\": \"explicit\",\n",
    "        \"explicit_vertical_lines\": [442, 550]\n",
    "    }\n",
    "    carta = corretora2.extract_table(corretora_settings2)\n",
    "    print(carta)\n",
    "im = corretora2.to_image()\n",
    "im.draw_vlines([442, 550])"
   ]
  },
  {
   "cell_type": "code",
   "execution_count": 94,
   "id": "05d6f147",
   "metadata": {},
   "outputs": [
    {
     "name": "stdout",
     "output_type": "stream",
     "text": [
      "None\n"
     ]
    },
    {
     "data": {
      "image/png": "[encoded data removed]",
      "text/plain": [
       "<pdfplumber.display.PageImage at 0x1cb3d9b7f10>"
      ]
     },
     "execution_count": 94,
     "metadata": {},
     "output_type": "execute_result"
    }
   ],
   "source": [
    "with pdfplumber.open('Bradesco.pdf') as pdf:\n",
    "    page = pdf.pages[0]\n",
    "    corretora3 = page.crop((340, 110, page.width, 120))\n",
    "    corretora_settings3 = {\n",
    "        \"vertical_strategy\": \"explicit\",\n",
    "        \"explicit_vertical_lines\": [420, 580]\n",
    "    }\n",
    "    email_ouvidoria = corretora3.extract_table(corretora_settings3)\n",
    "    print(email_ouvidoria)\n",
    "im = corretora3.to_image()\n",
    "im.draw_vlines([420, 580])"
   ]
  },
  {
   "cell_type": "code",
   "execution_count": 136,
   "id": "f15bc276",
   "metadata": {},
   "outputs": [
    {
     "name": "stdout",
     "output_type": "stream",
     "text": [
      "{'Numero_do_Cliente': '5 66787-9', 'Nome': 'JOSE MARIO PARENTE DOS SANTOS GOMES', 'Endereco_cliente': 'AV IRM AOS GUINLE, 1157 QUEIMADOS 26311-110 QUEIMADOS - RJ'}\n"
     ]
    },
    {
     "data": {
      "image/png": "[encoded data removed]",
      "text/plain": [
       "<pdfplumber.display.PageImage at 0x1cb45b86e10>"
      ]
     },
     "execution_count": 136,
     "metadata": {},
     "output_type": "execute_result"
    }
   ],
   "source": [
    "with pdfplumber.open('Bradesco.pdf') as pdf:\n",
    "    page = pdf.pages[0]\n",
    "    coluna_cliente = page.crop((20, 125, 457, 162))\n",
    "    cliente_settings = {\n",
    "        \"vertical_strategy\": \"lines\",\n",
    "        \"horizontal_strategy\": \"explicit\",\n",
    "        \"explicit_horizontal_lines\": [132, 142, 152, 159],\n",
    "        \"explicit_vertical_lines\": [38, 100, 455]\n",
    "    }\n",
    "    tabela_cliente = coluna_cliente.extract_table(cliente_settings)\n",
    "    #print(tabela_cliente)\n",
    "    obj_cliente = {\n",
    "        \"Numero_do_Cliente\": tabela_cliente[0][0],\n",
    "        \"Nome\": tabela_cliente[0][1],\n",
    "        \"Endereco_cliente\": f\"{tabela_cliente[1][1]} {tabela_cliente[2][1]}\"\n",
    "    }\n",
    "    print(obj_cliente)\n",
    "im = coluna_cliente.to_image()\n",
    "im.draw_vlines([38, 100, 455])\n",
    "im.draw_hlines([132, 142, 152, 159])"
   ]
  },
  {
   "cell_type": "code",
   "execution_count": 154,
   "id": "b56f0e1a",
   "metadata": {},
   "outputs": [
    {
     "name": "stdout",
     "output_type": "stream",
     "text": [
      "[['72- 8 5 66787-9', '1188']]\n"
     ]
    },
    {
     "data": {
      "image/png": "[encoded data removed]",
      "text/plain": [
       "<pdfplumber.display.PageImage at 0x1cb4ce47f10>"
      ]
     },
     "execution_count": 154,
     "metadata": {},
     "output_type": "execute_result"
    }
   ],
   "source": [
    "with pdfplumber.open('Bradesco.pdf') as pdf:\n",
    "    page = pdf.pages[0]\n",
    "    coluna_cliente2 = page.crop((454, 140, page.width, 162))\n",
    "    cliente_settings2 = {\n",
    "        \"vertical_strategy\": \"lines\",\n",
    "        \"horizontal_strategy\": \"explicit\",\n",
    "        \"explicit_horizontal_lines\": [150, 160],\n",
    "        \"explicit_vertical_lines\": [458, 538, 580]\n",
    "    }\n",
    "    tabela_cliente2 = coluna_cliente2.extract_table(cliente_settings2)\n",
    "    print(tabela_cliente2)\n",
    "im = coluna_cliente2.to_image()\n",
    "im.draw_vlines([458, 538, 580])\n",
    "im.draw_hlines([150, 160])"
   ]
  },
  {
   "cell_type": "code",
   "execution_count": 184,
   "id": "8b65ee91",
   "metadata": {},
   "outputs": [
    {
     "name": "stdout",
     "output_type": "stream",
     "text": [
      "{'Participante_destino_do_repasse': '-', 'Cliente': '-', 'Valor': '35.939,80 CC', 'Custodiante': '-', 'CI': ''}\n"
     ]
    },
    {
     "data": {
      "image/png": "[encoded data removed]",
      "text/plain": [
       "<pdfplumber.display.PageImage at 0x1cb5a427f10>"
      ]
     },
     "execution_count": 184,
     "metadata": {},
     "output_type": "execute_result"
    }
   ],
   "source": [
    "with pdfplumber.open('Bradesco.pdf') as pdf:\n",
    "    page = pdf.pages[0]\n",
    "    coluna_banco = page.crop((20, 160, page.width, 180))\n",
    "    banco_settings = {\n",
    "        \"vertical_strategy\": \"lines\",\n",
    "        \"horizontal_strategy\": \"explicit\",\n",
    "        \"explicit_horizontal_lines\": [170, 178],\n",
    "        \"explicit_vertical_lines\": [40, 250, 330, 456, 558, 578]\n",
    "    }\n",
    "    tabela_banco = coluna_banco.extract_table(banco_settings)\n",
    "    #print(tabela_banco)\n",
    "    obj_banco = {\n",
    "        \"Participante_destino_do_repasse\": tabela_banco[0][0],\n",
    "        \"Cliente\": tabela_banco[0][2],\n",
    "        \"Valor\": f\"{tabela_banco[0][4]} {tabela_banco[0][5]}\",\n",
    "        \"Custodiante\": tabela_banco[0][6],\n",
    "        \"CI\": tabela_banco[0][7]\n",
    "    }\n",
    "    print(obj_banco)\n",
    "im = coluna_cliente2.to_image()\n",
    "im.draw_vlines([40, 250, 330, 456, 558, 578])\n",
    "im.draw_hlines([170, 178])"
   ]
  },
  {
   "cell_type": "code",
   "execution_count": 208,
   "id": "886ca9ad",
   "metadata": {},
   "outputs": [
    {
     "name": "stdout",
     "output_type": "stream",
     "text": [
      "[['23 7', '01174-R.ELOI TEIXEIRA-U', 'Q0U0E000007964 2', '-', '-', '-', '']]\n",
      "{'Banco': '23 7', 'Agencia': '01174-R.ELOI TEIXEIRA-U', 'Conta_Corrente': 'Q0U0E000007964 2', 'Acionista': '-', 'Administrador': '-', 'Complemento_nome': '-', 'P_Vinc': ''}\n"
     ]
    },
    {
     "data": {
      "image/png": "[encoded data removed]",
      "text/plain": [
       "<pdfplumber.display.PageImage at 0x1cb586c7f10>"
      ]
     },
     "execution_count": 208,
     "metadata": {},
     "output_type": "execute_result"
    }
   ],
   "source": [
    "with pdfplumber.open('Bradesco.pdf') as pdf:\n",
    "    page = pdf.pages[0]\n",
    "    coluna_banco2 = page.crop((20, 180, page.width, 200))\n",
    "    banco_settings2 = {\n",
    "        \"vertical_strategy\": \"lines\",\n",
    "        \"horizontal_strategy\": \"explicit\",\n",
    "        \"explicit_horizontal_lines\": [188, 198],\n",
    "        \"explicit_vertical_lines\": [38, 69, 169, 254, 333, 456, 558, 578]\n",
    "    }\n",
    "    tabela_banco2 = coluna_banco2.extract_table(banco_settings2)\n",
    "    print(tabela_banco2)\n",
    "    obj_banco = {\n",
    "        \"Banco\": tabela_banco2[0][0],\n",
    "        \"Agencia\": tabela_banco2[0][1],\n",
    "        \"Conta_Corrente\": tabela_banco2[0][2],\n",
    "        \"Acionista\": tabela_banco2[0][3],\n",
    "        \"Administrador\": tabela_banco2[0][4],\n",
    "        \"Complemento_nome\": tabela_banco2[0][5],\n",
    "        \"P_Vinc\": tabela_banco2[0][6]\n",
    "    }\n",
    "    print(obj_banco)\n",
    "im = coluna_banco2.to_image()\n",
    "im.draw_vlines([38, 69, 169, 254, 333, 456, 558, 578])\n",
    "im.draw_hlines([188, 198])"
   ]
  },
  {
   "cell_type": "code",
   "execution_count": 7,
   "id": "2fe3adf0",
   "metadata": {},
   "outputs": [
    {
     "name": "stdout",
     "output_type": "stream",
     "text": [
      "{'negocio_0': {'Q': '', 'Negociacao': '1-BOVESPA', 'C_V': 'C', 'Tipo_Mercado': 'VISTA', 'Prazo': '', 'Especificacao_de_titulo': 'BA NCO INTER PN N2', 'OBS': '', 'Quantidade': '500', 'Preco_Ajuste': '1 4,80', 'Valor_Operacao_Ajuste': '7.400,00', 'DC': 'D'}, 'negocio_1': {'Q': '', 'Negociacao': '1-BOVESPA', 'C_V': 'C', 'Tipo_Mercado': 'VISTA', 'Prazo': '', 'Especificacao_de_titulo': 'BANCO INTER PN N2', 'OBS': '', 'Quantidade': '500', 'Preco_Ajuste': '14,80', 'Valor_Operacao_Ajuste': '7.400,00', 'DC': 'D'}, 'negocio_2': {'Q': '', 'Negociacao': '1-BOVESPA', 'C_V': 'V', 'Tipo_Mercado': 'VISTA', 'Prazo': '', 'Especificacao_de_titulo': 'VALE ON NM', 'OBS': '', 'Quantidade': '1000', 'Preco_Ajuste': '50,80', 'Valor_Operacao_Ajuste': '50.800,00', 'DC': 'C'}}\n"
     ]
    },
    {
     "data": {
      "image/png": "[encoded data removed]",
      "text/plain": [
       "<pdfplumber.display.PageImage at 0x2b4ed68c390>"
      ]
     },
     "execution_count": 7,
     "metadata": {},
     "output_type": "execute_result"
    }
   ],
   "source": [
    "with pdfplumber.open('Bradesco.pdf') as pdf:\n",
    "    page = pdf.pages[0]\n",
    "    coluna_negocios = page.crop((20, 212, page.width, 427))\n",
    "    negocios_settings = {\n",
    "        \"vertical_strategy\": \"explicit\",\n",
    "        \"horizontal_strategy\": \"text\",\n",
    "        \"explicit_vertical_lines\": [40, 47, 90, 102, 180, 207, 340, \n",
    "                                    370, 430, 490, 560, 575]\n",
    "    }\n",
    "    tabela_negocios = coluna_negocios.extract_table(negocios_settings)\n",
    "    i = 0\n",
    "    total_negocios = {}\n",
    "    while i <= len(tabela_negocios) - 1:\n",
    "        negocio = {\n",
    "            \"Q\": tabela_negocios[i][0],\n",
    "            \"Negociacao\": tabela_negocios[i][1],\n",
    "            \"C_V\": tabela_negocios[i][2],\n",
    "            \"Tipo_Mercado\": tabela_negocios[i][3],\n",
    "            \"Prazo\": tabela_negocios[i][4],\n",
    "            \"Especificacao_de_titulo\": tabela_negocios[i][5],\n",
    "            \"OBS\": tabela_negocios[i][6],\n",
    "            \"Quantidade\": tabela_negocios[i][7],\n",
    "            \"Preco_Ajuste\": tabela_negocios[i][8],\n",
    "            \"Valor_Operacao_Ajuste\": tabela_negocios[i][9],\n",
    "            \"DC\": tabela_negocios[i][10],\n",
    "        }\n",
    "        total_negocios[f\"negocio_{i}\"] = negocio\n",
    "        i += 1\n",
    "        \n",
    "    print(total_negocios)\n",
    "im = coluna_negocios.to_image()\n",
    "im.draw_vlines([\n",
    "    40, 47, 90, 102, 180, 207, 340, 370, 430, 490, 560, 575\n",
    "])"
   ]
  },
  {
   "cell_type": "code",
   "execution_count": 58,
   "id": "10340abe",
   "metadata": {},
   "outputs": [
    {
     "name": "stdout",
     "output_type": "stream",
     "text": [
      "{'Debentures': '0,00', 'Vendas_a_vista': '50.800,00', 'Compras_a_vista': '14.800,00', 'Opcoes_compras': '0,00', 'Opcoes_vendas': '0,00', 'Operacoes_a_termo': '0,00', 'Valor_das_operacoes_cTitulo': '0,00', 'Valor_das_Operacoes': '65.600,00', 'Especificacoes_diversas': 'A coluna Q indica liquidação no Agente do Qualificado.'}\n"
     ]
    },
    {
     "data": {
      "image/png": "[encoded data removed]",
      "text/plain": [
       "<pdfplumber.display.PageImage at 0x2b4f5da7690>"
      ]
     },
     "execution_count": 58,
     "metadata": {},
     "output_type": "execute_result"
    }
   ],
   "source": [
    "with pdfplumber.open('Bradesco.pdf') as pdf:\n",
    "    page = pdf.pages[0]\n",
    "    coluna_resumo = page.crop((20, 400, 308, 600))\n",
    "    \n",
    "    resumo_settings = {\n",
    "        \"vertical_strategy\": \"lines\",\n",
    "        \"horizontal_strategy\": \"explicit\",\n",
    "        \"explicit_vertical_lines\": [38, 200, 307],\n",
    "        \"explicit_horizontal_lines\": [ 440, 450, 460, 469, 479, 489, 499, 509, 519,\n",
    "    532, 542, 562]\n",
    "    }\n",
    "    resumo_negocios = coluna_resumo.extract_table(resumo_settings)\n",
    "    obj_resumo_negocios = {\n",
    "        \"Debentures\": resumo_negocios[0][1],\n",
    "        \"Vendas_a_vista\": resumo_negocios[1][1],\n",
    "        \"Compras_a_vista\": resumo_negocios[2][1],\n",
    "        \"Opcoes_compras\": resumo_negocios[3][1],\n",
    "        \"Opcoes_vendas\": resumo_negocios[4][1],\n",
    "        \"Operacoes_a_termo\": resumo_negocios[5][1],\n",
    "        \"Valor_das_operacoes_cTitulo_Vnom\": resumo_negocios[6][1],\n",
    "        \"Valor_das_Operacoes\": resumo_negocios[7][1],\n",
    "        \"Especificacoes_diversas\": resumo_negocios[10][0],\n",
    "    }\n",
    "    print(obj_resumo_negocios) \n",
    "im = coluna_resumo.to_image()\n",
    "im.draw_vlines([38, 200, 307])\n",
    "im.draw_hlines([\n",
    "    440, 450, 460, 469, 479, 489, 499, 509, 519,\n",
    "    532, 542, 562\n",
    "])"
   ]
  },
  {
   "cell_type": "code",
   "execution_count": 99,
   "id": "590366a9",
   "metadata": {},
   "outputs": [
    {
     "name": "stdout",
     "output_type": "stream",
     "text": [
      "{'Tipo_observacao': '(*) - Observações:', 'DadosA': 'A - Posição Futuro', 'DadosT': 'T - Liquidação pelo Bruto', 'Dados2': '2 - Corretora ou pessoa vinculada atuou na contra parte.', 'DadosC': 'C - Clubes e Fundos de Ações', 'DadosI': 'I - POP', 'DadosNegocio': '# - Negócio direto', 'DadosP': 'P - Carteira Própria', 'Dados8': '8 - Liquidação Institucional.', 'DadosH': 'H - Home Broker', 'DadosD': 'D - Day-Trade', 'DadosX': 'X - Box', 'DadosF': 'F - Cobertura', 'DadosY': 'Y - Desmanche de Box', 'DadosB': 'B - Debêntures', 'DadosL': 'L - Precatório'}\n"
     ]
    },
    {
     "data": {
      "image/png": "[encoded data removed]",
      "text/plain": [
       "<pdfplumber.display.PageImage at 0x2b488b2b550>"
      ]
     },
     "execution_count": 99,
     "metadata": {},
     "output_type": "execute_result"
    }
   ],
   "source": [
    "with pdfplumber.open('Bradesco.pdf') as pdf:\n",
    "    page = pdf.pages[0]\n",
    "    coluna_obs = page.crop((20, 616, 308, 690))\n",
    "    \n",
    "    obs_settings = {\n",
    "        \"vertical_strategy\": \"lines\",\n",
    "        \"horizontal_strategy\": \"explicit\",\n",
    "        \"explicit_vertical_lines\": [38, 152, 220, 307],\n",
    "        \"explicit_horizontal_lines\": [616,626, 636, 646, 656, 666, 676, 686]\n",
    "    }\n",
    "    table_obs = coluna_obs.extract_table(obs_settings)\n",
    "    obj_obs = {\n",
    "        \"Tipo_observacao\": table_obs[0][0],\n",
    "        \"DadosA\": table_obs[0][1],\n",
    "        \"DadosT\": table_obs[0][2],\n",
    "        \"Dados2\": table_obs[1][0],\n",
    "        \"DadosC\": table_obs[1][1],\n",
    "        \"DadosI\": table_obs[1][2],\n",
    "        \"DadosNegocio\": table_obs[2][0],\n",
    "        \"DadosP\": table_obs[2][1],\n",
    "        \"Dados8\": table_obs[3][0],\n",
    "        \"DadosH\": table_obs[3][1],\n",
    "        \"DadosD\": table_obs[4][0],\n",
    "        \"DadosX\": table_obs[4][1],\n",
    "        \"DadosF\": table_obs[5][0],\n",
    "        \"DadosY\": table_obs[5][1],\n",
    "        \"DadosB\": table_obs[6][0],\n",
    "        \"DadosL\": table_obs[6][1]\n",
    "    }\n",
    "    print(obj_obs)\n",
    "im = coluna_obs.to_image()\n",
    "im.draw_vlines([38, 152, 220, 307])\n",
    "im.draw_hlines([\n",
    "    616,626, 636, 646, 656, 666, 676, 686\n",
    "])"
   ]
  },
  {
   "cell_type": "code",
   "execution_count": 179,
   "id": "37aa9a05",
   "metadata": {
    "scrolled": false
   },
   "outputs": [
    {
     "name": "stdout",
     "output_type": "stream",
     "text": [
      "{'titulo': 'Clearing', 'Valor_liquido_das_operacoes': '36.000,00', 'Valor_liquido_das_operacoes_DC': 'C', 'Taxa_de_liquidacao': '18,04', 'Taxa_de_liquidacao_obs': 'D', 'Taxa_de_registro': '0,00', 'Taxa_de_registro_obs': 'D', 'Total_CBLC': 'C', 'Bolsa': {'titulo': 'Bolsa', 'Taxa de termo/opções': '0,00', 'Taxa de termo/opções_DC': 'D', 'Taxa A.N.A.': '0,00', 'Taxa A.N.A._DC': 'D', 'Emolumentos': '2,69', 'Emolumentos_DC': 'D', 'Total_Bovespa_Soma': '2,69', 'Total_Bovespa_Soma_DC': 'D'}, 'Corretagem': {'Titulo': 'Corretagem / Despesas', 'Corretagem': '36,00', 'Corretagem_DC': 'D', 'ISS': '3,47', 'ISS_DC': '-', 'IRRF': '2,54', 'IRRF_DC': 'D', 'Outras': '0,00', 'Outras_DC': 'C', 'Total_corretagem_Despesas': '36,00', 'Total_corretagem_Despesas_DC': 'D', 'Líquido para 27/11/2019': '35.939,80', '35.939,80_obs': 'C', 'Observacao': 'Observação: (1) As operações a termo não são computadas no líquido da fatura'}}\n"
     ]
    },
    {
     "data": {
      "image/png": "[encoded data removed]",
      "text/plain": [
       "<pdfplumber.display.PageImage at 0x2b4b01bb550>"
      ]
     },
     "execution_count": 179,
     "metadata": {},
     "output_type": "execute_result"
    }
   ],
   "source": [
    "with pdfplumber.open('Bradesco.pdf') as pdf:\n",
    "    page = pdf.pages[0]\n",
    "    coluna_financeira = page.crop((307, 400, page.width, 660))\n",
    "    \n",
    "    financeiro = {\n",
    "        \"vertical_strategy\": \"lines\",\n",
    "        \"horizontal_strategy\": \"explicit\",\n",
    "        \"explicit_vertical_lines\": [308, 500, 564, 574],\n",
    "        \"explicit_horizontal_lines\": [\n",
    "            440, 450, 460, 470, 478, 486, 496, 506, 516, 524, 532,\n",
    "            542, 552, 560, 570, 580, #alterações aqui\n",
    "            598, 608, 615, 625, 635\n",
    "        ]\n",
    "    }\n",
    "    Resumo_financeiro = coluna_financeira.extract_table(financeiro) \n",
    "    obj_bolsa = {\n",
    "        \"titulo\": Resumo_financeiro[5][0],\n",
    "        Resumo_financeiro[6][0]: Resumo_financeiro[6][2],\n",
    "        f\"{Resumo_financeiro[6][0]}_DC\": Resumo_financeiro[6][3],\n",
    "        Resumo_financeiro[7][0]: Resumo_financeiro[7][2],\n",
    "        f\"{Resumo_financeiro[7][0]}_DC\": Resumo_financeiro[7][3],\n",
    "        Resumo_financeiro[8][0]: Resumo_financeiro[8][2],\n",
    "        f\"{Resumo_financeiro[8][0]}_DC\": Resumo_financeiro[8][3],\n",
    "        \"Total_Bovespa_Soma\": Resumo_financeiro[9][2],\n",
    "        \"Total_Bovespa_Soma_DC\": Resumo_financeiro[9][3]\n",
    "    }\n",
    "    \n",
    "    obj_Corretagem = {\n",
    "        \"Titulo\": Resumo_financeiro[10][0],\n",
    "        \"Corretagem\": Resumo_financeiro[12][2],\n",
    "        \"Corretagem_DC\":Resumo_financeiro[12][3],\n",
    "        \"ISS\": Resumo_financeiro[13][2],\n",
    "        \"ISS_DC\": Resumo_financeiro[13][3],\n",
    "        \"IRRF\": Resumo_financeiro[14][2],\n",
    "        \"IRRF_DC\": Resumo_financeiro[14][3],\n",
    "        \"Outras\": Resumo_financeiro[16][2],\n",
    "        \"Outras_DC\": Resumo_financeiro[16][3],\n",
    "        \"Total_corretagem_Despesas\": Resumo_financeiro[17][2],\n",
    "        \"Total_corretagem_Despesas_DC\": Resumo_financeiro[17][3],\n",
    "        Resumo_financeiro[18][0]: Resumo_financeiro[18][2],\n",
    "        f\"{Resumo_financeiro[18][2]}_obs\": Resumo_financeiro[18][3],\n",
    "        \"Observacao\": Resumo_financeiro[19][0]\n",
    "    }\n",
    "    \n",
    "    obj_resumo_financeiro = {\n",
    "        \"titulo\": Resumo_financeiro[0][0],\n",
    "        \"Valor_liquido_das_operacoes\": Resumo_financeiro[1][2],\n",
    "        \"Valor_liquido_das_operacoes_DC\": Resumo_financeiro[1][3],\n",
    "        \"Taxa_de_liquidacao\": Resumo_financeiro[2][2],\n",
    "        \"Taxa_de_liquidacao_obs\": Resumo_financeiro[2][3],\n",
    "        \"Taxa_de_registro\": Resumo_financeiro[3][2],\n",
    "        \"Taxa_de_registro_obs\": Resumo_financeiro[3][3],\n",
    "        \"Total_CBLC\": Resumo_financeiro[4][2],\n",
    "        \"Total_CBLC\": Resumo_financeiro[4][3],\n",
    "        \"Bolsa\": obj_bolsa,\n",
    "        \"Corretagem\": obj_Corretagem\n",
    "    }\n",
    "    \n",
    "    print(obj_resumo_financeiro)\n",
    "    \n",
    "im = coluna_financeira.to_image()\n",
    "im.draw_vlines([308, 500, 564, 574])\n",
    "im.draw_hlines([\n",
    "    440, 450, 460, 470, 478, 486, 496, 506, 516, 524, 532,\n",
    "    542, 552, 560, 570, 580, #alterações aqui\n",
    "    598, 608, 615, 625, 635\n",
    "])"
   ]
  }
 ],
 "metadata": {
  "kernelspec": {
   "display_name": "Python 3 (ipykernel)",
   "language": "python",
   "name": "python3"
  },
  "language_info": {
   "codemirror_mode": {
    "name": "ipython",
    "version": 3
   },
   "file_extension": ".py",
   "mimetype": "text/x-python",
   "name": "python",
   "nbconvert_exporter": "python",
   "pygments_lexer": "ipython3",
   "version": "3.11.4"
  }
 },
 "nbformat": 4,
 "nbformat_minor": 5
}
