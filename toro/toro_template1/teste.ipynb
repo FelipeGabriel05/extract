{
 "cells": [
  {
   "cell_type": "code",
   "execution_count": 1,
   "id": "d810521a",
   "metadata": {},
   "outputs": [],
   "source": [
    "import pdfplumber"
   ]
  },
  {
   "cell_type": "code",
   "execution_count": 44,
   "id": "95ef54fe",
   "metadata": {},
   "outputs": [
    {
     "name": "stdout",
     "output_type": "stream",
     "text": [
      "[['Venda disponível', 'R$ 0,00', '', 'ISS', '-R$ 0,30', '', 'Taxa Registro BMF', '-R$ 0,34', '', 'Total dos negócios', 'R$ 55,00'], ['Compra disponível', 'R$ 0,00', '', 'PIS', '-R$ 0,05', '', 'Taxa Emolumentos BMF', '-R$ 0,16', '', 'Tributos', '-R$ 1,08'], ['Vendas opções', 'R$ 0,00', '', 'COFINS', '-R$ 0,24', '', 'Taxa Operacional', '-R$ 5,50', '', 'Custos', '-R$ 6,00'], ['Compras opções', 'R$ 0,00', '', 'IRRF Operação Comum *', 'R$ 0,00', '', 'Total de custos', '-R$ 6,00', '', 'TOTAL LÍQUIDO', 'R$ 47,92'], ['Ajustes da posição', 'R$ 0,00', '', 'IRRF Day Trade (Projeção)', '-R$ 0,49', '', '', '', '', '', ''], ['Ajuste encerra hoje', 'R$ 55,00', '', 'Total de Tributos', '-R$ 1,08', '', '', '', '', '', ''], ['Total de negócios', 'R$ 55,00', '', '', '', '', '', '', '', '', '']]\n",
      "{'Nome Completo': 'GÉRSON DE OLIVEIRA BENEDITO', 'Conta': '202718', 'Data_de_referencia': '17/10/2019', 'Comprovante': '194367', 'Titulo_da_nota': 'COMPROVANTE BM&F', 'Resumo': {'VOLUME FINANCEIRO E AJUSTES': {'Venda disponível': 'R$ 0,00', 'Compra disponível': 'R$ 0,00', 'Vendas opções': 'R$ 0,00', 'Compras opções': 'R$ 0,00', 'Ajustes da posição': 'R$ 0,00', 'Ajuste encerra hoje': 'R$ 55,00', 'Total de negócios': 'R$ 55,00'}, 'TRIBUTOS': {'ISS': '-R$ 0,30', 'PIS': '-R$ 0,05', 'COFINS': '-R$ 0,24', 'IRRF Operação Comum *': 'R$ 0,00', 'IRRF Day Trade (Projeção)': '-R$ 0,49', 'Total de Tributos': '-R$ 1,08'}, 'CUSTOS': {'Taxa Registro BMF': '-R$ 0,34', 'Taxa Emolumentos BMF': '-R$ 0,16', 'Taxa Operacional': '-R$ 5,50', 'Total de custos': '-R$ 6,00'}, 'RESULTADO': {'Total dos negócios': 'R$ 55,00', 'Tributos': '-R$ 1,08', 'Custos': '-R$ 6,00', 'TOTAL LÍQUIDO': 'R$ 47,92'}}}\n"
     ]
    },
    {
     "data": {
      "image/png": "[encoded data removed]",
      "text/plain": [
       "<pdfplumber.display.PageImage at 0x1f5addf7ad0>"
      ]
     },
     "execution_count": 44,
     "metadata": {},
     "output_type": "execute_result"
    }
   ],
   "source": [
    "import pdfplumber\n",
    "\n",
    "with pdfplumber.open(\"Toro - Futuro.pdf\") as pdf:\n",
    "    page = pdf.pages[0]\n",
    "    coluna_resumo = page.crop((20, 155, page.width, 270))\n",
    "    all_text = \"\"\n",
    "    text = page.extract_text()\n",
    "    for row in text:\n",
    "        all_text += text\n",
    "    row = all_text.split('\\n')\n",
    "    \n",
    "    resumo_settings = {\n",
    "        \"vertical_strategy\": \"explicit\",\n",
    "        \"horizontal_strategy\": \"text\",\n",
    "        \"explicit_horizontal_lines\": [160, 170, 190, 210, 220, 240, 255, 265],\n",
    "        \"explicit_vertical_lines\": [35, 120, 158, 170, 250, 294, 304, 370, 430, 442, 500, 566]\n",
    "    }\n",
    "    table_resumo = coluna_resumo.extract_table(resumo_settings)\n",
    "    \n",
    "    i = 0\n",
    "    lista_resumo = []\n",
    "    while i <= len(table_resumo) - 1:\n",
    "        if table_resumo[i][0] != '':\n",
    "            lista_resumo.append(table_resumo[i])\n",
    "        i += 1\n",
    "    print(lista_resumo)\n",
    "    \n",
    "    titulo = row[2].split()\n",
    "    obj_nota = {\n",
    "        \"Nome Completo\": row[0],\n",
    "        \"Conta\": titulo[1],\n",
    "        \"Data_de_referencia\": titulo[2],\n",
    "        \"Comprovante\": titulo[3],\n",
    "        \"Titulo_da_nota\": row[3],\n",
    "        \"Resumo\": {\n",
    "            \"VOLUME FINANCEIRO E AJUSTES\": {\n",
    "                lista_resumo[0][0]: lista_resumo[0][1],\n",
    "                lista_resumo[1][0]: lista_resumo[1][1],\n",
    "                lista_resumo[2][0]: lista_resumo[2][1],\n",
    "                lista_resumo[3][0]: lista_resumo[3][1],\n",
    "                lista_resumo[4][0]: lista_resumo[4][1],\n",
    "                lista_resumo[5][0]: lista_resumo[5][1],\n",
    "                lista_resumo[6][0]: lista_resumo[6][1]\n",
    "            },\n",
    "            \"TRIBUTOS\": {\n",
    "                lista_resumo[0][3]: lista_resumo[0][4],\n",
    "                lista_resumo[1][3]: lista_resumo[1][4],\n",
    "                lista_resumo[2][3]: lista_resumo[2][4],\n",
    "                lista_resumo[3][3]: lista_resumo[3][4],\n",
    "                lista_resumo[4][3]: lista_resumo[4][4],\n",
    "                lista_resumo[5][3]: lista_resumo[5][4]\n",
    "            },\n",
    "            \"CUSTOS\": {\n",
    "                lista_resumo[0][6]: lista_resumo[0][7],\n",
    "                lista_resumo[1][6]: lista_resumo[1][7],\n",
    "                lista_resumo[2][6]: lista_resumo[2][7],\n",
    "                lista_resumo[3][6]: lista_resumo[3][7],\n",
    "            },\n",
    "            \"RESULTADO\": {\n",
    "                lista_resumo[0][9]: lista_resumo[0][10],\n",
    "                lista_resumo[1][9]: lista_resumo[1][10],\n",
    "                lista_resumo[2][9]: lista_resumo[2][10],\n",
    "                lista_resumo[3][9]: lista_resumo[3][10],\n",
    "            }\n",
    "        }\n",
    "    }\n",
    "    print(obj_nota)\n",
    "    \n",
    "im = coluna_resumo.to_image()\n",
    "im.draw_vlines([35, 120, 158, 170, 250, 294, 304, 370, 430, 442, 500, 566])\n",
    "im.draw_hlines([160, 170, 190, 210, 220, 240, 255, 265])"
   ]
  },
  {
   "cell_type": "code",
   "execution_count": 88,
   "id": "c6e82668",
   "metadata": {},
   "outputs": [
    {
     "name": "stdout",
     "output_type": "stream",
     "text": [
      "{'Título': 'WINFUT', 'Quantidade_total_de_compra': '1', 'Preço médio compra': 'R$ 105.990,0000', 'Quantidade_total_de_venda': {'1'}, 'Preço médio venda': 'R$ 106.265,0000', 'negocio_1': {'CV': 'VENDA', 'Vencimento': 'Z19', 'Quantidade': '1', 'Preco_Ajuste': 'R$ 106.265,0000', 'Tipo_de_negocio': 'DAY TRADE', 'Valor_Operacao': 'R$ 103,00', 'Taxa_Operacao': 'R$ 0,00'}, 'negocio_2': {'CV': 'COMPRA', 'Vencimento': 'Z19', 'Quantidade': '1', 'Preco_Ajuste': 'R$ 105.990,0000', 'Tipo_de_negocio': 'DAY TRADE', 'Valor_Operacao': '-R$ 48,00', 'Taxa_Operacao': 'R$ 5,50'}}\n"
     ]
    },
    {
     "data": {
      "image/png": "[encoded data removed]",
      "text/plain": [
       "<pdfplumber.display.PageImage at 0x1f5a5764390>"
      ]
     },
     "execution_count": 88,
     "metadata": {},
     "output_type": "execute_result"
    }
   ],
   "source": [
    "    coluna_detalhes = page.crop((20, 430, page.width, 500))\n",
    "    detalhes_settings = {\n",
    "        \"vertical_strategy\": \"explicit\",\n",
    "        \"horizontal_strategy\": \"lines\",\n",
    "        \"explicit_vertical_lines\": [40, 106, 170, 230, 318, 413, 496, 566]\n",
    "    }\n",
    "    table_detalhes = coluna_detalhes.extract_table(detalhes_settings)\n",
    "    linha14 = row[14].split()\n",
    "    linha15 = row[15].split()\n",
    "    total_detalhes = {\n",
    "        \"Título\": linha14[0],\n",
    "        \"Quantidade_total_de_compra\": linha14[5],\n",
    "        \"Preço médio compra\": f\"{linha14[9]} {linha15[0]}\",\n",
    "        \"Quantidade_total_de_venda\": {linha14[14]},\n",
    "        \"Preço médio venda\": f\"{linha14[-1]} {linha15[-1]}\"\n",
    "    }\n",
    "    total_negocios = 0\n",
    "    while total_negocios <= len(table_detalhes) - 1:\n",
    "        soma = total_negocios + 1\n",
    "        negocio = {\n",
    "            \"CV\": table_detalhes[total_negocios][0],\n",
    "            \"Vencimento\": table_detalhes[total_negocios][1],\n",
    "            \"Quantidade\": table_detalhes[total_negocios][2],\n",
    "            \"Preco_Ajuste\": table_detalhes[total_negocios][3],\n",
    "            \"Tipo_de_negocio\": table_detalhes[total_negocios][4],\n",
    "            \"Valor_Operacao\": table_detalhes[total_negocios][5],\n",
    "            \"Taxa_Operacao\": table_detalhes[total_negocios][6],\n",
    "        }\n",
    "        total_detalhes[f\"negocio_{soma}\"] = negocio \n",
    "        total_negocios += 1\n",
    "    print(total_detalhes)\n",
    "im = coluna_detalhes.to_image()\n",
    "im.draw_vlines([40, 106, 170, 230, 318, 413, 496, 566])\n",
    "im.draw_hlines([])"
   ]
  },
  {
   "cell_type": "code",
   "execution_count": 101,
   "id": "681a582b",
   "metadata": {},
   "outputs": [
    {
     "name": "stdout",
     "output_type": "stream",
     "text": [
      "{'IRRF_Day_Trade': {'Base': 'R$ 55,00', 'Projeção': '-R$ 0,49', 'obs': ' O valor do IRRF s/ Day Trade já está descontado do Líquido da Nota .'}, 'IRRF_Operacao_Comum': {'Base': 'R$0,00', 'Projeção': 'R$0,00.', 'obs': 'IRRF Operação Comum é debito somente quando atinge o valor superior a R$ 1,00 (um real)'}, 'informação adicional': '- Estas informações são confidenciais e destinadas a indivíduo e propósito específicos, sendo protegidas por lei. Caso você não seja a pessoa a quem foi dirigido este documento, deve apagá-lo. É terminantemente proibida a utilização, acesso, cópia ou divulgação não autorizada destas informações. Ressaltamos que a nota de corretagem é elaborada a partir de diversas fontes de consulta e estas informações são atualizadas em diferentes momentos. Sendo assim, as informações constantes neste documento podem sofrer alterações a qualquer momento e, quando da consulta, apresentarem alguma defasagem. Os valores de corretagem e os tributos incidentes (ISS/PIS/COFINS, calculados segundo o método \"por dentro\") podem ser cobrados por lançamento específico em conta corrente e devidamente especificado em extrato, na hipótese de adesão a pacote de corretagem ou modelo especial de tarifação e, portanto, podem não estar refletidos nesta nota. Caso exista alguma dúvida sobre as posições ou os lançamentos, favor utilizar nossos canais de atendimento. Para reclamações, contate nossa Ouvidoria no telefone n° 0800 941 0820.', 'Ouvidoria': ' 0800 941 0820', 'Dias_uteis': 'Dias úteis, de segunda à sexta-feira, das 9h às 18h', 'Página': 'Página 1 / 1'}\n",
      "- Estas informações são confidenciais e destinadas a indivíduo e propósito específicos, sendo protegidas por lei. Caso você não seja a pessoa a quem foi dirigido este\n"
     ]
    }
   ],
   "source": [
    "    linha19 = row[19].split()\n",
    "    linha20 = row[20].split()\n",
    "    \n",
    "    total_increment = 12\n",
    "    nome = ''\n",
    "    while total_increment <= 26:\n",
    "        nome += f\" {linha19[total_increment]}\"\n",
    "        total_increment += 1\n",
    "    ouvidoria = row[-3].split('Ouvidoria:')\n",
    "    obj_especificacoes = {\n",
    "        \"IRRF_Day_Trade\": {\n",
    "            \"Base\": f\"{linha19[7]} {linha19[8]}\",\n",
    "            \"Projeção\": f\"{linha19[10]} {linha19[11]}\",\n",
    "            \"obs\": nome\n",
    "        },\n",
    "        \"IRRF_Operacao_Comum\": {\n",
    "            \"Base\": linha20[4],\n",
    "            \"Projeção\": linha20[6],\n",
    "            \"obs\": row[21],\n",
    "        },\n",
    "        \"informação adicional\": f\"{row[22]} {row[23]} {row[24]} {row[25]} {row[26]} {row[27]} {row[28]}\",\n",
    "        \"Ouvidoria\": ouvidoria[-1],\n",
    "        \"Dias_uteis\": row[-2],\n",
    "        \"Página\": row[-1]\n",
    "    }\n",
    "    print(obj_especificacoes)\n",
    "\n",
    "    print(row[22])\n",
    "    "
   ]
  }
 ],
 "metadata": {
  "kernelspec": {
   "display_name": "Python 3 (ipykernel)",
   "language": "python",
   "name": "python3"
  },
  "language_info": {
   "codemirror_mode": {
    "name": "ipython",
    "version": 3
   },
   "file_extension": ".py",
   "mimetype": "text/x-python",
   "name": "python",
   "nbconvert_exporter": "python",
   "pygments_lexer": "ipython3",
   "version": "3.11.4"
  }
 },
 "nbformat": 4,
 "nbformat_minor": 5
}
