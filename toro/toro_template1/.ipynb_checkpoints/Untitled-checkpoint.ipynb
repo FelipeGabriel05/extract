{
 "cells": [
  {
   "cell_type": "code",
   "execution_count": 1,
   "id": "8f6dd677",
   "metadata": {},
   "outputs": [],
   "source": [
    "import pdfplumber"
   ]
  },
  {
   "cell_type": "code",
   "execution_count": 39,
   "id": "5de3d37a",
   "metadata": {},
   "outputs": [
    {
     "data": {
      "image/png": "[encoded data removed]",
      "text/plain": [
       "<pdfplumber.display.PageImage at 0x1f5b030b450>"
      ]
     },
     "execution_count": 39,
     "metadata": {},
     "output_type": "execute_result"
    }
   ],
   "source": [
    "import pdfplumber\n",
    "\n",
    "with pdfplumber.open(\"Toro - Futuro.pdf\") as pdf:\n",
    "    page = pdf.pages[0]\n",
    "    coluna_resumo = page.crop((20, 155, page.width, 270))\n",
    "    all_text = \"\"\n",
    "    text = page.extract_text()\n",
    "    for row in text:\n",
    "        all_text += text\n",
    "    row = all_text.split('\\n')\n",
    "    \n",
    "    resumo_settings = {\n",
    "        \"vertical_strategy\": \"explicit\",\n",
    "        \"horizontal_strategy\": \"text\",\n",
    "        \n",
    "    }\n",
    "    titulo = row[2].split()\n",
    "    obj_nota = {\n",
    "        \"Nome Completo\": row[0],\n",
    "        \"Conta\": titulo[1],\n",
    "        \"Data_de_referencia\": titulo[2],\n",
    "        \"Comprovante\": titulo[3],\n",
    "        \"Titulo_da_nota\": row[3]\n",
    "    }\n",
    "    #print(obj_nota)\n",
    "    \n",
    "im = coluna_resumo.to_image()\n",
    "im.draw_vlines([35, 120, 158, 170, 250, 294, 304, 370, 430, 442, 500, 566])\n",
    "im.draw_hlines([160, 170, 190, 210, 220, 240, 255, 265])"
   ]
  }
 ],
 "metadata": {
  "kernelspec": {
   "display_name": "Python 3 (ipykernel)",
   "language": "python",
   "name": "python3"
  },
  "language_info": {
   "codemirror_mode": {
    "name": "ipython",
    "version": 3
   },
   "file_extension": ".py",
   "mimetype": "text/x-python",
   "name": "python",
   "nbconvert_exporter": "python",
   "pygments_lexer": "ipython3",
   "version": "3.11.4"
  }
 },
 "nbformat": 4,
 "nbformat_minor": 5
}
