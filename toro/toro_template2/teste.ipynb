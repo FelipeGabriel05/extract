{
 "cells": [
  {
   "cell_type": "code",
   "execution_count": 1,
   "id": "4cb22a63",
   "metadata": {},
   "outputs": [],
   "source": [
    "import pdfplumber"
   ]
  },
  {
   "cell_type": "code",
   "execution_count": 61,
   "id": "44b0f1a6",
   "metadata": {},
   "outputs": [
    {
     "name": "stdout",
     "output_type": "stream",
     "text": [
      "{'Resumo': {'RESUMO DOS NEGÓCIOS': {'Debêntures': 'R$0,00', 'Vendas à vista': 'R$0,00', 'Compras à vista': 'R$103,18', 'Total de Negócios': 'R$103,18'}, 'Tributos': {'ISS': 'R$0,00', 'PIS': 'R$0,00', 'COFINS': 'R$0,00', 'IRRF Operação Comum': 'R$0,00', 'IRRF Day Trade': 'R$0,00', 'Total de Tributos': 'R$0,00'}, 'CUSTOS': {'Taxa Registro': 'R$0,00', 'Emolumentos': 'R$0,00', 'Taxa de termo/opções': 'R$0,00', 'Taxa Operacional': 'R$0,00', 'Taxa de Liquidação': '-R$0,02', 'Total de Custos': '-R$0,02'}, 'RESULTADO': {'Valor das Operações': '-R$103,18', 'Tributos': 'R$0,00', 'Custos': '-R$0,02', 'LÍQUIDO DA NOTA': '-R$103,20', 'LÍQUIDAÇÃO': '17/10/2019'}}}\n"
     ]
    },
    {
     "data": {
      "image/png": "[encoded data removed]",
      "text/plain": [
       "<pdfplumber.display.PageImage at 0x218b5f404d0>"
      ]
     },
     "execution_count": 61,
     "metadata": {},
     "output_type": "execute_result"
    }
   ],
   "source": [
    "with pdfplumber.open(\"Toro.pdf\") as pdf:\n",
    "    page = pdf.pages[0]\n",
    "    all_text = ''\n",
    "    text = page.extract_text()\n",
    "    for row in text:\n",
    "        all_text += text\n",
    "    row = all_text.split('\\n')\n",
    "    \n",
    "    coluna_resumo = page.crop((20, 155, page.width, 270))\n",
    "    resumo_settings = {\n",
    "        \"vertical_strategy\": \"explicit\",\n",
    "        \"horizontal_strategy\": \"text\",\n",
    "        \"explicit_vertical_lines\": [35, 120, 158, 170, 250, 294, 304, 370, 430, 442, 500, 566],\n",
    "        \"explicit_horizontal_lines\": [160, 170, 190, 210, 220, 240, 255]\n",
    "    }\n",
    "    table_resumo = coluna_resumo.extract_table(resumo_settings)\n",
    "    #print(table_resumo)\n",
    "    i = 0\n",
    "    resumo_list = []\n",
    "    while i <= len(table_resumo) - 1:\n",
    "        if table_resumo[i][4] != '':\n",
    "            resumo_list.append(table_resumo[i])\n",
    "        i += 1\n",
    "    \n",
    "    #print(resumo_list)\n",
    "    obj = {\n",
    "        \"Resumo\": {\n",
    "            \"RESUMO DOS NEGÓCIOS\": {\n",
    "                resumo_list[0][0]: resumo_list[0][1],\n",
    "                resumo_list[1][0]: resumo_list[1][1],\n",
    "                resumo_list[2][0]: resumo_list[2][1],\n",
    "                resumo_list[3][0]: resumo_list[3][1]\n",
    "            },\n",
    "            \"Tributos\": {\n",
    "                resumo_list[0][3]: resumo_list[0][4],\n",
    "                resumo_list[1][3]: resumo_list[1][4],\n",
    "                resumo_list[2][3]: resumo_list[2][4],\n",
    "                resumo_list[3][3]: resumo_list[3][4],\n",
    "                resumo_list[-3][3]: resumo_list[-3][4],\n",
    "                resumo_list[-2][3]: resumo_list[-2][4],\n",
    "                resumo_list[-1][3]: resumo_list[-1][4]\n",
    "            },\n",
    "            \"CUSTOS\": {\n",
    "                resumo_list[0][6]: resumo_list[0][7],\n",
    "                resumo_list[1][6]: resumo_list[1][7],\n",
    "                resumo_list[2][6]: resumo_list[2][7],\n",
    "                resumo_list[3][6]: resumo_list[3][7],\n",
    "                resumo_list[-2][6]: resumo_list[-2][7],\n",
    "                resumo_list[-1][6]: resumo_list[-1][7],\n",
    "            },\n",
    "            \"RESULTADO\": {\n",
    "                resumo_list[0][9]: resumo_list[0][10],\n",
    "                resumo_list[1][9]: resumo_list[1][10],\n",
    "                resumo_list[2][9]: resumo_list[2][10],\n",
    "                resumo_list[3][9]: resumo_list[3][10],\n",
    "                resumo_list[-2][-2]: resumo_list[-2][-1],\n",
    "            }\n",
    "        }\n",
    "    }\n",
    "    print(obj)\n",
    "    \n",
    "im = coluna_resumo.to_image()\n",
    "im.draw_vlines([35, 120, 158, 170, 250, 294, 304, 370, 430, 442, 500, 566])\n",
    "im.draw_hlines([160, 170, 190, 210, 220, 240, 255])"
   ]
  },
  {
   "cell_type": "code",
   "execution_count": 54,
   "id": "dbcb3138",
   "metadata": {},
   "outputs": [
    {
     "name": "stdout",
     "output_type": "stream",
     "text": [
      "{'CV': 'COMPRA', 'Mercado': 'BOVESPA 1', 'Quantidade': '1', 'Preço': 'R$103,18', 'Valor_Operação': 'R$103,18', 'Vencimento': '', 'Tipo_Mercado': 'VISTA', 'Envio': '', 'OBS': ''}\n"
     ]
    },
    {
     "data": {
      "image/png": "[encoded data removed]",
      "text/plain": [
       "<pdfplumber.display.PageImage at 0x218b5f36f90>"
      ]
     },
     "execution_count": 54,
     "metadata": {},
     "output_type": "execute_result"
    }
   ],
   "source": [
    "    coluna_detalhes = page.crop((20, 430, page.width, 480))\n",
    "    detalhes_settings = {\n",
    "        \"vertical_strategy\": \"explicit\",\n",
    "        \"horizontal_strategy\": \"lines\",\n",
    "        \"explicit_vertical_lines\": [35, 90, 140, 210, 260, 340, 400, 480, 518, 567]\n",
    "    }\n",
    "    tabela_detalhes = coluna_detalhes.extract_table(detalhes_settings)\n",
    "    \n",
    "    obj_detalhes = {\n",
    "        \"CV\": tabela_detalhes[0][0],\n",
    "        \"Mercado\": tabela_detalhes[0][1],\n",
    "        \"Quantidade\": tabela_detalhes[0][2],\n",
    "        \"Preço\": tabela_detalhes[0][3],\n",
    "        \"Valor_Operação\": tabela_detalhes[0][4],\n",
    "        \"Vencimento\": tabela_detalhes[0][5],\n",
    "        \"Tipo_Mercado\": tabela_detalhes[0][6],\n",
    "        \"Envio\": tabela_detalhes[0][7],\n",
    "        \"OBS\": tabela_detalhes[0][8]\n",
    "    }\n",
    "\n",
    "im = coluna_detalhes.to_image()\n",
    "im.draw_vlines([\n",
    "    35, 90, 140, 210, 260, 340, 400, 480, 518, 567\n",
    "])"
   ]
  },
  {
   "cell_type": "code",
   "execution_count": 68,
   "id": "1652cee8",
   "metadata": {},
   "outputs": [
    {
     "name": "stdout",
     "output_type": "stream",
     "text": [
      "{'Titulo': 'KNCR11 - FII KINEA RI CI', 'Preco de Exercício': 'R$0,00', 'Quantidade_total_de_compra': '1', 'Preço_médio_compra': 'R$ 103,1800', 'Quantidade_total_de_venda': '0', 'Preço_médio_venda': 'R$0,0000'}\n"
     ]
    }
   ],
   "source": [
    "    linha14 = row[14].split()\n",
    "    obj = {\n",
    "        \"Titulo\": row[13],\n",
    "        \"Preco de Exercício\": linha14[3],\n",
    "        \"Quantidade_total_de_compra\": linha14[8],\n",
    "        \"Preço_médio_compra\": f\"{linha14[12]} {row[15]}\",\n",
    "        \"Quantidade_total_de_venda\": linha14[17],\n",
    "        \"Preço_médio_venda\": f\"{linha14[21]}{linha14[22]}\"\n",
    "    }\n",
    "    print(obj)"
   ]
  },
  {
   "cell_type": "code",
   "execution_count": 97,
   "id": "9d672ce6",
   "metadata": {},
   "outputs": [
    {
     "name": "stdout",
     "output_type": "stream",
     "text": [
      "{'titulo': 'Legenda', 'dados_2': '2 - Corretora ou pessoa vinculada atuou na contraparte', 'dados_P': 'P - Carteira Própria', 'dados_negocio': '# Negócio direto', 'dados_H': 'H - Home Broker', 'dados_8': '8 - Líquidação Institucional', 'dados_X': 'X - Box', 'dados_D': 'D - Day-Trade', 'dados_Y': 'Y - Desmanche de Box', 'dados_F': 'F - Cobertura', 'dados_L': 'L - Precatório', 'dados_B': 'B - Debêntures', 'dados_T': 'T - Liquidação pelo Bruto', 'dados_A': 'A - Posição futuro', 'dados_I': 'I - POP', 'dados_C': 'C - Clube e fundos de ações'}\n"
     ]
    },
    {
     "data": {
      "image/png": "[encoded data removed]",
      "text/plain": [
       "<pdfplumber.display.PageImage at 0x218b16a3c10>"
      ]
     },
     "execution_count": 97,
     "metadata": {},
     "output_type": "execute_result"
    }
   ],
   "source": [
    "    coluna_legenda = page.crop((20, 496, page.width, 650))\n",
    "    legenda_settings = {\n",
    "        \"vertical_strategy\": \"explicit\",\n",
    "        \"horizontal_strategy\": \"lines\",\n",
    "        \"explicit_vertical_lines\": [30, 220, 450],\n",
    "        \"explicit_horizontal_lines\": [500, 515, 525, 535, 545, 555, 565, 575, 585]\n",
    "    }\n",
    "    tabela_legenda = coluna_legenda.extract_table(legenda_settings)\n",
    "    \n",
    "    obs = {\n",
    "        \"titulo\": \"Legenda\",\n",
    "        \"dados_2\": tabela_legenda[0][0],\n",
    "        \"dados_P\": tabela_legenda[0][1],\n",
    "        \"dados_negocio\": tabela_legenda[1][0],\n",
    "        \"dados_H\": tabela_legenda[1][1],\n",
    "        \"dados_8\": tabela_legenda[2][0],\n",
    "        \"dados_X\": tabela_legenda[2][1],\n",
    "        \"dados_D\": tabela_legenda[3][0],\n",
    "        \"dados_Y\": tabela_legenda[3][1],\n",
    "        \"dados_F\": tabela_legenda[4][0],\n",
    "        \"dados_L\": tabela_legenda[4][1],\n",
    "        \"dados_B\": tabela_legenda[5][0],\n",
    "        \"dados_T\": tabela_legenda[5][1],\n",
    "        \"dados_A\": tabela_legenda[6][0],\n",
    "        \"dados_I\": tabela_legenda[6][1],\n",
    "        \"dados_C\": tabela_legenda[7][0]\n",
    "    }\n",
    "    print(obs)\n",
    "im = coluna_legenda.to_image()\n",
    "im.draw_vlines([30, 220, 450])\n",
    "im.draw_hlines([500, 515, 525, 535, 545, 555, 565, 575, 585])"
   ]
  },
  {
   "cell_type": "code",
   "execution_count": 108,
   "id": "d73bc3cf",
   "metadata": {},
   "outputs": [
    {
     "name": "stdout",
     "output_type": "stream",
     "text": [
      "{'Especificações diversas': {'IRRF_Day_Trade': {'Base': 'R$0,00', 'Projeção': 'R$0,00', 'obs': ' O valor do IRRF s/ Day Trade já está descontado do Líquido da Nota.'}, 'IRRF_Operação_Comum': {'Base': 'R$0,00', 'Projeção': 'R$0,00.', 'obs': 'IRRF Operação Comum é debito somente quando atinge o valor superior a R$ 1,00 (um real)'}, 'informação_adicional': 'Estas informações são confidenciais e destinadas a indivíduo e propósito específicos, sendo protegidas por lei. Caso você não seja a pessoa a quem foi dirigido este documento, deve apagá-lo. É terminantemente proibida a utilização, acesso, cópia ou divulgação não autorizada destas informações. Ressaltamos que a nota de corretagem é elaborada a partir de diversas fontes de consulta e estas informações são atualizadas em diferentes momentos. Sendo assim, as informações constantes neste documento podem sofrer alterações a qualquer momento e, quando da consulta, apresentarem alguma defasagem. Os valores de corretagem e os tributos incidentes (ISS/PIS/COFINS, calculados segundo o método \"por dentro\") podem ser cobrados por lançamento específico em conta corrente e devidamente especificado em extrato, na hipótese de adesão a pacote de corretagem ou modelo especial de tarifação e, portanto, podem não estar refletidos nesta nota. Caso exista alguma dúvida sobre as posições ou os lançamentos, favor utilizar nossos canais de atendimento. Para reclamações, contate nossa Ouvidoria no telefone n° 0800 941 0820.'}}\n"
     ]
    }
   ],
   "source": [
    "    linha_dt = row[-11].split()\n",
    "    dt_obs = row[-11].split('Especificações diversas: IRRF Day Trade: Base R$0,00 Projeção R$0,00')\n",
    "    linha_oc = row[-10].split()\n",
    "    obj = {\n",
    "        \"Especificações diversas\": {\n",
    "            \"IRRF_Day_Trade\": {\n",
    "                \"Base\": linha_dt[6],\n",
    "                \"Projeção\": linha_dt[8],\n",
    "                \"obs\": dt_obs[-1]\n",
    "            },\n",
    "            \"IRRF_Operação_Comum\": {\n",
    "                \"Base\": linha_oc[4],\n",
    "                \"Projeção\": linha_oc[6],\n",
    "                \"obs\": row[-9]\n",
    "            },\n",
    "            \"informação_adicional\": f\"{row[-8]} {row[-7]} {row[-6]} {row[-5]} {row[-4]} {row[-3]} {row[-2]}\"\n",
    "        }\n",
    "    }\n",
    "    print(obj)"
   ]
  }
 ],
 "metadata": {
  "kernelspec": {
   "display_name": "Python 3 (ipykernel)",
   "language": "python",
   "name": "python3"
  },
  "language_info": {
   "codemirror_mode": {
    "name": "ipython",
    "version": 3
   },
   "file_extension": ".py",
   "mimetype": "text/x-python",
   "name": "python",
   "nbconvert_exporter": "python",
   "pygments_lexer": "ipython3",
   "version": "3.11.4"
  }
 },
 "nbformat": 4,
 "nbformat_minor": 5
}
