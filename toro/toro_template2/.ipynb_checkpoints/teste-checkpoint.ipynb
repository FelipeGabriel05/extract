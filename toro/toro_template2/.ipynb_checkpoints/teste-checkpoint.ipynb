{
 "cells": [
  {
   "cell_type": "code",
   "execution_count": 1,
   "id": "aafade64",
   "metadata": {},
   "outputs": [],
   "source": [
    "import pdfplumber"
   ]
  },
  {
   "cell_type": "code",
   "execution_count": null,
   "id": "caf24084",
   "metadata": {},
   "outputs": [],
   "source": [
    "with pdfplumber.open(\"Toro.pdf\") as pdf:\n",
    "    page = pdf.pages[0]\n",
    "    all_text = ''\n",
    "    text = page.extract_text()\n",
    "    for row in text:\n",
    "        all_text += text\n",
    "    row = all_text.split()\n",
    "    \n",
    "    coluna_resumo = page.crop((20, 155, page.width, 270))\n",
    "    resumo_settings = {\n",
    "        \"vertical_strategy\": \"explicit\",\n",
    "        \"horizontal_strategy\": \"text\",\n",
    "        \"explicit_vertical_lines\": [35, 120, 158, 170, 250, 294, 304, 370, 430, 442, 500, 566],\n",
    "        \"explicit_horizontal_lines\": [160, 170, 190, 210, 220, 240, 255]\n",
    "    }\n",
    "    table_resumo = coluna_resumo.extract_table(resumo_settings)\n",
    "    #print(table_resumo)\n",
    "    i = 0\n",
    "    resumo_list = []\n",
    "    while i <= len(table_resumo) - 1:\n",
    "        if table_resumo[i][4] != '':\n",
    "            resumo_list.append(table_resumo[i])\n",
    "        i += 1\n",
    "    \n",
    "    #print(resumo_list)\n",
    "    obj = {\n",
    "        \"Resumo\": {\n",
    "            \"RESUMO DOS NEGÓCIOS\": {\n",
    "                resumo_list[0][0]: resumo_list[0][1],\n",
    "                resumo_list[1][0]: resumo_list[1][1],\n",
    "                resumo_list[2][0]: resumo_list[2][1],\n",
    "                resumo_list[3][0]: resumo_list[3][1]\n",
    "            },\n",
    "            \"Tributos\": {\n",
    "                resumo_list[0][3]: resumo_list[0][4],\n",
    "                resumo_list[1][3]: resumo_list[1][4],\n",
    "                resumo_list[2][3]: resumo_list[2][4],\n",
    "                resumo_list[3][3]: resumo_list[3][4],\n",
    "                resumo_list[-3][3]: resumo_list[-3][4],\n",
    "                resumo_list[-2][3]: resumo_list[-2][4],\n",
    "                resumo_list[-1][3]: resumo_list[-1][4]\n",
    "            },\n",
    "            \"CUSTOS\": {\n",
    "                resumo_list[0][6]: resumo_list[0][7],\n",
    "                resumo_list[1][6]: resumo_list[1][7],\n",
    "                resumo_list[2][6]: resumo_list[2][7],\n",
    "                resumo_list[3][6]: resumo_list[3][7],\n",
    "                resumo_list[-2][6]: resumo_list[-2][7],\n",
    "                resumo_list[-1][6]: resumo_list[-1][7],\n",
    "            },\n",
    "            \"RESULTADO\": {\n",
    "                resumo_list[0][9]: resumo_list[0][10],\n",
    "                resumo_list[1][9]: resumo_list[1][10],\n",
    "                resumo_list[2][9]: resumo_list[2][10],\n",
    "                resumo_list[3][9]: resumo_list[3][10],\n",
    "                resumo_list[-2][-2]: resumo_list[-2][-1],\n",
    "            }\n",
    "        }\n",
    "    }\n",
    "    print(obj)\n",
    "    \n",
    "im = coluna_resumo.to_image()\n",
    "im.draw_vlines([35, 120, 158, 170, 250, 294, 304, 370, 430, 442, 500, 566])\n",
    "im.draw_hlines([160, 170, 190, 210, 220, 240, 255])"
   ]
  }
 ],
 "metadata": {
  "kernelspec": {
   "display_name": "Python 3 (ipykernel)",
   "language": "python",
   "name": "python3"
  },
  "language_info": {
   "codemirror_mode": {
    "name": "ipython",
    "version": 3
   },
   "file_extension": ".py",
   "mimetype": "text/x-python",
   "name": "python",
   "nbconvert_exporter": "python",
   "pygments_lexer": "ipython3",
   "version": "3.11.4"
  }
 },
 "nbformat": 4,
 "nbformat_minor": 5
}
