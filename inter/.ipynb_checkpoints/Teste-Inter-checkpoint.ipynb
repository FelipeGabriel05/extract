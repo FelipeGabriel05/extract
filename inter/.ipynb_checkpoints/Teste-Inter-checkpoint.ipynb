{
 "cells": [
  {
   "cell_type": "code",
   "execution_count": 1,
   "id": "e9cbc9a1",
   "metadata": {},
   "outputs": [],
   "source": [
    "import pdfplumber"
   ]
  },
  {
   "cell_type": "code",
   "execution_count": 133,
   "id": "d28a9429",
   "metadata": {},
   "outputs": [
    {
     "name": "stdout",
     "output_type": "stream",
     "text": [
      "18.945.670/0001-46\n"
     ]
    },
    {
     "data": {
      "image/png": "[encoded data removed]",
      "text/plain": [
       "<pdfplumber.display.PageImage at 0x1ceac828910>"
      ]
     },
     "execution_count": 133,
     "metadata": {},
     "output_type": "execute_result"
    }
   ],
   "source": [
    "with pdfplumber.open('notas 2020 janeiro a junho banco inter - OK.pdf') as pdf:\n",
    "    page = pdf.pages[60]\n",
    "    coluna_cnpj = page.crop((200, 95, page.width, 110))\n",
    "    \n",
    "    cnpj_settings = {\n",
    "        \"vertical_strategy\": \"lines\",\n",
    "        \"horizontal_strategy\": \"explicit\",\n",
    "        \"explicit_horizontal_lines\": [95, 105],\n",
    "        \"explicit_vertical_lines\": [248, 400]\n",
    "    }\n",
    "    campo_cnpj = coluna_cnpj.extract_table(cnpj_settings)\n",
    "    print(campo_cnpj[0][1])\n",
    "im = coluna_cnpj.to_image()\n",
    "im.draw_vlines([248, 400])\n",
    "im.draw_hlines([95, 105])"
   ]
  },
  {
   "cell_type": "code",
   "execution_count": 138,
   "id": "67c77e7a",
   "metadata": {},
   "outputs": [
    {
     "name": "stdout",
     "output_type": "stream",
     "text": [
      "{'Data_pregao': '27/04/2020', 'N_Nota': '2870705', 'Folha': '1'}\n",
      "['CNPJ', '18.945.670/0001-46']\n"
     ]
    }
   ],
   "source": [
    "with pdfplumber.open('notas 2020 janeiro a junho banco inter - OK.pdf') as pdf:\n",
    "    page = pdf.pages[60]\n",
    "    all_text = ''\n",
    "    text = page.extract_text()\n",
    "    for row in  text:\n",
    "        all_text += text\n",
    "    row = all_text.split('\\n')\n",
    "    tipo_nota = row[5].split()\n",
    "    obj_notas = {\n",
    "        \"Data_pregao\": tipo_nota[2],\n",
    "        \"N_Nota\": tipo_nota[5],\n",
    "        \"Folha\": tipo_nota[7],\n",
    "    }\n",
    "    print(obj_notas)\n",
    "    print(row[4].split(\":\"))"
   ]
  },
  {
   "cell_type": "code",
   "execution_count": 145,
   "id": "3de198d0",
   "metadata": {},
   "outputs": [
    {
     "name": "stdout",
     "output_type": "stream",
     "text": [
      "{'Banco': '077', 'Agencia': '00019', 'Conta_Corrente': '2540384-2'}\n",
      "['077', '00019', '2540384-2']\n"
     ]
    }
   ],
   "source": [
    "with pdfplumber.open('notas 2020 janeiro a junho banco inter - OK.pdf') as pdf:\n",
    "    page = pdf.pages[107]\n",
    "    all_text = ''\n",
    "    text = page.extract_text()\n",
    "    for row in  text:\n",
    "        all_text += text\n",
    "    row = all_text.split('\\n')\n",
    "\n",
    "    banco = row[11].split()\n",
    "    obj_banco = {\n",
    "        \"Banco\": banco[0],\n",
    "        \"Agencia\": banco[1],\n",
    "        \"Conta_Corrente\": banco[2]\n",
    "    }\n",
    "    print(obj_banco)\n",
    "    print(banco)"
   ]
  },
  {
   "cell_type": "code",
   "execution_count": 50,
   "id": "49a01c54",
   "metadata": {},
   "outputs": [
    {
     "name": "stdout",
     "output_type": "stream",
     "text": [
      "{'negocio_0': {'Praca': 'Praça', 'C_V': 'C/V', 'Tipo_Mercado': 'Tipo Mercado', 'Especificacao_de_titulos': 'Especificação do Título', 'OBS': 'OBS(*)', 'Quantidade': 'Quantidade', 'Preco_liquidacao': 'Preço Liquidação (R$)', 'Compra_Venda': 'Compra/Venda (R$)', 'D_C': 'D/'}, 'negocio_1': {'Praca': '1-Bovespa', 'C_V': 'V', 'Tipo_Mercado': 'VIS', 'Especificacao_de_titulos': 'CSMG3F ON NM', 'OBS': '', 'Quantidade': '10', 'Preco_liquidacao': '47,50', 'Compra_Venda': '475,00', 'D_C': 'C'}, 'negocio_2': {'Praca': '', 'C_V': '', 'Tipo_Mercado': '', 'Especificacao_de_titulos': 'SubTotal :', 'OBS': '', 'Quantidade': '10', 'Preco_liquidacao': '47,5000', 'Compra_Venda': '475,00', 'D_C': ''}, 'negocio_3': {'Praca': '1-Bovespa', 'C_V': 'V', 'Tipo_Mercado': 'VIS', 'Especificacao_de_titulos': 'MGLU3F ON NM', 'OBS': '', 'Quantidade': '40', 'Preco_liquidacao': '49,50', 'Compra_Venda': '1.980,00', 'D_C': 'C'}, 'negocio_4': {'Praca': '', 'C_V': '', 'Tipo_Mercado': '', 'Especificacao_de_titulos': 'SubTotal :', 'OBS': '', 'Quantidade': '40', 'Preco_liquidacao': '49,5000', 'Compra_Venda': '1.980,00', 'D_C': ''}, 'negocio_5': {'Praca': '1-Bovespa', 'C_V': 'V', 'Tipo_Mercado': 'VIS', 'Especificacao_de_titulos': 'B3SA3 ON NM', 'OBS': '', 'Quantidade': '200', 'Preco_liquidacao': '39,00', 'Compra_Venda': '7.800,00', 'D_C': 'C'}, 'negocio_6': {'Praca': '', 'C_V': '', 'Tipo_Mercado': '', 'Especificacao_de_titulos': 'SubTotal :', 'OBS': '', 'Quantidade': '200', 'Preco_liquidacao': '39,0000', 'Compra_Venda': '7.800,00', 'D_C': ''}, 'negocio_7': {'Praca': '1-Bovespa', 'C_V': 'V', 'Tipo_Mercado': 'VIS', 'Especificacao_de_titulos': 'KLBN11 UNT N2', 'OBS': '', 'Quantidade': '200', 'Preco_liquidacao': '17,90', 'Compra_Venda': '3.580,00', 'D_C': 'C'}}\n"
     ]
    },
    {
     "data": {
      "image/png": "[encoded data removed]",
      "text/plain": [
       "<pdfplumber.display.PageImage at 0x260031ec250>"
      ]
     },
     "execution_count": 50,
     "metadata": {},
     "output_type": "execute_result"
    }
   ],
   "source": [
    "with pdfplumber.open('notas 2020 janeiro a junho banco inter - OK.pdf') as pdf:\n",
    "    page = pdf.pages[60]\n",
    "    coluna_negocios = page.crop((20, 185, page.width, 418))\n",
    "    all_text = ''\n",
    "    text = page.extract_text()\n",
    "    for row in  text:\n",
    "        all_text += text\n",
    "        \n",
    "    row = all_text.split('\\n')\n",
    "    banco = row[11].split()\n",
    "    negocios_settings = {\n",
    "        \"vertical_strategy\": \"explicit\",\n",
    "        \"explicit_vertical_lines\": [44, 88, 102, 160, 265, 298, 358, 458, 540, 552]\n",
    "    }\n",
    "    table_negocios = coluna_negocios.extract_table(negocios_settings)\n",
    "    if table_negocios[0][0] == banco[0]:\n",
    "        i = 2\n",
    "        total = len(table_negocios) - 3\n",
    "    else: \n",
    "        i = 0\n",
    "        total = len(table_negocios) - 2\n",
    "        \n",
    "        \n",
    "    total_negocios = []\n",
    "    while i <= total:\n",
    "        negocio = {\n",
    "            \"Praca\": table_negocios[i][0],\n",
    "            \"C_V\": table_negocios[i][1],\n",
    "            \"Tipo_Mercado\": table_negocios[i][2],\n",
    "            \"Especificacao_de_titulos\": table_negocios[i][3],\n",
    "            \"OBS\": table_negocios[i][4],\n",
    "            \"Quantidade\": table_negocios[i][5],\n",
    "            \"Preco_liquidacao\": table_negocios[i][6],\n",
    "            \"Compra_Venda\": table_negocios[i][7],\n",
    "            \"D_C\": table_negocios[i][8],\n",
    "        }\n",
    "        #total_negocios[f\"negocio_{i}\"] = negocio\n",
    "        total_negocios.append(negocio)\n",
    "        i += 1\n",
    "    a = 0\n",
    "    teste = {}\n",
    "    while a <= len(total_negocios) - 1:\n",
    "        teste[f\"negocio_{a}\"] = total_negocios[a]\n",
    "        a += 1\n",
    "    print(teste)\n",
    "\n",
    "im = coluna_negocios.to_image()\n",
    "im.draw_vlines([\n",
    "    44, 88, 102, 160, 265, 298, 358, 458, 540, 552\n",
    "])"
   ]
  },
  {
   "cell_type": "code",
   "execution_count": 415,
   "id": "2a6095cb",
   "metadata": {},
   "outputs": [
    {
     "data": {
      "image/png": "[encoded data removed]",
      "text/plain": [
       "<pdfplumber.display.PageImage at 0x1cf402a7150>"
      ]
     },
     "execution_count": 415,
     "metadata": {},
     "output_type": "execute_result"
    }
   ],
   "source": [
    "with pdfplumber.open('notas 2020 janeiro a junho banco inter - OK.pdf') as pdf:\n",
    "    page = pdf.pages[80]\n",
    "    coluna_inferior = page.crop((20, 420, page.width, 586))\n",
    "\n",
    "    inferior_settings = {\n",
    "        \"vertical_strategy\": \"explicit\",\n",
    "        \"explicit_vertical_lines\": [44, 88, 102, 160, 265, 298, 358, 458, 540, 552]\n",
    "    }\n",
    "    resumos = coluna_inferior.extract_table(inferior_settings)\n",
    "\n",
    "im = coluna_inferior.to_image()\n",
    "im.draw_vlines([\n",
    "    260, 298, 420, 506, 545, 553\n",
    "])\n",
    "\n",
    "im.draw_hlines([\n",
    "    445, 455, 465, 475, 490, 500, 510, 520, 536, 546, 556, 565,\n",
    "    575, 585\n",
    "])"
   ]
  },
  {
   "cell_type": "code",
   "execution_count": 10,
   "id": "11361751",
   "metadata": {},
   "outputs": [
    {
     "name": "stdout",
     "output_type": "stream",
     "text": [
      "{'Informacoes_adicionais': 'Custo Tributário nos termos da Lei nº 12.741/12 - PIS: 0,65% - COFINS: 4,00%, sendo isentas do PIS e da COFINS as receitas decorrentes da prestação de serviços a residentes no exterior que representem ingresso de divisas - ISS: de 2% a 5% a depender da alíquota aplicável no Município do estabelecimento prestador. Há contribuições previdenciárias indiretamente alocadas no preço dos serviços discriminados.'}\n"
     ]
    }
   ],
   "source": [
    "with pdfplumber.open('notas 2020 janeiro a junho banco inter - OK.pdf') as pdf:\n",
    "    page = pdf.pages[60]\n",
    "    all_text = ''\n",
    "    text = page.extract_text()\n",
    "    for row in  text:\n",
    "        all_text += text\n",
    "    row = all_text.split('\\n')\n",
    "    #print(row[-3])\n",
    "    #print(row[-2])\n",
    "    #print(row[-1])\n",
    "    # Texto final da página\n",
    "    \n",
    "    obj = {\n",
    "        \"Informacoes_adicionais\": f\"{row[-3]} {row[-2]} {row[-1]}\"\n",
    "    }\n",
    "    print(obj)"
   ]
  },
  {
   "cell_type": "code",
   "execution_count": 22,
   "id": "995702f1",
   "metadata": {},
   "outputs": [
    {
     "name": "stdout",
     "output_type": "stream",
     "text": [
      "{'Especificacoes_diversas': 'A coluna Q indica liquidação no Agente do Qualificado ', 'Observacao': '(1) As operaçoes a futuro não são computadas no líquido da fatura. '}\n"
     ]
    }
   ],
   "source": [
    "with pdfplumber.open('notas 2020 janeiro a junho banco inter - OK.pdf') as pdf:\n",
    "    page = pdf.pages[60]\n",
    "    all_text = ''\n",
    "    text = page.extract_text()\n",
    "    for row in  text:\n",
    "        all_text += text\n",
    "    row = all_text.split('\\n')\n",
    "    total_operacao = row[-6].split()\n",
    "    total_i = 3\n",
    "    observacao = ''\n",
    "    while total_i <= len(total_operacao) - 1:\n",
    "        observacao += f\"{total_operacao[total_i]} \"\n",
    "        total_i += 1\n",
    "    #print(row[-5].split('_'))\n",
    "    #print(row[-4])\n",
    "    \n",
    "    especificacao = row[-5].split('_')\n",
    "    obj = {\n",
    "        \"Especificacoes_diversas\": especificacao[0],\n",
    "        \"Observacao\": observacao\n",
    "    }\n",
    "    print(obj)"
   ]
  },
  {
   "cell_type": "code",
   "execution_count": 420,
   "id": "e1d7fba7",
   "metadata": {},
   "outputs": [
    {
     "name": "stdout",
     "output_type": "stream",
     "text": [
      "['Debêntures', '0,00', 'Valor', 'Líquido', 'das', 'Operações(1)', '13.835,00', 'C']\n",
      "0,69\n"
     ]
    }
   ],
   "source": [
    "with pdfplumber.open('notas 2020 janeiro a junho banco inter - OK.pdf') as pdf:\n",
    "    page = pdf.pages[60]\n",
    "    all_text = ''\n",
    "    text = page.extract_text()\n",
    "    for row in  text:\n",
    "        all_text += text\n",
    "    row = all_text.split('\\n')\n",
    "    print(row[-25].split())\n",
    "    teste = row[-15].split()\n",
    "    if teste[-1] == 'C' or teste[-1] == 'D':\n",
    "        a = f\"{teste[-2]} {teste[-1]}\"\n",
    "        print(a)\n",
    "    else:\n",
    "        a = teste[-1]\n",
    "        print(a)"
   ]
  },
  {
   "cell_type": "code",
   "execution_count": 8,
   "id": "289874d4",
   "metadata": {},
   "outputs": [
    {
     "name": "stdout",
     "output_type": "stream",
     "text": [
      "{'Dados2': '2 - Corretora ou pessoa vinculada atuou na contra parte ', 'DadosB': 'B - Debêntures', 'DadosX': 'X - Box', 'Dados_Negocio': '# - Negócio Direto', 'DadosA': 'A - Posição Futuro', 'DadosY': 'Y - Desmanche de Box', 'Dados8': '8 - Liquidação Institucional', 'DadosC': 'C - Clubes e Fundos de Ações ', 'DadosL': 'L - Precatório', 'DadosD': 'D - Day-Trade', 'DadosP': 'P - Carteira Própria', 'DadosT': 'T - Liquidaçâo pelo Bruto', 'DadosF': 'F - Cobertura', 'DadosH': 'H - Home Broker', 'Dados1': '1 - POP'}\n"
     ]
    }
   ],
   "source": [
    "with pdfplumber.open('notas 2020 janeiro a junho banco inter - OK.pdf') as pdf:\n",
    "    page = pdf.pages[80]\n",
    "    all_text = ''\n",
    "    text = page.extract_text()\n",
    "    for row in  text:\n",
    "        all_text += text\n",
    "    row = all_text.split('\\n')\n",
    "    \n",
    "    dados1 = row[-11].split()\n",
    "    dados2 = row[-10].split()\n",
    "    dados3 = row[-9].split()\n",
    "    dados4 = row[-8].split()\n",
    "    dados5 = row[-7].split()\n",
    "    \n",
    "    obs_total = 0\n",
    "    nome_obs = ''\n",
    "    while obs_total <= len(dados1) - 7:\n",
    "        nome_obs += f\"{dados1[obs_total]} \"\n",
    "        obs_total += 1\n",
    "\n",
    "    obj_OBS = {\n",
    "        \"Dados2\": nome_obs,\n",
    "        \"DadosB\": f\"{dados1[-6]} {dados1[-5]} {dados1[-4]}\",\n",
    "        \"DadosX\": f\"{dados1[-3]} {dados1[-2]} {dados1[-1]}\",\n",
    "        \"Dados_Negocio\": f\"{dados2[0]} {dados2[1]} {dados2[2]} {dados2[3]}\",\n",
    "        \"DadosA\": f\"{dados2[4]} {dados2[5]} {dados2[6]} {dados2[7]}\",\n",
    "        \"DadosY\": f\"{dados2[8]} {dados2[9]} {dados2[10]} {dados2[11]} {dados2[12]}\",\n",
    "        \"Dados8\": f\"{dados3[0]} {dados3[1]} {dados3[2]} {dados3[3]}\",\n",
    "        \"DadosC\": f\"{dados3[4]} {dados3[5]} {dados3[6]} {dados3[7]} {dados3[8]} {dados3[9]} {dados3[10]} \",\n",
    "        \"DadosL\": f\"{dados3[11]} {dados3[12]} {dados3[13]}\",\n",
    "        \"DadosD\": f\"{dados4[0]} {dados4[1]} {dados4[2]}\",\n",
    "        \"DadosP\": f\"{dados4[3]} {dados4[4]} {dados4[5]} {dados4[6]}\",\n",
    "        \"DadosT\": f\"{dados4[7]} {dados4[8]} {dados4[9]} {dados4[10]} {dados4[11]}\",\n",
    "        \"DadosF\": f\"{dados5[0]} {dados5[1]} {dados5[2]}\",\n",
    "        \"DadosH\": f\"{dados5[3]} {dados5[4]} {dados5[5]} {dados5[6]}\",\n",
    "        \"Dados1\": f\"{dados5[7]} {dados5[8]} {dados5[9]}\"\n",
    "    }\n",
    "    print(obj_OBS)"
   ]
  },
  {
   "cell_type": "code",
   "execution_count": 39,
   "id": "63627005",
   "metadata": {
    "scrolled": true
   },
   "outputs": [
    {
     "name": "stdout",
     "output_type": "stream",
     "text": [
      "{'Valor_Liquido_das_Operacoes_1': '129.281,30', 'Valor_Liquido_das_Operacoes_1_OBS': 'C', 'Taxa_de_Liquidacao_2': '35,55', 'Taxa_de_Liquidacao_2_OBS': 'D', 'Taxa_de_Registro': '0,00', 'Taxa_de_Registro_OBS': 'D', 'Total_1_2_3_A': '129.245,75', 'Total_1_2_3_A_OBS': 'C', 'Taxa_de_Termos_Opcoes_Futuro': '0,00', 'Taxa_de_Termos_Opcoes_Futuro_OBS': 'D', 'Taxa_ANA': '0,00', 'Taxa_ANA_OBS': 'D', 'Emolumentos': '4,98', 'Emolumentos_OBS': 'D', 'Total_Bolsa_B': '-4,98', 'Total_Bolsa_B_OBS': 'D', 'Corretagem': '0,00', 'Corretagem_OBS': 'D', 'ISS': '0,00', 'ISS_OBS': 'D', 'IRRFs_operacoes_base': '6,46', 'IRRFs_operacoes_base_OBS': '', 'Outras': '0,00', 'Outras_OBS': 'D', 'Liquido para 27/05/2020': '129.240,77', 'Liquido para 27/05/2020_OBS': 'C'}\n"
     ]
    }
   ],
   "source": [
    "with pdfplumber.open('notas 2020 janeiro a junho banco inter - OK.pdf') as pdf:\n",
    "    page = pdf.pages[80]\n",
    "    all_text = ''\n",
    "    text = page.extract_text()\n",
    "    for row in  text:\n",
    "        all_text += text\n",
    "    row = all_text.split('\\n')\n",
    "    lista_resumo = []\n",
    "    total_linhas = -25\n",
    "    while total_linhas <= -13:\n",
    "        \n",
    "        if row[total_linhas][-1] == 'C' or row[total_linhas][-1] == 'D':\n",
    "            resumo = row[total_linhas].split()\n",
    "        else:\n",
    "            resumo = row[total_linhas].split()\n",
    "            resumo.append('')\n",
    "        \n",
    "        lista_resumo.append(resumo)\n",
    "        total_linhas += 1\n",
    "    \n",
    "    obj_resumo_negocios = {\n",
    "        \"Debentures\": lista_resumo[0][1],\n",
    "        \"Vendas_a_vista\": lista_resumo[1][3],\n",
    "        \"Compras_a_vista\": lista_resumo[2][3],\n",
    "        \"Opcoes_Compras\": lista_resumo[3][3],\n",
    "        \"Opcoes_Vendas\": lista_resumo[4][3],\n",
    "        \"Operacoes_a_termo\": lista_resumo[5][3],\n",
    "        \"Operacoes_a_Futuro\": lista_resumo[6][3],\n",
    "        \"Valor_das_Oper_com_Til_Publ\": lista_resumo[7][6],\n",
    "        \"Valor_das_Operacoes\": lista_resumo[8][3],\n",
    "        \"Valor_do_Ajuste_pFuturo\": lista_resumo[9][4],\n",
    "        \"IR_Sobre_Corretagem\": lista_resumo[10][3],\n",
    "        \"IRRF_Sobre_Day_Trade\": lista_resumo[11][4]\n",
    "    }\n",
    "    \n",
    "    liquido =  f\"{lista_resumo[12][0]} {lista_resumo[12][1]} {lista_resumo[12][2]}\"\n",
    "    obj_resumo_financeiro = {\n",
    "        \"Valor_Liquido_das_Operacoes_1\": lista_resumo[0][-2],\n",
    "        \"Valor_Liquido_das_Operacoes_1_OBS\": lista_resumo[0][-1],\n",
    "        \"Taxa_de_Liquidacao_2\": lista_resumo[1][-2],\n",
    "        \"Taxa_de_Liquidacao_2_OBS\": lista_resumo[1][-1],\n",
    "        \"Taxa_de_Registro\": lista_resumo[2][-2],\n",
    "        \"Taxa_de_Registro_OBS\": lista_resumo[2][-1],\n",
    "        \"Total_1_2_3_A\": lista_resumo[3][-2],\n",
    "        \"Total_1_2_3_A_OBS\": lista_resumo[3][-1],\n",
    "        \"Taxa_de_Termos_Opcoes_Futuro\": lista_resumo[4][-2],\n",
    "        \"Taxa_de_Termos_Opcoes_Futuro_OBS\": lista_resumo[4][-1],\n",
    "        \"Taxa_ANA\": lista_resumo[5][-2],\n",
    "        \"Taxa_ANA_OBS\": lista_resumo[5][-1],\n",
    "        \"Emolumentos\": lista_resumo[6][-2],\n",
    "        \"Emolumentos_OBS\": lista_resumo[6][-1],\n",
    "        \"Total_Bolsa_B\": lista_resumo[7][-2],\n",
    "        \"Total_Bolsa_B_OBS\": lista_resumo[7][-1],\n",
    "        \"Corretagem\": lista_resumo[8][-2],\n",
    "        \"Corretagem_OBS\": lista_resumo[8][-1],\n",
    "        \"ISS\": lista_resumo[9][-2],\n",
    "        \"ISS_OBS\": lista_resumo[9][-1],\n",
    "        \"IRRFs_operacoes_base\": lista_resumo[10][-2],\n",
    "        \"IRRFs_operacoes_base_OBS\": lista_resumo[10][-1],\n",
    "        \"Outras\": lista_resumo[11][-2],\n",
    "        \"Outras_OBS\": lista_resumo[11][-1],\n",
    "        liquido: lista_resumo[12][-2],\n",
    "        f\"{liquido}_OBS\": lista_resumo[12][-1],\n",
    "    }\n",
    "    print(obj_resumo_financeiro)"
   ]
  }
 ],
 "metadata": {
  "kernelspec": {
   "display_name": "Python 3 (ipykernel)",
   "language": "python",
   "name": "python3"
  },
  "language_info": {
   "codemirror_mode": {
    "name": "ipython",
    "version": 3
   },
   "file_extension": ".py",
   "mimetype": "text/x-python",
   "name": "python",
   "nbconvert_exporter": "python",
   "pygments_lexer": "ipython3",
   "version": "3.11.4"
  }
 },
 "nbformat": 4,
 "nbformat_minor": 5
}
