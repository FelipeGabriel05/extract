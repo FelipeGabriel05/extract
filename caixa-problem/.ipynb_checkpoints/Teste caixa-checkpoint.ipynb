{
 "cells": [
  {
   "cell_type": "code",
   "execution_count": 4,
   "id": "10199ed8",
   "metadata": {},
   "outputs": [],
   "source": [
    "import pdfplumber"
   ]
  },
  {
   "cell_type": "code",
   "execution_count": 48,
   "id": "9848f384",
   "metadata": {},
   "outputs": [
    {
     "name": "stdout",
     "output_type": "stream",
     "text": [
      "[['', '%&’()*+),&--+’(.+/', '', ';(cid:1)(cid:0)(cid:3)(cid:0)(cid:3)', '', '8(cid:27)(cid:2)(cid:27)(cid:0)(cid:2)(cid:3)(cid:0)(cid:27)9', '', '']]\n"
     ]
    },
    {
     "data": {
      "image/png": "[encoded data removed]",
      "text/plain": [
       "<pdfplumber.display.PageImage at 0x15d8add35d0>"
      ]
     },
     "execution_count": 48,
     "metadata": {},
     "output_type": "execute_result"
    }
   ],
   "source": [
    "with pdfplumber.open('Caixa.pdf') as pdf:\n",
    "    # Caixa - FII.pdf\n",
    "    page = pdf.pages[0]\n",
    "    coluna_titulo = page.crop((20,100, page.width, 120))\n",
    "    \n",
    "    titulo_settings = {\n",
    "        \"vertical_strategy\": \"lines\",\n",
    "        \"horizontal_strategy\": \"explicit\",\n",
    "        \"explicit_horizontal_lines\": [105, 115],\n",
    "        \"explicit_vertical_lines\": [660, 730, 810]\n",
    "    }\n",
    "    titulos = coluna_titulo.extract_table(titulo_settings)\n",
    "    print(titulos)\n",
    "im = tabela.to_image()\n",
    "im.draw_hlines([105, 115])\n",
    "im.draw_vlines([660, 730, 810])"
   ]
  }
 ],
 "metadata": {
  "kernelspec": {
   "display_name": "Python 3 (ipykernel)",
   "language": "python",
   "name": "python3"
  },
  "language_info": {
   "codemirror_mode": {
    "name": "ipython",
    "version": 3
   },
   "file_extension": ".py",
   "mimetype": "text/x-python",
   "name": "python",
   "nbconvert_exporter": "python",
   "pygments_lexer": "ipython3",
   "version": "3.11.4"
  }
 },
 "nbformat": 4,
 "nbformat_minor": 5
}
