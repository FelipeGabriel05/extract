{
 "cells": [
  {
   "cell_type": "code",
   "execution_count": 1,
   "id": "10199ed8",
   "metadata": {},
   "outputs": [],
   "source": [
    "import pdfplumber"
   ]
  },
  {
   "cell_type": "code",
   "execution_count": 4,
   "id": "9848f384",
   "metadata": {},
   "outputs": [
    {
     "ename": "TypeError",
     "evalue": "PDF.open() got an unexpected keyword argument 'codec'",
     "output_type": "error",
     "traceback": [
      "\u001b[1;31m---------------------------------------------------------------------------\u001b[0m",
      "\u001b[1;31mTypeError\u001b[0m                                 Traceback (most recent call last)",
      "Cell \u001b[1;32mIn[4], line 1\u001b[0m\n\u001b[1;32m----> 1\u001b[0m \u001b[38;5;28;01mwith\u001b[39;00m pdfplumber\u001b[38;5;241m.\u001b[39mopen(\u001b[38;5;124m'\u001b[39m\u001b[38;5;124mCaixa.pdf\u001b[39m\u001b[38;5;124m'\u001b[39m, codec\u001b[38;5;241m=\u001b[39m\u001b[38;5;124m'\u001b[39m\u001b[38;5;124mutf-8\u001b[39m\u001b[38;5;124m'\u001b[39m) \u001b[38;5;28;01mas\u001b[39;00m pdf:\n\u001b[0;32m      2\u001b[0m     \u001b[38;5;66;03m# Caixa - FII.pdf\u001b[39;00m\n\u001b[0;32m      3\u001b[0m     page \u001b[38;5;241m=\u001b[39m pdf\u001b[38;5;241m.\u001b[39mpages[\u001b[38;5;241m0\u001b[39m]\n\u001b[0;32m      4\u001b[0m     coluna_titulo \u001b[38;5;241m=\u001b[39m page\u001b[38;5;241m.\u001b[39mcrop((\u001b[38;5;241m20\u001b[39m,\u001b[38;5;241m100\u001b[39m, page\u001b[38;5;241m.\u001b[39mwidth, \u001b[38;5;241m120\u001b[39m))\n",
      "\u001b[1;31mTypeError\u001b[0m: PDF.open() got an unexpected keyword argument 'codec'"
     ]
    }
   ],
   "source": [
    "with pdfplumber.open('Caixa.pdf') as pdf:\n",
    "    # Caixa - FII.pdf\n",
    "    page = pdf.pages[0]\n",
    "    coluna_titulo = page.crop((20,100, page.width, 120))\n",
    "    \n",
    "    titulo_settings = {\n",
    "        \"vertical_strategy\": \"lines\",\n",
    "        \"horizontal_strategy\": \"explicit\",\n",
    "        \"explicit_horizontal_lines\": [105, 115],\n",
    "        \"explicit_vertical_lines\": [660, 730, 810]\n",
    "    }\n",
    "    titulos = coluna_titulo.extract_table(titulo_settings)\n",
    "    print(titulos)\n",
    "im = coluna_titulo.to_image()\n",
    "im.draw_hlines([105, 115])\n",
    "im.draw_vlines([660, 730, 810])"
   ]
  }
 ],
 "metadata": {
  "kernelspec": {
   "display_name": "Python 3 (ipykernel)",
   "language": "python",
   "name": "python3"
  },
  "language_info": {
   "codemirror_mode": {
    "name": "ipython",
    "version": 3
   },
   "file_extension": ".py",
   "mimetype": "text/x-python",
   "name": "python",
   "nbconvert_exporter": "python",
   "pygments_lexer": "ipython3",
   "version": "3.11.4"
  }
 },
 "nbformat": 4,
 "nbformat_minor": 5
}
