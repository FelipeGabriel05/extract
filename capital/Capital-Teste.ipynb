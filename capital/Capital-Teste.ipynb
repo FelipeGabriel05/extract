{
 "cells": [
  {
   "cell_type": "code",
   "execution_count": 2,
   "id": "f7131eb5",
   "metadata": {},
   "outputs": [],
   "source": [
    "import pdfplumber"
   ]
  },
  {
   "cell_type": "code",
   "execution_count": 87,
   "id": "0387a5c5",
   "metadata": {},
   "outputs": [
    {
     "name": "stdout",
     "output_type": "stream",
     "text": [
      "02.685.483/0001-30\n",
      "88\n"
     ]
    }
   ],
   "source": [
    "with pdfplumber.open(\"CM Capital.pdf\") as pdf:\n",
    "    page = pdf.pages[0]\n",
    "    all_text = ''\n",
    "    texto = page.extract_text()\n",
    "    for row in texto:\n",
    "        all_text += texto\n",
    "    row = all_text.split('\\n')\n",
    "    print(row[4])\n",
    "    print(row[7])"
   ]
  },
  {
   "cell_type": "code",
   "execution_count": 40,
   "id": "0285c274",
   "metadata": {},
   "outputs": [
    {
     "name": "stdout",
     "output_type": "stream",
     "text": [
      "[['523.536', '1 / 3', '10/12/2019']]\n"
     ]
    },
    {
     "data": {
      "image/png": "[encoded data removed]",
      "text/plain": [
       "<pdfplumber.display.PageImage at 0x2d5fa9d9f10>"
      ]
     },
     "execution_count": 40,
     "metadata": {},
     "output_type": "execute_result"
    }
   ],
   "source": [
    "with pdfplumber.open(\"CM Capital.pdf\") as pdf:\n",
    "    page = pdf.pages[0]\n",
    "    coluna_nota = page.crop((400, 65, page.width, 75))\n",
    "    titulos_settings = {\n",
    "        \"vertical_strategy\": \"explicit\",\n",
    "        \"explicit_vertical_lines\": [440, 490, 526, 590]\n",
    "    }\n",
    "    titulos = coluna_nota.extract_table(titulos_settings)\n",
    "    print(titulos)\n",
    "im = coluna_nota.to_image()\n",
    "im.draw_vlines([440, 490, 526, 590])\n",
    "im.draw_hlines([])"
   ]
  },
  {
   "cell_type": "code",
   "execution_count": 46,
   "id": "7d580324",
   "metadata": {},
   "outputs": [
    {
     "name": "stdout",
     "output_type": "stream",
     "text": [
      "{'Corretora': 'CM CAPITAL MARKETS CCTVM LTDA', 'Backoffice_email': 'backoffice@cmcapital.com.br)', 'Ouvidoria_telefone': '0800770-1170', 'Ouvidoria_email': 'ouvidoria@cmcapital.com.br)'}\n"
     ]
    }
   ],
   "source": [
    "with pdfplumber.open(\"CM Capital.pdf\") as pdf:\n",
    "    page = pdf.pages[0]\n",
    "    all_text = ''\n",
    "    texto = page.extract_text()\n",
    "    for row in texto:\n",
    "        all_text += texto\n",
    "    row = all_text.split('\\n')\n",
    "    # nome da corretora = row[5]\n",
    "    linha_corretora1 = row[6].split()\n",
    "    linha_corretora2 = row[8].split()\n",
    "    obj_corretora = {\n",
    "        \"Corretora\": row[5],\n",
    "        \"Backoffice_email\": linha_corretora1[-4],\n",
    "        \"Ouvidoria_telefone\": linha_corretora2[-4],\n",
    "        \"Ouvidoria_email\": linha_corretora2[-1]\n",
    "    }\n",
    "    print(obj_corretora)"
   ]
  },
  {
   "cell_type": "code",
   "execution_count": 71,
   "id": "ed8e12cb",
   "metadata": {},
   "outputs": [
    {
     "name": "stdout",
     "output_type": "stream",
     "text": [
      "[['RUA GOMES DE CARVALHO, 1195 - 4º ANDAR'], ['04547004 - VILA OLIMPIA - SAO PAULO - SP']]\n"
     ]
    },
    {
     "data": {
      "image/png": "[encoded data removed]",
      "text/plain": [
       "<pdfplumber.display.PageImage at 0x2d583777950>"
      ]
     },
     "execution_count": 71,
     "metadata": {},
     "output_type": "execute_result"
    }
   ],
   "source": [
    "with pdfplumber.open(\"CM Capital.pdf\") as pdf:\n",
    "    page = pdf.pages[0]\n",
    "    coluna_corretora = page.crop((10, 100, 180, 120))\n",
    "    corretora_settings = {\n",
    "        \"horizontal_strategy\": \"explicit\",\n",
    "        \"explicit_horizontal_lines\": [101, 110, 119]\n",
    "    }\n",
    "    corretora = coluna_corretora.extract_table(corretora_settings)\n",
    "    print(corretora)\n",
    "    \n",
    "im = coluna_corretora.to_image()\n",
    "im.draw_vlines([])\n",
    "im.draw_hlines([101, 110, 119])"
   ]
  },
  {
   "cell_type": "code",
   "execution_count": 82,
   "id": "799accc3",
   "metadata": {},
   "outputs": [
    {
     "name": "stdout",
     "output_type": "stream",
     "text": [
      " JOSÉ MALAVASI, 468, Casa\n",
      "{'Cliente': 'AUGUSTO TOBIAS NETO', 'Endereco_cliente': ' JOSÉ MALAVASI, 468, Casa 86430 000 - EUNICE ELEUTÉRIO - SANTO ANTÔNIO DA PLATINA - PR', 'numero_do_cliente': '772175', 'CNPJ_ou_CPF': '060.876.149-40'}\n"
     ]
    }
   ],
   "source": [
    "with pdfplumber.open(\"CM Capital.pdf\") as pdf:\n",
    "    page = pdf.pages[0]\n",
    "    all_text = ''\n",
    "    texto = page.extract_text()\n",
    "    for row in texto:\n",
    "        all_text += texto\n",
    "    row = all_text.split('\\n')\n",
    "\n",
    "    linha_cliente1 = row[12].split()\n",
    "    linha_cliente2 = row[14]\n",
    "    endereco_cliente = ''\n",
    "    total = 0\n",
    "    while total <= len(linha_cliente1) - 4:\n",
    "        endereco_cliente += f\" {linha_cliente1[total]}\"\n",
    "        total += 1\n",
    "\n",
    "    obj_cliente = {\n",
    "        \"Cliente\": row[11],\n",
    "        \"Endereco_cliente\": f\"{endereco_cliente} {linha_cliente2}\",\n",
    "        \"numero_do_cliente\": row[13],\n",
    "        \"CNPJ_ou_CPF\": row[10]\n",
    "    }\n",
    "    print(obj_cliente)"
   ]
  },
  {
   "cell_type": "code",
   "execution_count": 6,
   "id": "7fc9fe85",
   "metadata": {},
   "outputs": [
    {
     "name": "stdout",
     "output_type": "stream",
     "text": [
      "{'negocio_1': {'C_V': 'V', 'Mercadoria': 'WIN FUT Z19', 'Vencimento': '18/12/2019', 'Quantidade': '4', 'Preco_Ajuste': '110.605,00', 'Tipo_do_negocio': 'DAY TRADE', 'Vlr_de_operacao_ajuste_DC': '80,00 D', 'Taxa_operacional': '0,36'}, 'negocio_2': {'C_V': 'V', 'Mercadoria': 'WIN FUT Z19', 'Vencimento': '18/12/2019', 'Quantidade': '3', 'Preco_Ajuste': '110.605,00', 'Tipo_do_negocio': 'DAY TRADE', 'Vlr_de_operacao_ajuste_DC': '60,00 D', 'Taxa_operacional': '0,27'}, 'negocio_3': {'C_V': 'C', 'Mercadoria': 'WIN FUT Z19', 'Vencimento': '18/12/2019', 'Quantidade': '2', 'Preco_Ajuste': '110.585,00', 'Tipo_do_negocio': 'DAY TRADE', 'Vlr_de_operacao_ajuste_DC': '48,00 C', 'Taxa_operacional': '0,18'}, 'negocio_4': {'C_V': 'C', 'Mercadoria': 'WIN FUT Z19', 'Vencimento': '18/12/2019', 'Quantidade': '8', 'Preco_Ajuste': '110.585,00', 'Tipo_do_negocio': 'DAY TRADE', 'Vlr_de_operacao_ajuste_DC': '192,00 C', 'Taxa_operacional': '0,72'}, 'negocio_5': {'C_V': 'V', 'Mercadoria': 'WIN FUT Z19', 'Vencimento': '18/12/2019', 'Quantidade': '5', 'Preco_Ajuste': '110.560,00', 'Tipo_do_negocio': 'DAY TRADE', 'Vlr_de_operacao_ajuste_DC': '145,00 D', 'Taxa_operacional': '0,45'}, 'negocio_6': {'C_V': 'V', 'Mercadoria': 'WIN FUT Z19', 'Vencimento': '18/12/2019', 'Quantidade': '1', 'Preco_Ajuste': '110.560,00', 'Tipo_do_negocio': 'DAY TRADE', 'Vlr_de_operacao_ajuste_DC': '29,00 D', 'Taxa_operacional': '0,09'}, 'negocio_7': {'C_V': 'V', 'Mercadoria': 'WIN FUT Z19', 'Vencimento': '18/12/2019', 'Quantidade': '1', 'Preco_Ajuste': '110.560,00', 'Tipo_do_negocio': 'DAY TRADE', 'Vlr_de_operacao_ajuste_DC': '29,00 D', 'Taxa_operacional': '0,09'}, 'negocio_8': {'C_V': 'V', 'Mercadoria': 'WIN FUT Z19', 'Vencimento': '18/12/2019', 'Quantidade': '3', 'Preco_Ajuste': '110.560,00', 'Tipo_do_negocio': 'DAY TRADE', 'Vlr_de_operacao_ajuste_DC': '87,00 D', 'Taxa_operacional': '0,27'}, 'negocio_9': {'C_V': 'C', 'Mercadoria': 'WIN FUT Z19', 'Vencimento': '18/12/2019', 'Quantidade': '3', 'Preco_Ajuste': '110.590,00', 'Tipo_do_negocio': 'DAY TRADE', 'Vlr_de_operacao_ajuste_DC': '69,00 C', 'Taxa_operacional': '0,27'}, 'negocio_10': {'C_V': 'C', 'Mercadoria': 'WIN FUT Z19', 'Vencimento': '18/12/2019', 'Quantidade': '5', 'Preco_Ajuste': '110.590,00', 'Tipo_do_negocio': 'DAY TRADE', 'Vlr_de_operacao_ajuste_DC': '115,00 C', 'Taxa_operacional': '0,45'}, 'negocio_11': {'C_V': 'C', 'Mercadoria': 'WIN FUT Z19', 'Vencimento': '18/12/2019', 'Quantidade': '2', 'Preco_Ajuste': '110.590,00', 'Tipo_do_negocio': 'DAY TRADE', 'Vlr_de_operacao_ajuste_DC': '46,00 C', 'Taxa_operacional': '0,18'}, 'negocio_12': {'C_V': 'V', 'Mercadoria': 'WIN FUT Z19', 'Vencimento': '18/12/2019', 'Quantidade': '1', 'Preco_Ajuste': '110.540,00', 'Tipo_do_negocio': 'DAY TRADE', 'Vlr_de_operacao_ajuste_DC': '33,00 D', 'Taxa_operacional': '0,09'}, 'negocio_13': {'C_V': 'V', 'Mercadoria': 'WIN FUT Z19', 'Vencimento': '18/12/2019', 'Quantidade': '6', 'Preco_Ajuste': '110.540,00', 'Tipo_do_negocio': 'DAY TRADE', 'Vlr_de_operacao_ajuste_DC': '198,00 D', 'Taxa_operacional': '0,54'}, 'negocio_14': {'C_V': 'V', 'Mercadoria': 'WIN FUT Z19', 'Vencimento': '18/12/2019', 'Quantidade': '3', 'Preco_Ajuste': '110.540,00', 'Tipo_do_negocio': 'DAY TRADE', 'Vlr_de_operacao_ajuste_DC': '99,00 D', 'Taxa_operacional': '0,27'}, 'negocio_15': {'C_V': 'C', 'Mercadoria': 'WIN FUT Z19', 'Vencimento': '18/12/2019', 'Quantidade': '8', 'Preco_Ajuste': '110.535,00', 'Tipo_do_negocio': 'DAY TRADE', 'Vlr_de_operacao_ajuste_DC': '272,00 C', 'Taxa_operacional': '0,72'}, 'negocio_16': {'C_V': 'C', 'Mercadoria': 'WIN FUT Z19', 'Vencimento': '18/12/2019', 'Quantidade': '1', 'Preco_Ajuste': '110.535,00', 'Tipo_do_negocio': 'DAY TRADE', 'Vlr_de_operacao_ajuste_DC': '34,00 C', 'Taxa_operacional': '0,09'}, 'negocio_17': {'C_V': 'C', 'Mercadoria': 'WIN FUT Z19', 'Vencimento': '18/12/2019', 'Quantidade': '1', 'Preco_Ajuste': '110.535,00', 'Tipo_do_negocio': 'DAY TRADE', 'Vlr_de_operacao_ajuste_DC': '34,00 C', 'Taxa_operacional': '0,09'}, 'negocio_18': {'C_V': 'V', 'Mercadoria': 'WIN FUT Z19', 'Vencimento': '18/12/2019', 'Quantidade': '3', 'Preco_Ajuste': '110.515,00', 'Tipo_do_negocio': 'DAY TRADE', 'Vlr_de_operacao_ajuste_DC': '114,00 D', 'Taxa_operacional': '0,27'}, 'negocio_19': {'C_V': 'V', 'Mercadoria': 'WIN FUT Z19', 'Vencimento': '18/12/2019', 'Quantidade': '1', 'Preco_Ajuste': '110.515,00', 'Tipo_do_negocio': 'DAY TRADE', 'Vlr_de_operacao_ajuste_DC': '38,00 D', 'Taxa_operacional': '0,09'}, 'negocio_20': {'C_V': 'V', 'Mercadoria': 'WIN FUT Z19', 'Vencimento': '18/12/2019', 'Quantidade': '1', 'Preco_Ajuste': '110.515,00', 'Tipo_do_negocio': 'DAY TRADE', 'Vlr_de_operacao_ajuste_DC': '38,00 D', 'Taxa_operacional': '0,09'}, 'negocio_21': {'C_V': 'V', 'Mercadoria': 'WIN FUT Z19', 'Vencimento': '18/12/2019', 'Quantidade': '1', 'Preco_Ajuste': '110.515,00', 'Tipo_do_negocio': 'DAY TRADE', 'Vlr_de_operacao_ajuste_DC': '38,00 D', 'Taxa_operacional': '0,09'}, 'negocio_22': {'C_V': 'V', 'Mercadoria': 'WIN FUT Z19', 'Vencimento': '18/12/2019', 'Quantidade': '4', 'Preco_Ajuste': '110.515,00', 'Tipo_do_negocio': 'DAY TRADE', 'Vlr_de_operacao_ajuste_DC': '152,00 D', 'Taxa_operacional': '0,36'}, 'negocio_23': {'C_V': 'C', 'Mercadoria': 'WIN FUT Z19', 'Vencimento': '18/12/2019', 'Quantidade': '1', 'Preco_Ajuste': '110.475,00', 'Tipo_do_negocio': 'DAY TRADE', 'Vlr_de_operacao_ajuste_DC': '46,00 C', 'Taxa_operacional': '0,09'}, 'negocio_24': {'C_V': 'C', 'Mercadoria': 'WIN FUT Z19', 'Vencimento': '18/12/2019', 'Quantidade': '7', 'Preco_Ajuste': '110.475,00', 'Tipo_do_negocio': 'DAY TRADE', 'Vlr_de_operacao_ajuste_DC': '322,00 C', 'Taxa_operacional': '0,63'}, 'negocio_25': {'C_V': 'C', 'Mercadoria': 'WIN FUT Z19', 'Vencimento': '18/12/2019', 'Quantidade': '2', 'Preco_Ajuste': '110.475,00', 'Tipo_do_negocio': 'DAY TRADE', 'Vlr_de_operacao_ajuste_DC': '92,00 C', 'Taxa_operacional': '0,18'}, 'negocio_26': {'C_V': 'V', 'Mercadoria': 'WIN FUT Z19', 'Vencimento': '18/12/2019', 'Quantidade': '3', 'Preco_Ajuste': '110.515,00', 'Tipo_do_negocio': 'DAY TRADE', 'Vlr_de_operacao_ajuste_DC': '114,00 D', 'Taxa_operacional': '0,27'}, 'negocio_27': {'C_V': 'V', 'Mercadoria': 'WIN FUT Z19', 'Vencimento': '18/12/2019', 'Quantidade': '3', 'Preco_Ajuste': '110.515,00', 'Tipo_do_negocio': 'DAY TRADE', 'Vlr_de_operacao_ajuste_DC': '114,00 D', 'Taxa_operacional': '0,27'}, 'negocio_28': {'C_V': 'V', 'Mercadoria': 'WIN FUT Z19', 'Vencimento': '18/12/2019', 'Quantidade': '4', 'Preco_Ajuste': '110.515,00', 'Tipo_do_negocio': 'DAY TRADE', 'Vlr_de_operacao_ajuste_DC': '152,00 D', 'Taxa_operacional': '0,36'}, 'negocio_29': {'C_V': 'C', 'Mercadoria': 'WIN FUT Z19', 'Vencimento': '18/12/2019', 'Quantidade': '1', 'Preco_Ajuste': '110.525,00', 'Tipo_do_negocio': 'DAY TRADE', 'Vlr_de_operacao_ajuste_DC': '36,00 C', 'Taxa_operacional': '0,09'}, 'negocio_30': {'C_V': 'C', 'Mercadoria': 'WIN FUT Z19', 'Vencimento': '18/12/2019', 'Quantidade': '1', 'Preco_Ajuste': '110.525,00', 'Tipo_do_negocio': 'DAY TRADE', 'Vlr_de_operacao_ajuste_DC': '36,00 C', 'Taxa_operacional': '0,09'}, 'negocio_31': {'C_V': 'C', 'Mercadoria': 'WIN FUT Z19', 'Vencimento': '18/12/2019', 'Quantidade': '8', 'Preco_Ajuste': '110.525,00', 'Tipo_do_negocio': 'DAY TRADE', 'Vlr_de_operacao_ajuste_DC': '288,00 C', 'Taxa_operacional': '0,72'}, 'negocio_32': {'C_V': 'V', 'Mercadoria': 'WIN FUT Z19', 'Vencimento': '18/12/2019', 'Quantidade': '5', 'Preco_Ajuste': '110.500,00', 'Tipo_do_negocio': 'DAY TRADE', 'Vlr_de_operacao_ajuste_DC': '205,00 D', 'Taxa_operacional': '0,45'}, 'negocio_33': {'C_V': 'V', 'Mercadoria': 'WIN FUT Z19', 'Vencimento': '18/12/2019', 'Quantidade': '5', 'Preco_Ajuste': '110.500,00', 'Tipo_do_negocio': 'DAY TRADE', 'Vlr_de_operacao_ajuste_DC': '205,00 D', 'Taxa_operacional': '0,45'}}\n"
     ]
    },
    {
     "data": {
      "image/png": "[encoded data removed]",
      "text/plain": [
       "<pdfplumber.display.PageImage at 0x20dc111fa90>"
      ]
     },
     "execution_count": 6,
     "metadata": {},
     "output_type": "execute_result"
    }
   ],
   "source": [
    "with pdfplumber.open(\"CM Capital.pdf\") as pdf:\n",
    "    page = pdf.pages[2]\n",
    "    coluna_negocios = page.crop((10, 190, page.width, 628))\n",
    "    \n",
    "    negocios_settings = {\n",
    "        \"vertical_strategy\": \"explicit\",\n",
    "        \"explicit_vertical_lines\": [18, 30, 125, 220, 240, 315, 430, 510, 595]\n",
    "    }\n",
    "    negocios = coluna_negocios.extract_table(negocios_settings)\n",
    "    i = 0\n",
    "    total_negocios = {}\n",
    "    num_negocio = 1\n",
    "    while i <= len(negocios) - 1:\n",
    "        obj_negocios = {\n",
    "            \"C_V\": negocios[i][0],\n",
    "            \"Mercadoria\": negocios[i][1],\n",
    "            \"Vencimento\": negocios[i][2],\n",
    "            \"Quantidade\": negocios[i][3],\n",
    "            \"Preco_Ajuste\": negocios[i][4],\n",
    "            \"Tipo_do_negocio\": negocios[i][5],\n",
    "            \"Vlr_de_operacao_ajuste_DC\": negocios[i][6],\n",
    "            \"Taxa_operacional\": negocios[i][7]\n",
    "        }\n",
    "        total_negocios[f\"negocio_{num_negocio}\"] = obj_negocios\n",
    "        num_negocio += 1\n",
    "        i += 1\n",
    "        \n",
    "    print(total_negocios)\n",
    "im = coluna_negocios.to_image()\n",
    "im.draw_vlines([\n",
    "    18, 30, 125, 220, 240, 315, 430, 510, 595\n",
    "])"
   ]
  },
  {
   "cell_type": "code",
   "execution_count": 8,
   "id": "64c48fb6",
   "metadata": {
    "scrolled": true
   },
   "outputs": [
    {
     "name": "stdout",
     "output_type": "stream",
     "text": [
      "{'Vendas_disponivel': '0,00', 'Compra_disponivel': '0,00', 'Vendas_opcoes': '0,00', 'Compras_opcoes': '0,00', 'Valor_dos_negocios': '1.295,00 C', 'IRRF': '0,00', 'Taxa_Corretora_Intermediacao': '0,00', 'Taxa_Corretora_IMPLANT': '52,20', 'Taxa_registro_BMeF': '46,40', 'Taxa_registro_BMeF_emol': '23,20 D', 'IRRF_day_Trade_projecao': '-11,73', 'Outros_custos': '0,00', 'ISS': '2,11', 'Ajuste_de_posicao': '0,00 C', 'Ajuste_day_trade': '1.295,00 C', 'Total_das_despesas': '121,80 D', 'Outros': '0,00', 'IRRF_corretagem': '0,00', 'Total_Conta_Investimento': '0,00 C', 'Total_Conta_Normal': '1.161,47 C', 'Total_liquido': '0,00 C', 'Total_liquido_da_nota': '1.161,47 C'}\n"
     ]
    },
    {
     "data": {
      "image/png": "[encoded data removed]",
      "text/plain": [
       "<pdfplumber.display.PageImage at 0x20dc322f550>"
      ]
     },
     "execution_count": 8,
     "metadata": {},
     "output_type": "execute_result"
    }
   ],
   "source": [
    "with pdfplumber.open(\"CM Capital.pdf\") as pdf:\n",
    "    page = pdf.pages[2]\n",
    "    coluna_inferior = page.crop((10, 628, page.width, 710))\n",
    "    \n",
    "    inferior_settings = {\n",
    "        \"vertical_strategy\": \"explicit\",\n",
    "        \"horizontal_strategy\": \"text\",\n",
    "        \"explicit_vertical_lines\": [ 39, 57, 110, 128, 180, 196, 201, 244, 250, 360,\n",
    "    370, 479, 482, 594],\n",
    "        \"explicit_horizontal_lines\": [635, 648, 654, 668, 675, 686, 696, 705]\n",
    "    }\n",
    "    \n",
    "    dados = coluna_inferior.extract_table(inferior_settings)\n",
    "    \n",
    "    if len(dados) == 9:\n",
    "        obj_resumo = {\n",
    "            \"Vendas_disponivel\": dados[1][2],\n",
    "            \"Compra_disponivel\": dados[1][6],\n",
    "            \"Vendas_opcoes\": dados[1][8],\n",
    "            \"Compras_opcoes\": dados[1][10],\n",
    "            \"Valor_dos_negocios\": dados[1][11],\n",
    "            \"IRRF\": dados[4][2],\n",
    "            \"Taxa_Corretora_Intermediacao\": dados[4][6],\n",
    "            \"Taxa_Corretora_IMPLANT\": dados[4][8],\n",
    "            \"Taxa_registro_BMeF\": dados[4][10],\n",
    "            \"Taxa_registro_BMeF_emol\": dados[4][11],\n",
    "            \"IRRF_day_Trade_projecao\": dados[7][2],\n",
    "            \"Outros_custos\": dados[7][4],\n",
    "            \"ISS\": dados[7][6],\n",
    "            \"Ajuste_de_posicao\": dados[7][8],\n",
    "            \"Ajuste_day_trade\": dados[7][10],\n",
    "            \"Total_das_despesas\": dados[7][11],\n",
    "            \"Outros\": '',\n",
    "            \"IRRF_corretagem\": '',\n",
    "            \"Total_Conta_Investimento\": '',\n",
    "            \"Total_Conta_Normal\": '',\n",
    "            \"Total_liquido\": '',\n",
    "            \"Total_liquido_da_nota\": ''\n",
    "        }\n",
    "    else:\n",
    "        obj_resumo = {\n",
    "            \"Vendas_disponivel\": dados[1][2],\n",
    "            \"Compra_disponivel\": dados[1][6],\n",
    "            \"Vendas_opcoes\": dados[1][8],\n",
    "            \"Compras_opcoes\": dados[1][10],\n",
    "            \"Valor_dos_negocios\": dados[1][11],\n",
    "            \"IRRF\": dados[4][2],\n",
    "            \"Taxa_Corretora_Intermediacao\": dados[4][6],\n",
    "            \"Taxa_Corretora_IMPLANT\": dados[4][8],\n",
    "            \"Taxa_registro_BMeF\": dados[4][10],\n",
    "            \"Taxa_registro_BMeF_emol\": dados[4][11],\n",
    "            \"IRRF_day_Trade_projecao\": dados[7][2],\n",
    "            \"Outros_custos\": dados[7][4],\n",
    "            \"ISS\": dados[7][6],\n",
    "            \"Ajuste_de_posicao\": dados[7][8],\n",
    "            \"Ajuste_day_trade\": dados[7][10],\n",
    "            \"Total_das_despesas\": dados[7][11],\n",
    "            \"Outros\": dados[10][0],\n",
    "            \"IRRF_corretagem\": dados[10][2],\n",
    "            \"Total_Conta_Investimento\": dados[10][6],\n",
    "            \"Total_Conta_Normal\": dados[10][8],\n",
    "            \"Total_liquido\": dados[10][10],\n",
    "            \"Total_liquido_da_nota\": dados[10][11]\n",
    "        }\n",
    "    print(obj_resumo)\n",
    "im = coluna_inferior.to_image()\n",
    "im.draw_vlines([\n",
    "    39, 57, 110, 128, 180, 196, 201, 244, 250, 360,\n",
    "    370, 479, 482, 594\n",
    "])\n",
    "im.draw_hlines([\n",
    "    635, 648, 654, 668, 675, 686, 696, 705\n",
    "])"
   ]
  },
  {
   "cell_type": "code",
   "execution_count": 54,
   "id": "99fc17f4",
   "metadata": {},
   "outputs": [
    {
     "name": "stdout",
     "output_type": "stream",
     "text": [
      "{'info1': '+ Custos BM&F, conforme Ofício Circular BM&F 079/2007-DG.', 'info2': '- Exercício de opções = EXO', 'info3': '- OZ1 = 249,75 grs. / OZ2 = 9,990 grs. / OZ3 = 0,225 grs.', 'info4': '@ Corretora ou Pessoa Vinculada atuou na Contra Parte', 'info5': '* Negócios gerados automaticamente pelo sistema.', 'info6': '** Valores pagos conforme previsão do Contrato de Transferência de negócios realizados na BMF (Repasse / Brokerage), celebrado entre as Corretoras Intermediadoras e a Corretora IMPLANTAÇÃ', 'info7': '*** Taxa referente à liquidação das operações intermediadas por Terceiros e as operações feitas integralmente pela Corretora I MPLANTAÇÃ'}\n"
     ]
    }
   ],
   "source": [
    "with pdfplumber.open(\"CM Capital.pdf\") as pdf:\n",
    "    page = pdf.pages[0]\n",
    "    all_text = ''\n",
    "    texto = page.extract_text()\n",
    "    for row in texto:\n",
    "        all_text += texto\n",
    "    row = all_text.split('\\n')\n",
    "   \n",
    "    informacoes_corretagem = {\n",
    "        \"info1\": row[-10],\n",
    "        \"info2\": row[-9],\n",
    "        \"info3\": row[-8],\n",
    "        \"info4\": row[-7],\n",
    "        \"info5\": row[-6],\n",
    "        \"info6\": f\"{row[-5]} {row[-4]} {row[-3]}\",\n",
    "        \"info7\": f\"{row[-2]} {row[-1]}\"\n",
    "    }\n",
    "    print(informacoes_corretagem)"
   ]
  }
 ],
 "metadata": {
  "kernelspec": {
   "display_name": "Python 3 (ipykernel)",
   "language": "python",
   "name": "python3"
  },
  "language_info": {
   "codemirror_mode": {
    "name": "ipython",
    "version": 3
   },
   "file_extension": ".py",
   "mimetype": "text/x-python",
   "name": "python",
   "nbconvert_exporter": "python",
   "pygments_lexer": "ipython3",
   "version": "3.11.4"
  }
 },
 "nbformat": 4,
 "nbformat_minor": 5
}
