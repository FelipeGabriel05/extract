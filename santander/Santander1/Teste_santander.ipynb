{
 "cells": [
  {
   "cell_type": "code",
   "execution_count": 2,
   "id": "e0f1de0b",
   "metadata": {},
   "outputs": [],
   "source": [
    "import pdfplumber"
   ]
  },
  {
   "cell_type": "code",
   "execution_count": 8,
   "id": "2d5414e8",
   "metadata": {},
   "outputs": [],
   "source": [
    "with pdfplumber.open('nota07 - OK.pdf') as pdf:\n",
    "    page = pdf.pages[0]\n",
    "    all_text = ''\n",
    "    text = page.extract_text()\n",
    "    for row in text:\n",
    "        all_text += text\n",
    "    row = all_text.split('\\n')"
   ]
  },
  {
   "cell_type": "code",
   "execution_count": 14,
   "id": "fc020c51",
   "metadata": {},
   "outputs": [
    {
     "name": "stdout",
     "output_type": "stream",
     "text": [
      "{'Plataforma': 'HomeBroker', 'Data_de_extração': '29/01/2023 22:12', 'Tipo_de_Nota': 'NOTAS DE CORRETAGEM', 'N_Nota': '15085', 'Data_Pregão': '06/04/2021'}\n"
     ]
    }
   ],
   "source": [
    "    linha1 = row[0].split()\n",
    "    linha3 = row[3].split()\n",
    "    obj_titulo = {\n",
    "        \"Plataforma\": linha1[-1],\n",
    "        \"Data_de_extração\": f\"{linha1[0]} {linha1[1]}\",\n",
    "        \"Tipo_de_Nota\": row[1],\n",
    "        \"N_Nota\": linha3[0],\n",
    "        \"Data_Pregão\": linha3[1]\n",
    "    }\n",
    "    print(obj_titulo)"
   ]
  },
  {
   "cell_type": "code",
   "execution_count": 32,
   "id": "21238596",
   "metadata": {},
   "outputs": [
    {
     "name": "stdout",
     "output_type": "stream",
     "text": [
      "{'Nome_Corretora': 'SANTANDER CORRETORA DE CÂMBIO E VALORES MOBILIÁRIOS S.A', 'Telefone_capitais_e_regiãoMetropolitana': '4004 3535', 'Telefone_demais_localidades': '0800 702 3535', 'Telefone_pessoas_com_deficiencia_auditiva_e_fala': '0800 723 5007', 'CNPJ': '51.014.223/0001-49', 'Carta Patente': 'A-67/1859', 'Endereço': 'Av. Juscelino Kubitschek, 2041 / 2235 - 24° andar - Vila Nova Conceição São Paulo - SP CEP: 04543-011 ', 'EMAIL': 'santander.acoes@santander.com.br'}\n"
     ]
    }
   ],
   "source": [
    "    linha4 = row[4].split()\n",
    "    linha5 = row[5].split()\n",
    "    cnpj_carta = row[6].split()\n",
    "    endereco = row[8].split('EMAIL: santander.acoes@santander.com.br')\n",
    "    email = row[8].split()\n",
    "    \n",
    "    obj_corretora = {\n",
    "        \"Nome_Corretora\": f\"{linha4[0]} {linha4[1]} {linha4[2]} {linha4[3]} {linha4[4]} {linha4[5]} {linha5[0]} {linha5[1]}\",\n",
    "        \"Telefone_capitais_e_regiãoMetropolitana\": f\"{linha4[7]} {linha4[8]}\",\n",
    "        \"Telefone_demais_localidades\": f\"{linha4[-3]} {linha4[-2]} {linha4[-1]}\",\n",
    "        \"Telefone_pessoas_com_deficiencia_auditiva_e_fala\": f\"{linha5[5]} {linha5[6]} {linha5[7]}\",\n",
    "        \"CNPJ\": cnpj_carta[1],\n",
    "        \"Carta Patente\": cnpj_carta[-1],\n",
    "        \"Endereço\": f\"{row[7]} {endereco[0]}\",\n",
    "        \"EMAIL\": email[-1]\n",
    "    } \n",
    "    print(obj_corretora)"
   ]
  },
  {
   "cell_type": "code",
   "execution_count": 65,
   "id": "aac04ea9",
   "metadata": {},
   "outputs": [
    {
     "name": "stdout",
     "output_type": "stream",
     "text": [
      "['CLIENTE:603040', 'JEFFERSON', 'DA', 'SILVA']\n",
      "JEFFERSON DA SILVA \n",
      "['AMARAL DE LIMA ', '']\n",
      "ENDEREÇO:R CEZIRA TROMBETA SPEGLISH\n",
      "10 RESIDENCIAL NOVA E \n",
      "['10', 'RESIDENCIAL', 'NOVA', 'E', '377.031.758-03', '603040-5']\n",
      "['', '13275-650']\n",
      "['', 'VALINHOS-SP']\n"
     ]
    }
   ],
   "source": [
    "    num_cliente = row[9].split()\n",
    "    num_letra = 8\n",
    "    cliente = ''\n",
    "    while num_letra <= len(num_cliente[0]) - 1:\n",
    "        cliente += f\"{num_cliente[0][num_letra]}\"\n",
    "        num_letra += 1\n",
    "    \n",
    "    cliente_nome = ''\n",
    "    num_total_nome = 1\n",
    "    while num_total_nome <= len(num_cliente) - 1:\n",
    "        cliente_nome += f\"{num_cliente[num_total_nome]} \"\n",
    "        num_total_nome += 1\n",
    "    \n",
    "    complemento_nome = row[10].split('CPF/CNPJ/CVM/COB CÓDIGO CLIENTE')\n",
    "    \n",
    "    total_increment = 0\n",
    "    dados_cliente = row[12].split()\n",
    "    complemento_endereco_cliente = ''\n",
    "    while total_increment <= len(dados_cliente) -3:\n",
    "        complemento_endereco_cliente += f\"{endereco_cliente[total_increment]} \"\n",
    "        total_increment += 1\n",
    "\n",
    "    cep = row[13].split('CEP:')\n",
    "    cidade = row[14].split('CIDADE:')\n",
    "    \n",
    "    obj_cliente = {\n",
    "        \"Numero do Cliente\": cliente,\n",
    "        \"Nome do Cliente\": f\"{cliente_nome} {complemento_nome}\",\n",
    "        \"Endereço\": f\"{row[11]} {complemento_endereco_cliente}\",\n",
    "        \"CEP\": cep[-1],\n",
    "        \"CIDADE\": cidade[-1],\n",
    "        \"CPF_CNPJ_CVM_COB\": dados_cliente[-2],\n",
    "        \"Código Cliente\": dados_cliente[-1]\n",
    "    }"
   ]
  },
  {
   "cell_type": "code",
   "execution_count": 92,
   "id": "3fa75f85",
   "metadata": {},
   "outputs": [
    {
     "name": "stdout",
     "output_type": "stream",
     "text": [
      "{'Agente_de_Compensação': '', 'CLIENTE': '603040-5', 'Valor': '130,96', 'Custodiante': '', 'Banco_Agencia_Conta corrente': '033 / 4423 / 01024151', 'Acionista': '', 'Administrador': '', 'Complemento_Nome': ''}\n"
     ]
    },
    {
     "data": {
      "image/png": "[encoded data removed]",
      "text/plain": [
       "<pdfplumber.display.PageImage at 0x22d33d9f350>"
      ]
     },
     "execution_count": 92,
     "metadata": {},
     "output_type": "execute_result"
    }
   ],
   "source": [
    "    coluna_banco = page.crop((20, 210, page.width, 270))\n",
    "    \n",
    "    banco_settings = {\n",
    "        \"vertical_strategy\": \"lines\",\n",
    "        \"horizontal_strategy\": \"explicit\",\n",
    "        \"explicit_horizontal_lines\": [220, 230, 253, 265]\n",
    "    }\n",
    "    table_banco = coluna_banco.extract_table(banco_settings)\n",
    "    \n",
    "    obj_banco = {\n",
    "        \"Agente_de_Compensação\": table_banco[0][0],\n",
    "        \"CLIENTE\": table_banco[0][1],\n",
    "        \"Valor\": table_banco[0][2],\n",
    "        \"Custodiante\": table_banco[0][3],\n",
    "        \"Banco_Agencia_Conta corrente\": table_banco[2][0],\n",
    "        \"Acionista\": table_banco[2][1],\n",
    "        \"Administrador\": table_banco[2][2],\n",
    "        \"Complemento_Nome\": table_banco[2][3]\n",
    "    }\n",
    "    print(obj_banco)\n",
    "im = coluna_banco.to_image()\n",
    "im.draw_vlines([])\n",
    "im.draw_hlines([220, 230, 253, 265])"
   ]
  },
  {
   "cell_type": "code",
   "execution_count": 154,
   "id": "e8023521",
   "metadata": {},
   "outputs": [
    {
     "name": "stdout",
     "output_type": "stream",
     "text": [
      "{'negocio_1': {'Q': 'c', 'Negociacao': '1-BOVESPA', 'CV': 'C', 'Tipo_de_mercado': 'VISTA', 'Especificação_do_titulo': 'DEVA11 CI', 'Quantidade': '1', 'Preço_Ajuste': '117,87', 'Valor_Ajuste': '117,87', 'DC': 'D', 'Total': {'Especificação_do_Titulo': 'DEVA11 CI', 'Quantidade Total': '1', 'Preço Médio': '117,87'}}, 'negocio_2': {'Q': 'c', 'Negociacao': '1-BOVESPA', 'CV': 'V', 'Tipo_de_mercado': 'FRACIONARIO', 'Especificação_do_titulo': 'ELET3F ON N1', 'Quantidade': '10', 'Preço_Ajuste': '34,95', 'Valor_Ajuste': '349,50', 'DC': 'C', 'Total': {'Especificação_do_Titulo': 'ELET3F ON N1', 'Quantidade Total': '10', 'Preço Médio': '34,95'}}, 'negocio_3': {'Q': 'c', 'Negociacao': '1-BOVESPA', 'CV': 'C', 'Tipo_de_mercado': 'VISTA', 'Especificação_do_titulo': 'RBRY11 CI', 'Quantidade': '1', 'Preço_Ajuste': '106,57', 'Valor_Ajuste': '106,57', 'DC': 'D', 'Total': {'Especificação_do_Titulo': 'RBRY11 CI', 'Quantidade Total': '1', 'Preço Médio': '106,57'}}, 'negocio_4': {'Q': 'c', 'Negociacao': '1-BOVESPA', 'CV': 'C', 'Tipo_de_mercado': 'VISTA', 'Especificação_do_titulo': 'VILG11 CI ER', 'Quantidade': '2', 'Preço_Ajuste': '117,89', 'Valor_Ajuste': '235,78', 'DC': 'D', 'Total': {'Quantidade Total': '2', 'Preço Médio': '117,89'}}}\n"
     ]
    },
    {
     "data": {
      "image/png": "[encoded data removed]",
      "text/plain": [
       "<pdfplumber.display.PageImage at 0x22d3b8b7c90>"
      ]
     },
     "execution_count": 154,
     "metadata": {},
     "output_type": "execute_result"
    }
   ],
   "source": [
    "    coluna_negocios = page.crop((20, 310, page.width, 810))\n",
    "    pagina = pdf.pages[1]\n",
    "    all_text2 = ''\n",
    "    texto = pagina.extract_text()\n",
    "    for linha in texto:\n",
    "        all_text2 += texto\n",
    "    linha = all_text2.split('\\n')\n",
    "    \n",
    "    negocios_settings = {\n",
    "        \"vertical_strategy\": \"explicit\",\n",
    "        \"horizontal_strategy\": \"lines\",\n",
    "        \"explicit_vertical_lines\": [33, 50, 110, 140, 210, 340, 410, 440, 470, 537, 562]\n",
    "    }\n",
    "    table_negocios = coluna_negocios.extract_table(negocios_settings)\n",
    "    \n",
    "    quantidades = linha[2].split()\n",
    "    num_negocio = 0\n",
    "    numero_repeticao = 1\n",
    "    total_negocios = {}\n",
    "    while num_negocio <= len(table_negocios) -1:\n",
    "        medio = num_negocio + 1\n",
    "        \n",
    "        if num_negocio == 6:\n",
    "            negocio = {\n",
    "                \"Q\": table_negocios[num_negocio][0],\n",
    "                \"Negociacao\": table_negocios[num_negocio][1],\n",
    "                \"CV\": table_negocios[num_negocio][2],\n",
    "                \"Tipo_de_mercado\": table_negocios[num_negocio][3],\n",
    "                \"Especificação_do_titulo\": table_negocios[num_negocio][4],\n",
    "                \"Quantidade\": table_negocios[num_negocio][5],\n",
    "                \"Preço_Ajuste\": table_negocios[num_negocio][7],\n",
    "                \"Valor_Ajuste\": table_negocios[num_negocio][8],\n",
    "                \"DC\": table_negocios[num_negocio][9],\n",
    "                \"Total\": {\n",
    "                    \"Quantidade Total\": quantidades[2],\n",
    "                    \"Preço Médio\": quantidades[5]\n",
    "                }\n",
    "            }\n",
    "        else:\n",
    "            negocio = {\n",
    "                \"Q\": table_negocios[num_negocio][0],\n",
    "                \"Negociacao\": table_negocios[num_negocio][1],\n",
    "                \"CV\": table_negocios[num_negocio][2],\n",
    "                \"Tipo_de_mercado\": table_negocios[num_negocio][3],\n",
    "                \"Especificação_do_titulo\": table_negocios[num_negocio][4],\n",
    "                \"Quantidade\": table_negocios[num_negocio][5],\n",
    "                \"Preço_Ajuste\": table_negocios[num_negocio][7],\n",
    "                \"Valor_Ajuste\": table_negocios[num_negocio][8],\n",
    "                \"DC\": table_negocios[num_negocio][9],\n",
    "                \"Total\": {\n",
    "                    \"Especificação_do_Titulo\": table_negocios[medio][4],\n",
    "                    \"Quantidade Total\": table_negocios[medio][6],\n",
    "                    \"Preço Médio\": table_negocios[medio][9]\n",
    "                }\n",
    "            }\n",
    "       \n",
    "        total_negocios[f\"negocio_{numero_repeticao}\"] = negocio\n",
    "        num_negocio += 2\n",
    "        numero_repeticao += 1\n",
    "    print(total_negocios)\n",
    "im = coluna_negocios.to_image()\n",
    "im.draw_vlines([33, 50, 110, 140, 210, 340, 410, 440, 470, 537, 562])\n",
    "im.draw_hlines([])"
   ]
  },
  {
   "cell_type": "code",
   "execution_count": 231,
   "id": "727ca300",
   "metadata": {},
   "outputs": [
    {
     "name": "stdout",
     "output_type": "stream",
     "text": [
      "{'Vendas à vista': '349,50', 'Compras à vista': '460,22', 'Opções - Compras': '0,00', 'Opções - Vendas': '0,00', 'Operações a Termo': '0,00', 'Valor das Operações com Títulos Públicos (V. Nom.)': '0,00', 'Valor das Operações': '809,72'}\n"
     ]
    },
    {
     "data": {
      "image/png": "[encoded data removed]",
      "text/plain": [
       "<pdfplumber.display.PageImage at 0x22d3fe9e850>"
      ]
     },
     "execution_count": 231,
     "metadata": {},
     "output_type": "execute_result"
    }
   ],
   "source": [
    "    coluna_negociacao = pagina.crop((20, 70, 295, 200))\n",
    "    negociacao_settings = {\n",
    "        \"vertical_strategy\": \"explicit\",\n",
    "        \"horizontal_strategy\": \"lines\",\n",
    "        \"explicit_vertical_lines\": [35, 250, 288]\n",
    "    }\n",
    "    table_negociacao = coluna_negociacao.extract_table(negociacao_settings)\n",
    "    obj_negociacao = {\n",
    "        table_negociacao[1][0]: table_negociacao[1][1],\n",
    "        table_negociacao[2][0]: table_negociacao[2][1],\n",
    "        table_negociacao[3][0]: table_negociacao[3][1],\n",
    "        table_negociacao[4][0]: table_negociacao[4][1],\n",
    "        table_negociacao[5][0]: table_negociacao[5][1],\n",
    "        table_negociacao[6][0]: table_negociacao[6][1],\n",
    "        table_negociacao[7][0]: table_negociacao[7][1]\n",
    "    }\n",
    "    print(obj_negociacao)\n",
    "    \n",
    "im = coluna_negociacao.to_image()\n",
    "im.draw_vlines([35, 250, 288])\n",
    "im.draw_hlines([])"
   ]
  },
  {
   "cell_type": "code",
   "execution_count": 248,
   "id": "a8882e92",
   "metadata": {},
   "outputs": [
    {
     "name": "stdout",
     "output_type": "stream",
     "text": [
      "{'Corretagem': {'Valor': '20,00', 'DC': 'D'}, 'ISS(são paulo)': {'Valor': '1,0 0', 'DC': ''}, 'I.R.R.F. s/ operações. Base R$349,50': {'Valor': '0,01', 'DC': ''}, 'Outras': {'Valor': '0,00', 'DC': 'D'}, 'Total Corretagem / Despesas': {'Valor': '20,00', 'DC': 'D'}, 'Líquido para: 08/04/2021': {'Valor': '130,96', 'DC': 'D'}}\n"
     ]
    },
    {
     "data": {
      "image/png": "[encoded data removed]",
      "text/plain": [
       "<pdfplumber.display.PageImage at 0x22d3f909890>"
      ]
     },
     "execution_count": 248,
     "metadata": {},
     "output_type": "execute_result"
    }
   ],
   "source": [
    "    coluna_resumo = pagina.crop((296, 70, page.width, 360))\n",
    "    resumo_settings = {\n",
    "        \"vertical_strategy\": \"explicit\",\n",
    "        \"horizontal_strategy\": \"lines\",\n",
    "        \"explicit_vertical_lines\": [301, 500, 550, 560]\n",
    "    }\n",
    "    table_resumo = coluna_resumo.extract_table(resumo_settings)\n",
    "    resumo_financeiro = {\n",
    "        \"CBLC\": {\n",
    "            \"Valor\": table_resumo[1][-2],\n",
    "            \"DC\": table_resumo[1][-1]\n",
    "        },\n",
    "        \"Valor Líquido das Operacões\": {\n",
    "            \"Valor\": table_resumo[2][-2],\n",
    "            \"DC\": table_resumo[2][-1]\n",
    "        },\n",
    "        \"Taxa de Liquidação\": {\n",
    "            \"Valor\": table_resumo[3][-2],\n",
    "            \"DC\": table_resumo[3][-1]\n",
    "        },\n",
    "        \"Taxa de Registro\": {\n",
    "            \"Valor\": table_resumo[4][-2],\n",
    "            \"DC\": table_resumo[4][-1]\n",
    "        },\n",
    "        \"Total CBLC\": {\n",
    "            \"Valor\": table_resumo[5][-2],\n",
    "            \"DC\": table_resumo[5][-1]\n",
    "        }\n",
    "    }\n",
    "    \n",
    "    obj_bovespa = {\n",
    "        \"Taxa de Termo_Opções\": {\n",
    "            \"Valor\": table_resumo[8][-2],\n",
    "            \"DC\": table_resumo[8][-1]\n",
    "        },\n",
    "        \"Taxa_ANA\": {\n",
    "            \"Valor\": table_resumo[9][-2],\n",
    "            \"DC\": table_resumo[9][-1]\n",
    "        },\n",
    "        \"Emolumentos\": {\n",
    "            \"Valor\": table_resumo[10][-2],\n",
    "            \"DC\": table_resumo[10][-1]\n",
    "        },\n",
    "        \"Total_Bovespa_Soma\": {\n",
    "            \"Valor\": table_resumo[11][-2],\n",
    "            \"DC\": table_resumo[11][-1]\n",
    "        }\n",
    "    }\n",
    "\n",
    "    obj_despesas = {\n",
    "        table_resumo[14][0]: {\n",
    "            \"Valor\": table_resumo[14][-2],\n",
    "            \"DC\": table_resumo[14][-1]\n",
    "        },\n",
    "         table_resumo[15][0]: {\n",
    "            \"Valor\": f\"{table_resumo[15][-2]} {table_resumo[15][-1]}\",\n",
    "            \"DC\": ''\n",
    "        },\n",
    "         table_resumo[16][0]: {\n",
    "            \"Valor\": f\"{table_resumo[16][-2]}{table_resumo[16][-1]}\",\n",
    "            \"DC\": ''\n",
    "        },\n",
    "         table_resumo[17][0]: {\n",
    "            \"Valor\": table_resumo[17][-2],\n",
    "            \"DC\": table_resumo[17][-1]\n",
    "        },\n",
    "         table_resumo[18][0]: {\n",
    "            \"Valor\": table_resumo[18][-2],\n",
    "            \"DC\": table_resumo[18][-1]\n",
    "        },\n",
    "         table_resumo[19][0]: {\n",
    "            \"Valor\": table_resumo[19][-2],\n",
    "            \"DC\": table_resumo[19][-1]\n",
    "        }\n",
    "    }\n",
    "    print(obj_despesas)\n",
    "im = coluna_resumo.to_image()\n",
    "im.draw_vlines([301, 500, 550, 560])\n",
    "im.draw_hlines([])"
   ]
  },
  {
   "cell_type": "code",
   "execution_count": 255,
   "id": "1c2465f8",
   "metadata": {},
   "outputs": [
    {
     "name": "stdout",
     "output_type": "stream",
     "text": [
      "{'Dados2': '2 - Corretora ou pessoa vinculada atuou na contra parte', 'Dados_Negocios': '# - Negócio direto', 'Dados8': '8 - Liquidação Institucional', 'Dados_D': 'D - Day-Trade', 'Dados_F': 'F - Cobertura', 'Dados_B': 'B - Debêntures', 'Dados_C': 'C - Clubes e Fundos de Ações', 'Dados_A': 'A - Posição Futuro', 'Dados_H': 'H - Home Broker', 'Dados_X': 'X - Box', 'Dados_P': 'P - Carteira Própria', 'Dados_Y': 'Y - Desmanche de Box', 'Dados_L': 'L - Precatório', 'Dados_T': 'T - Liquidação pelo Bruto'}\n"
     ]
    },
    {
     "data": {
      "image/png": "[encoded data removed]",
      "text/plain": [
       "<pdfplumber.display.PageImage at 0x22d403a1d50>"
      ]
     },
     "execution_count": 255,
     "metadata": {},
     "output_type": "execute_result"
    }
   ],
   "source": [
    "    coluna_obs = pagina.crop((20, 255, 298, 350))\n",
    "    obs_settings = {\n",
    "        \"vertical_strategy\": \"explicit\",\n",
    "        \"horizontal_strategy\": \"text\",\n",
    "        \"explicit_vertical_lines\": [30, 200, 290]\n",
    "    }\n",
    "    table_obs = coluna_obs.extract_table(obs_settings)\n",
    "    \n",
    "    obj_obs = {\n",
    "        \"Dados2\": f\"{table_obs[0][0]} {table_obs[1][0]}\",\n",
    "        \"Dados_Negocios\": table_obs[0][1],\n",
    "        \"Dados8\": table_obs[3][0],\n",
    "        \"Dados_D\": table_obs[3][1],\n",
    "        \"Dados_F\": table_obs[5][0],\n",
    "        \"Dados_B\": table_obs[5][1],\n",
    "        \"Dados_C\": table_obs[7][0],\n",
    "        \"Dados_A\": table_obs[7][1],\n",
    "        \"Dados_H\": table_obs[9][0],\n",
    "        \"Dados_X\": table_obs[9][1],\n",
    "        \"Dados_P\": table_obs[11][0],\n",
    "        \"Dados_Y\": table_obs[11][1],\n",
    "        \"Dados_L\": table_obs[13][0],\n",
    "        \"Dados_T\": f\"{table_obs[13][1]} {table_obs[14][-1]}\"\n",
    "    }\n",
    "    print(obj_obs)\n",
    "    \n",
    "im = coluna_obs.to_image()\n",
    "im.draw_vlines([30, 200, 290])"
   ]
  },
  {
   "cell_type": "code",
   "execution_count": 279,
   "id": "da647c19",
   "metadata": {},
   "outputs": [
    {
     "name": "stdout",
     "output_type": "stream",
     "text": [
      "['', ' DayTrade-IR 1% na Fonte']\n",
      "['As operações a termo não são computadas no líquido da ', '']\n",
      "fatura.\n",
      "{'Especificações Diversas': {'IRRF_Day_Trade': '0,00', 'Projeção': 'R$0,00'}, 'Informações Adicionais': {'info1': ' DayTrade-IR 1% na Fonte', 'info2': 'As operações a termo não são computadas no líquido da  fatura.', 'info3': 'Custo Tributário nos termos da Lei nº 12.741/12 - PIS: 0,65% - COFINS: 4,00%, sendo isentas do PIS e da COFINS as receitas decorrentes da prestação de serviços a residentes no exterior que representem ingresso de divisas - ISS: de 2% a 5% a depender da alíquota aplicável no Município do estabelecimento prestador. Há contribuições previdenciárias indiretamente alocadas no preço dos serviços discriminados.', 'Site': 'https://www2.santandercorretora.com.br/S2/Default.aspx 2/2'}}\n"
     ]
    }
   ],
   "source": [
    "    especificacao = linha[16].split()\n",
    "    day_info = linha[-6].split('As operações a termo não são computadas no líquido da')\n",
    "    print(day_info)\n",
    "    info2 = linha[-6].split('DayTrade-IR 1% na Fonte')\n",
    "    print(info2)\n",
    "    print(linha[-5])\n",
    "    obs = {\n",
    "        \"Especificações Diversas\": {\n",
    "            \"IRRF_Day_Trade\": especificacao[3],\n",
    "            \"Projeção\": especificacao[-1]\n",
    "        },\n",
    "        \"Informações Adicionais\": {\n",
    "            \"info1\": day_info[1],\n",
    "            \"info2\": f\"{info2[0]} {linha[-5]}\",\n",
    "            \"info3\": f\"{linha[-4]} {linha[-3]} {linha[-2]}\",\n",
    "            \"Site\": linha[-1]\n",
    "        }\n",
    "    }\n",
    "    print(obs)"
   ]
  }
 ],
 "metadata": {
  "kernelspec": {
   "display_name": "Python 3 (ipykernel)",
   "language": "python",
   "name": "python3"
  },
  "language_info": {
   "codemirror_mode": {
    "name": "ipython",
    "version": 3
   },
   "file_extension": ".py",
   "mimetype": "text/x-python",
   "name": "python",
   "nbconvert_exporter": "python",
   "pygments_lexer": "ipython3",
   "version": "3.11.4"
  }
 },
 "nbformat": 4,
 "nbformat_minor": 5
}
