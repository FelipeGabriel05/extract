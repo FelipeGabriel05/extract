{
 "cells": [
  {
   "cell_type": "code",
   "execution_count": 1,
   "id": "a1de7250",
   "metadata": {},
   "outputs": [],
   "source": [
    "import pdfplumber"
   ]
  },
  {
   "cell_type": "code",
   "execution_count": 36,
   "id": "d29c330e",
   "metadata": {},
   "outputs": [],
   "source": [
    "with pdfplumber.open('Santander - FII.pdf') as pdf:\n",
    "    page = pdf.pages[0]\n",
    "    all_text = ''\n",
    "    text = page.extract_text()\n",
    "    for row in text:\n",
    "        all_text += text\n",
    "    row = all_text.split('\\n')"
   ]
  },
  {
   "cell_type": "code",
   "execution_count": 37,
   "id": "8397b3b9",
   "metadata": {},
   "outputs": [],
   "source": [
    "    nota = row[3].split()\n",
    "    obj_nota = {\n",
    "        \"Numero da Pagina\": row[0],\n",
    "        \"Data Pregão\": nota[0],\n",
    "        \"N_Nota\": nota[1]\n",
    "    }\n",
    "    #print(obj_nota)"
   ]
  },
  {
   "cell_type": "code",
   "execution_count": 38,
   "id": "98e48cf7",
   "metadata": {},
   "outputs": [
    {
     "name": "stdout",
     "output_type": "stream",
     "text": [
      "{'Nome da Corretora': 'SANTANDER CORRETORA DE CÂMBIO E VALORES MOBILIÁRIOS S.A', 'Endereco': 'AV. JUSCELINO KUBITSCHEK, 2041 / 2235 -24° ANDAR -SÃO PAULO -SP ', 'CEP': '04543-011', 'Telefone_Capitais_e_regições_metropolitanas': '4004 3535', 'Telefone_Demais_Localidades': '0800 702 3535', 'Telefone_Pessoas_com_deficiencia': '0800 723 5007', 'Site': 'WWW.SANTANDERCORRETORA.COM.BR', 'CNPJ': '51.014.223/0001-49'}\n"
     ]
    }
   ],
   "source": [
    "    linha5 = row[5].split()\n",
    "    num_endereco = 0\n",
    "    endereco = ''\n",
    "    while num_endereco <= len(linha5) - 3:\n",
    "        endereco += f\"{linha5[num_endereco]} \"\n",
    "        num_endereco += 1\n",
    "       \n",
    "    telefone = row[6].split()\n",
    "    \n",
    "    obj_corretora = {\n",
    "        \"Nome da Corretora\": row[4],\n",
    "        \"Endereco\": endereco,\n",
    "        \"CEP\": linha5[-1],\n",
    "        \"Telefone_Capitais_e_regições_metropolitanas\": f\"{telefone[0]} {telefone[1][0]}{telefone[1][1]}{telefone[1][2]}{telefone[1][3]}\",\n",
    "        \"Telefone_Demais_Localidades\": f\"{telefone[5]} {telefone[6]} {telefone[7][0]}{telefone[7][1]}{telefone[7][2]}{telefone[7][3]}\",\n",
    "        \"Telefone_Pessoas_com_deficiencia\": f\"{telefone[-3]} {telefone[-2]} {telefone[-1][0]}{telefone[-1][1]}{telefone[-1][2]}{telefone[-1][3]}\",\n",
    "        \"Site\": row[8],\n",
    "        \"CNPJ\": row[9]\n",
    "    }\n",
    "    print(obj_corretora)"
   ]
  },
  {
   "cell_type": "code",
   "execution_count": 44,
   "id": "96368e8a",
   "metadata": {},
   "outputs": [
    {
     "name": "stdout",
     "output_type": "stream",
     "text": [
      "{'Número do Cliente': '614218-1', 'Nome': 'SERGIO CARLOS PANIGASSI', 'Endereço': 'R TOME DE SOUSA, 100 -AP 121 -CENTRO (011) 4368-6579 09710-240 -SAO BERNARDO DO CAMPO-SP', 'CPF_CNPJ_CVM_COB': '054.238.648-87', 'Codigo Cliente': '614218-1', 'Assessor': '15'}\n"
     ]
    },
    {
     "data": {
      "image/png": "[encoded data removed]",
      "text/plain": [
       "<pdfplumber.display.PageImage at 0x1a34b3af110>"
      ]
     },
     "execution_count": 44,
     "metadata": {},
     "output_type": "execute_result"
    }
   ],
   "source": [
    "    coluna_cliente = page.crop((20, 200, page.width, 243))\n",
    "    cliente_settings = {\n",
    "        \"vertical_strategy\": \"lines\",\n",
    "        \"horizontal_strategy\": \"explicit\",\n",
    "        \"explicit_horizontal_lines\": [201, 211, 221, 231, 241]\n",
    "    }\n",
    "    table_cliente = coluna_cliente.extract_table(cliente_settings)\n",
    "    num_cliente = table_cliente[0][1].split('Cliente:')\n",
    "    info_cliente = table_cliente[3][2].split()\n",
    "    \n",
    "    \n",
    "    obj_cliente = {\n",
    "        \"Número do Cliente\": num_cliente[-1],\n",
    "        \"Nome\": table_cliente[1][1],\n",
    "        \"Endereço\": f\"{table_cliente[2][1]} {table_cliente[3][1]}\",\n",
    "        \"CPF_CNPJ_CVM_COB\": table_cliente[1][2],\n",
    "        \"Codigo Cliente\": info_cliente[0],\n",
    "        \"Assessor\": info_cliente[1]\n",
    "    }\n",
    "    print(obj_cliente)\n",
    "im = coluna_cliente.to_image()\n",
    "im.draw_vlines([])\n",
    "im.draw_hlines([201, 211, 221, 231, 241])"
   ]
  },
  {
   "cell_type": "code",
   "execution_count": 111,
   "id": "e9b50195",
   "metadata": {},
   "outputs": [
    {
     "name": "stdout",
     "output_type": "stream",
     "text": [
      "{'Agente_de_compensação': '', 'Cliente': '614218-1', 'Valor': '528,45', 'Custodiante': '', 'Banco': '033', 'Agencia': '1760', 'Conta_Corrente': '1002281-8', 'Acionista': '', 'Administrador': '', 'Complemento_Nome': ''}\n"
     ]
    },
    {
     "data": {
      "image/png": "[encoded data removed]",
      "text/plain": [
       "<pdfplumber.display.PageImage at 0x1a34cb83d50>"
      ]
     },
     "execution_count": 111,
     "metadata": {},
     "output_type": "execute_result"
    }
   ],
   "source": [
    "    coluna_banco = page.crop((20, 244, page.width, 286))\n",
    "    banco_settings = {\n",
    "        \"vertical_strategy\": \"explicit\",\n",
    "        \"horizontal_strategy\": \"lines\",\n",
    "        \"explicit_horizontal_lines\": [255, 260, 277, 285],\n",
    "        \"explicit_vertical_lines\": [54, 98, 152, 258, 341, 403, 540]\n",
    "    }\n",
    "    table_banco = coluna_banco.extract_table(banco_settings)\n",
    "\n",
    "    obj_banco = {\n",
    "        \"Agente_de_compensação\": table_banco[1][2],\n",
    "        \"Cliente\": table_banco[1][3],\n",
    "        \"Valor\": table_banco[1][4],\n",
    "        \"Custodiante\": table_banco[1][5],\n",
    "        \"Banco\": table_banco[4][0],\n",
    "        \"Agencia\": table_banco[4][1],\n",
    "        \"Conta_Corrente\": table_banco[4][2],\n",
    "        \"Acionista\": table_banco[4][3],\n",
    "        \"Administrador\": table_banco[4][4],\n",
    "        \"Complemento_Nome\": table_banco[4][5]\n",
    "    }\n",
    "    print(obj_banco)\n",
    "im = coluna_banco.to_image()\n",
    "im.draw_hlines([255 , 265, 275, 285])\n",
    "im.draw_vlines([54, 98, 152, 258, 341, 403, 539])"
   ]
  },
  {
   "cell_type": "code",
   "execution_count": 147,
   "id": "60427057",
   "metadata": {},
   "outputs": [
    {
     "data": {
      "image/png": "[encoded data removed]",
      "text/plain": [
       "<pdfplumber.display.PageImage at 0x1a34dc66e50>"
      ]
     },
     "execution_count": 147,
     "metadata": {},
     "output_type": "execute_result"
    }
   ],
   "source": [
    "    coluna_negocios = page.crop((20, 310, page.width, 830))\n",
    "    \n",
    "im = coluna_negocios.to_image()\n",
    "im.draw_vlines([58, 135, 214, 320, 332, 390, 453, 520, 535])"
   ]
  }
 ],
 "metadata": {
  "kernelspec": {
   "display_name": "Python 3 (ipykernel)",
   "language": "python",
   "name": "python3"
  },
  "language_info": {
   "codemirror_mode": {
    "name": "ipython",
    "version": 3
   },
   "file_extension": ".py",
   "mimetype": "text/x-python",
   "name": "python",
   "nbconvert_exporter": "python",
   "pygments_lexer": "ipython3",
   "version": "3.11.4"
  }
 },
 "nbformat": 4,
 "nbformat_minor": 5
}
