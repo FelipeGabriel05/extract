{
 "cells": [
  {
   "cell_type": "code",
   "execution_count": 24,
   "id": "a1de7250",
   "metadata": {},
   "outputs": [],
   "source": [
    "import pdfplumber"
   ]
  },
  {
   "cell_type": "code",
   "execution_count": 6,
   "id": "d29c330e",
   "metadata": {},
   "outputs": [],
   "source": [
    "with pdfplumber.open('Santander - FII.pdf') as pdf:\n",
    "    page = pdf.pages[0]\n",
    "    all_text = ''\n",
    "    text = page.extract_text()\n",
    "    for row in text:\n",
    "        all_text += text\n",
    "    row = all_text.split('\\n')"
   ]
  },
  {
   "cell_type": "code",
   "execution_count": 7,
   "id": "8397b3b9",
   "metadata": {},
   "outputs": [],
   "source": [
    "    nota = row[3].split()\n",
    "    obj_nota = {\n",
    "        \"Numero da Pagina\": row[0],\n",
    "        \"Data Pregão\": nota[0],\n",
    "        \"N_Nota\": nota[1]\n",
    "    }\n",
    "    #print(obj_nota)"
   ]
  },
  {
   "cell_type": "code",
   "execution_count": 8,
   "id": "98e48cf7",
   "metadata": {},
   "outputs": [
    {
     "name": "stdout",
     "output_type": "stream",
     "text": [
      "{'Nome da Corretora': 'SANTANDER CORRETORA DE CÂMBIO E VALORES MOBILIÁRIOS S.A', 'Endereco': 'AV. JUSCELINO KUBITSCHEK, 2041 / 2235 -24° ANDAR -SÃO PAULO -SP ', 'CEP': '04543-011', 'Telefone_Capitais_e_regições_metropolitanas': '4004 3535', 'Telefone_Demais_Localidades': '0800 702 3535', 'Telefone_Pessoas_com_deficiencia': '0800 723 5007', 'Site': 'WWW.SANTANDERCORRETORA.COM.BR', 'CNPJ': '51.014.223/0001-49'}\n"
     ]
    }
   ],
   "source": [
    "    linha5 = row[5].split()\n",
    "    num_endereco = 0\n",
    "    endereco = ''\n",
    "    while num_endereco <= len(linha5) - 3:\n",
    "        endereco += f\"{linha5[num_endereco]} \"\n",
    "        num_endereco += 1\n",
    "       \n",
    "    telefone = row[6].split()\n",
    "    \n",
    "    obj_corretora = {\n",
    "        \"Nome da Corretora\": row[4],\n",
    "        \"Endereco\": endereco,\n",
    "        \"CEP\": linha5[-1],\n",
    "        \"Telefone_Capitais_e_regições_metropolitanas\": f\"{telefone[0]} {telefone[1][0]}{telefone[1][1]}{telefone[1][2]}{telefone[1][3]}\",\n",
    "        \"Telefone_Demais_Localidades\": f\"{telefone[5]} {telefone[6]} {telefone[7][0]}{telefone[7][1]}{telefone[7][2]}{telefone[7][3]}\",\n",
    "        \"Telefone_Pessoas_com_deficiencia\": f\"{telefone[-3]} {telefone[-2]} {telefone[-1][0]}{telefone[-1][1]}{telefone[-1][2]}{telefone[-1][3]}\",\n",
    "        \"Site\": row[8],\n",
    "        \"CNPJ\": row[9]\n",
    "    }\n",
    "    print(obj_corretora)"
   ]
  },
  {
   "cell_type": "code",
   "execution_count": 9,
   "id": "96368e8a",
   "metadata": {},
   "outputs": [
    {
     "name": "stdout",
     "output_type": "stream",
     "text": [
      "{'Número do Cliente': '614218-1', 'Nome': 'SERGIO CARLOS PANIGASSI', 'Endereço': 'R TOME DE SOUSA, 100 -AP 121 -CENTRO (011) 4368-6579 09710-240 -SAO BERNARDO DO CAMPO-SP', 'CPF_CNPJ_CVM_COB': '054.238.648-87', 'Codigo Cliente': '614218-1', 'Assessor': '15'}\n"
     ]
    },
    {
     "data": {
      "image/png": "[encoded data removed]",
      "text/plain": [
       "<pdfplumber.display.PageImage at 0x1ce4af98810>"
      ]
     },
     "execution_count": 9,
     "metadata": {},
     "output_type": "execute_result"
    }
   ],
   "source": [
    "    coluna_cliente = page.crop((20, 200, page.width, 243))\n",
    "    cliente_settings = {\n",
    "        \"vertical_strategy\": \"lines\",\n",
    "        \"horizontal_strategy\": \"explicit\",\n",
    "        \"explicit_horizontal_lines\": [201, 211, 221, 231, 241]\n",
    "    }\n",
    "    table_cliente = coluna_cliente.extract_table(cliente_settings)\n",
    "    num_cliente = table_cliente[0][1].split('Cliente:')\n",
    "    info_cliente = table_cliente[3][2].split()\n",
    "    \n",
    "    \n",
    "    obj_cliente = {\n",
    "        \"Número do Cliente\": num_cliente[-1],\n",
    "        \"Nome\": table_cliente[1][1],\n",
    "        \"Endereço\": f\"{table_cliente[2][1]} {table_cliente[3][1]}\",\n",
    "        \"CPF_CNPJ_CVM_COB\": table_cliente[1][2],\n",
    "        \"Codigo Cliente\": info_cliente[0],\n",
    "        \"Assessor\": info_cliente[1]\n",
    "    }\n",
    "    print(obj_cliente)\n",
    "im = coluna_cliente.to_image()\n",
    "im.draw_vlines([])\n",
    "im.draw_hlines([201, 211, 221, 231, 241])"
   ]
  },
  {
   "cell_type": "code",
   "execution_count": 10,
   "id": "e9b50195",
   "metadata": {},
   "outputs": [
    {
     "name": "stdout",
     "output_type": "stream",
     "text": [
      "{'Agente_de_compensação': '', 'Cliente': '614218-1', 'Valor': '528,45', 'Custodiante': '', 'Banco': '033', 'Agencia': '1760', 'Conta_Corrente': '1002281-8', 'Acionista': '', 'Administrador': '', 'Complemento_Nome': ''}\n"
     ]
    },
    {
     "data": {
      "image/png": "[encoded data removed]",
      "text/plain": [
       "<pdfplumber.display.PageImage at 0x1ce49e92bd0>"
      ]
     },
     "execution_count": 10,
     "metadata": {},
     "output_type": "execute_result"
    }
   ],
   "source": [
    "    coluna_banco = page.crop((20, 244, page.width, 286))\n",
    "    banco_settings = {\n",
    "        \"vertical_strategy\": \"explicit\",\n",
    "        \"horizontal_strategy\": \"lines\",\n",
    "        \"explicit_horizontal_lines\": [255, 260, 277, 285],\n",
    "        \"explicit_vertical_lines\": [54, 98, 152, 258, 341, 403, 540]\n",
    "    }\n",
    "    table_banco = coluna_banco.extract_table(banco_settings)\n",
    "\n",
    "    obj_banco = {\n",
    "        \"Agente_de_compensação\": table_banco[1][2],\n",
    "        \"Cliente\": table_banco[1][3],\n",
    "        \"Valor\": table_banco[1][4],\n",
    "        \"Custodiante\": table_banco[1][5],\n",
    "        \"Banco\": table_banco[4][0],\n",
    "        \"Agencia\": table_banco[4][1],\n",
    "        \"Conta_Corrente\": table_banco[4][2],\n",
    "        \"Acionista\": table_banco[4][3],\n",
    "        \"Administrador\": table_banco[4][4],\n",
    "        \"Complemento_Nome\": table_banco[4][5]\n",
    "    }\n",
    "    print(obj_banco)\n",
    "im = coluna_banco.to_image()\n",
    "im.draw_hlines([255 , 265, 275, 285])\n",
    "im.draw_vlines([54, 98, 152, 258, 341, 403, 539])"
   ]
  },
  {
   "cell_type": "code",
   "execution_count": 11,
   "id": "60427057",
   "metadata": {},
   "outputs": [
    {
     "name": "stdout",
     "output_type": "stream",
     "text": [
      "{'Negocio_1': {'Negociacao': '1-BOVESPA', 'C_V': 'V', 'Tipo_de_Mercado': 'VISTA', 'Especificacao_do_Titulo': 'THRA11', 'obs_asterisco': '', 'Quantidade': '10', 'Preco_Ajuste': '149,14', 'Valor_Ajuste': '1.491,40', 'D_C': 'C'}, 'Negocio_2': {'Negociacao': '1-BOVESPA', 'C_V': 'V', 'Tipo_de_Mercado': 'VISTA', 'Especificacao_do_Titulo': 'TBOF11', 'obs_asterisco': '', 'Quantidade': '294', 'Preco_Ajuste': '100,30', 'Valor_Ajuste': '29.488,20', 'D_C': 'C'}, 'Negocio_3': {'Negociacao': '1-BOVESPA', 'C_V': 'V', 'Tipo_de_Mercado': 'VISTA', 'Especificacao_do_Titulo': 'SDIL11', 'obs_asterisco': '', 'Quantidade': '75', 'Preco_Ajuste': '115,35', 'Valor_Ajuste': '8.651,25', 'D_C': 'C'}, 'Negocio_4': {'Negociacao': '1-BOVESPA', 'C_V': 'V', 'Tipo_de_Mercado': 'VISTA', 'Especificacao_do_Titulo': 'THRA11', 'obs_asterisco': '', 'Quantidade': '10', 'Preco_Ajuste': '149,14', 'Valor_Ajuste': '1.491,40', 'D_C': 'C'}, 'Negocio_5': {'Negociacao': '1-BOVESPA', 'C_V': 'V', 'Tipo_de_Mercado': 'VISTA', 'Especificacao_do_Titulo': 'SDIL11', 'obs_asterisco': '', 'Quantidade': '100', 'Preco_Ajuste': '114,90', 'Valor_Ajuste': '11.490,00', 'D_C': 'C'}, 'Negocio_6': {'Negociacao': '1-BOVESPA', 'C_V': 'V', 'Tipo_de_Mercado': 'VISTA', 'Especificacao_do_Titulo': 'SDIL11', 'obs_asterisco': '', 'Quantidade': '25', 'Preco_Ajuste': '115,22', 'Valor_Ajuste': '2.880,50', 'D_C': 'C'}, 'Negocio_7': {'Negociacao': '1-BOVESPA', 'C_V': 'V', 'Tipo_de_Mercado': 'VISTA', 'Especificacao_do_Titulo': 'SDIL11', 'obs_asterisco': '', 'Quantidade': '20', 'Preco_Ajuste': '114,94', 'Valor_Ajuste': '2.298,80', 'D_C': 'C'}, 'Negocio_8': {'Negociacao': '1-BOVESPA', 'C_V': 'V', 'Tipo_de_Mercado': 'VISTA', 'Especificacao_do_Titulo': 'SDIL11', 'obs_asterisco': '', 'Quantidade': '43', 'Preco_Ajuste': '114,90', 'Valor_Ajuste': '4.940,70', 'D_C': 'C'}, 'Negocio_9': {'Negociacao': '1-BOVESPA', 'C_V': 'V', 'Tipo_de_Mercado': 'VISTA', 'Especificacao_do_Titulo': 'THRA11', 'obs_asterisco': '', 'Quantidade': '10', 'Preco_Ajuste': '149,14', 'Valor_Ajuste': '1.491,40', 'D_C': 'C'}, 'Negocio_10': {'Negociacao': '1-BOVESPA', 'C_V': 'V', 'Tipo_de_Mercado': 'VISTA', 'Especificacao_do_Titulo': 'SDIL11', 'obs_asterisco': '', 'Quantidade': '1', 'Preco_Ajuste': '114,90', 'Valor_Ajuste': '114,90', 'D_C': 'C'}, 'Negocio_11': {'Negociacao': '1-BOVESPA', 'C_V': 'C', 'Tipo_de_Mercado': 'VISTA', 'Especificacao_do_Titulo': 'JSRE11', 'obs_asterisco': '', 'Quantidade': '21', 'Preco_Ajuste': '114,98', 'Valor_Ajuste': '2.414,58', 'D_C': 'D'}, 'Negocio_12': {'Negociacao': '1-BOVESPA', 'C_V': 'C', 'Tipo_de_Mercado': 'VISTA', 'Especificacao_do_Titulo': 'LVBI11', 'obs_asterisco': '', 'Quantidade': '1', 'Preco_Ajuste': '123,99', 'Valor_Ajuste': '123,99', 'D_C': 'D'}, 'Negocio_13': {'Negociacao': '1-BOVESPA', 'C_V': 'V', 'Tipo_de_Mercado': 'VISTA', 'Especificacao_do_Titulo': 'SDIL11', 'obs_asterisco': '', 'Quantidade': '75', 'Preco_Ajuste': '114,90', 'Valor_Ajuste': '8.617,50', 'D_C': 'C'}, 'Negocio_14': {'Negociacao': '1-BOVESPA', 'C_V': 'V', 'Tipo_de_Mercado': 'VISTA', 'Especificacao_do_Titulo': 'SDIL11', 'obs_asterisco': '', 'Quantidade': '2', 'Preco_Ajuste': '114,90', 'Valor_Ajuste': '229,80', 'D_C': 'C'}, 'Negocio_15': {'Negociacao': '1-BOVESPA', 'C_V': 'V', 'Tipo_de_Mercado': 'VISTA', 'Especificacao_do_Titulo': 'SDIL11', 'obs_asterisco': '', 'Quantidade': '3', 'Preco_Ajuste': '114,90', 'Valor_Ajuste': '344,70', 'D_C': 'C'}, 'Negocio_16': {'Negociacao': '1-BOVESPA', 'C_V': 'V', 'Tipo_de_Mercado': 'VISTA', 'Especificacao_do_Titulo': 'THRA11', 'obs_asterisco': '', 'Quantidade': '10', 'Preco_Ajuste': '149,14', 'Valor_Ajuste': '1.491,40', 'D_C': 'C'}, 'Negocio_17': {'Negociacao': '1-BOVESPA', 'C_V': 'V', 'Tipo_de_Mercado': 'VISTA', 'Especificacao_do_Titulo': 'TBOF11', 'obs_asterisco': '', 'Quantidade': '63', 'Preco_Ajuste': '100,50', 'Valor_Ajuste': '6.331,50', 'D_C': 'C'}, 'Negocio_18': {'Negociacao': '1-BOVESPA', 'C_V': 'V', 'Tipo_de_Mercado': 'VISTA', 'Especificacao_do_Titulo': 'THRA11', 'obs_asterisco': '', 'Quantidade': '5', 'Preco_Ajuste': '149,14', 'Valor_Ajuste': '745,70', 'D_C': 'C'}, 'Negocio_19': {'Negociacao': '1-BOVESPA', 'C_V': 'V', 'Tipo_de_Mercado': 'VISTA', 'Especificacao_do_Titulo': 'SDIL11', 'obs_asterisco': '', 'Quantidade': '1', 'Preco_Ajuste': '114,90', 'Valor_Ajuste': '114,90', 'D_C': 'C'}, 'Negocio_20': {'Negociacao': '1-BOVESPA', 'C_V': 'V', 'Tipo_de_Mercado': 'VISTA', 'Especificacao_do_Titulo': 'THRA11', 'obs_asterisco': '', 'Quantidade': '10', 'Preco_Ajuste': '149,14', 'Valor_Ajuste': '1.491,40', 'D_C': 'C'}, 'Negocio_21': {'Negociacao': '1-BOVESPA', 'C_V': 'V', 'Tipo_de_Mercado': 'VISTA', 'Especificacao_do_Titulo': 'THRA11', 'obs_asterisco': '', 'Quantidade': '10', 'Preco_Ajuste': '149,14', 'Valor_Ajuste': '1.491,40', 'D_C': 'C'}, 'Negocio_22': {'Negociacao': '1-BOVESPA', 'C_V': 'C', 'Tipo_de_Mercado': 'VISTA', 'Especificacao_do_Titulo': 'JSRE11', 'obs_asterisco': '', 'Quantidade': '33', 'Preco_Ajuste': '114,98', 'Valor_Ajuste': '3.794,34', 'D_C': 'D'}, 'Negocio_23': {'Negociacao': '1-BOVESPA', 'C_V': 'C', 'Tipo_de_Mercado': 'VISTA', 'Especificacao_do_Titulo': 'JSRE11', 'obs_asterisco': '', 'Quantidade': '60', 'Preco_Ajuste': '114,99', 'Valor_Ajuste': '6.899,40', 'D_C': 'D'}, 'Negocio_24': {'Negociacao': '1-BOVESPA', 'C_V': 'C', 'Tipo_de_Mercado': 'VISTA', 'Especificacao_do_Titulo': 'JSRE11', 'obs_asterisco': '', 'Quantidade': '279', 'Preco_Ajuste': '115,00', 'Valor_Ajuste': '32.085,00', 'D_C': 'D'}, 'Negocio_25': {'Negociacao': '1-BOVESPA', 'C_V': 'V', 'Tipo_de_Mercado': 'VISTA', 'Especificacao_do_Titulo': 'THRA11', 'obs_asterisco': '', 'Quantidade': '10', 'Preco_Ajuste': '149,14', 'Valor_Ajuste': '1.491,40', 'D_C': 'C'}, 'Negocio_26': {'Negociacao': '1-BOVESPA', 'C_V': 'C', 'Tipo_de_Mercado': 'VISTA', 'Especificacao_do_Titulo': 'LVBI11', 'obs_asterisco': '', 'Quantidade': '368', 'Preco_Ajuste': '123,99', 'Valor_Ajuste': '45.628,32', 'D_C': 'D'}, 'Negocio_27': {'Negociacao': '1-BOVESPA', 'C_V': 'V', 'Tipo_de_Mercado': 'VISTA', 'Especificacao_do_Titulo': 'SDIL11', 'obs_asterisco': '', 'Quantidade': '1', 'Preco_Ajuste': '114,90', 'Valor_Ajuste': '114,90', 'D_C': 'C'}, 'Negocio_28': {'Negociacao': '1-BOVESPA', 'C_V': 'V', 'Tipo_de_Mercado': 'VISTA', 'Especificacao_do_Titulo': 'SDIL11', 'obs_asterisco': '', 'Quantidade': '2', 'Preco_Ajuste': '114,90', 'Valor_Ajuste': '229,80', 'D_C': 'C'}, 'Negocio_29': {'Negociacao': '1-BOVESPA', 'C_V': 'V', 'Tipo_de_Mercado': 'VISTA', 'Especificacao_do_Titulo': 'SDIL11', 'obs_asterisco': '', 'Quantidade': '5', 'Preco_Ajuste': '114,90', 'Valor_Ajuste': '574,50', 'D_C': 'C'}, 'Negocio_30': {'Negociacao': '1-BOVESPA', 'C_V': 'C', 'Tipo_de_Mercado': 'VISTA', 'Especificacao_do_Titulo': 'JSRE11', 'obs_asterisco': '', 'Quantidade': '4', 'Preco_Ajuste': '114,99', 'Valor_Ajuste': '459,96', 'D_C': 'D'}, 'Negocio_31': {'Negociacao': '1-BOVESPA', 'C_V': 'V', 'Tipo_de_Mercado': 'VISTA', 'Especificacao_do_Titulo': 'SDIL11', 'obs_asterisco': '', 'Quantidade': '5', 'Preco_Ajuste': '115,30', 'Valor_Ajuste': '576,50', 'D_C': 'C'}}\n"
     ]
    },
    {
     "data": {
      "image/png": "[encoded data removed]",
      "text/plain": [
       "<pdfplumber.display.PageImage at 0x1ce4daec190>"
      ]
     },
     "execution_count": 11,
     "metadata": {},
     "output_type": "execute_result"
    }
   ],
   "source": [
    "    coluna_negocios = page.crop((20, 330, page.width, 830))\n",
    "    negocios_settings = {\n",
    "        \"vertical_strategy\": \"explicit\",\n",
    "        \"horizontal_strategy\": \"lines\",\n",
    "        \"explicit_vertical_lines\": [58, 114, 135, 214, 320, 332, 390, 453, 520, 535]\n",
    "    }\n",
    "    table_negocios = coluna_negocios.extract_table(negocios_settings)\n",
    "    \n",
    "    num_negociacao = 0\n",
    "    total_negocios = {}\n",
    "    while num_negociacao <= len(table_negocios) -2:\n",
    "        negocio_num = num_negociacao + 1\n",
    "        negocio = {\n",
    "            \"Negociacao\": table_negocios[num_negociacao][0],\n",
    "            \"C_V\": table_negocios[num_negociacao][1],\n",
    "            \"Tipo_de_Mercado\": table_negocios[num_negociacao][2],\n",
    "            \"Especificacao_do_Titulo\": table_negocios[num_negociacao][3],\n",
    "            \"obs_asterisco\": table_negocios[num_negociacao][4],\n",
    "            \"Quantidade\": table_negocios[num_negociacao][5],\n",
    "            \"Preco_Ajuste\": table_negocios[num_negociacao][6],\n",
    "            \"Valor_Ajuste\": table_negocios[num_negociacao][7],\n",
    "            \"D_C\": table_negocios[num_negociacao][8]\n",
    "        }\n",
    "        total_negocios[f\"Negocio_{negocio_num}\"] = negocio\n",
    "        num_negociacao += 1\n",
    "    print(total_negocios)\n",
    "    \n",
    "im = coluna_negocios.to_image()\n",
    "im.draw_vlines([58, 114 ,135, 214, 320, 332, 390, 453, 520, 535])"
   ]
  },
  {
   "cell_type": "code",
   "execution_count": 25,
   "id": "71534bd2",
   "metadata": {
    "scrolled": true
   },
   "outputs": [
    {
     "name": "stdout",
     "output_type": "stream",
     "text": [
      "[['1-BOVESPA', 'V', 'VISTA', 'SDIL11', '', '32', '115,38', '3.692,16', 'C']]\n"
     ]
    },
    {
     "data": {
      "image/png": "[encoded data removed]",
      "text/plain": [
       "<pdfplumber.display.PageImage at 0x1ce4aae3890>"
      ]
     },
     "execution_count": 25,
     "metadata": {},
     "output_type": "execute_result"
    }
   ],
   "source": [
    "with pdfplumber.open('Santander - FII.pdf') as pdf:\n",
    "    page2 = pdf.pages[1]\n",
    "    coluna_negocios2 = page2.crop((20, 50, page.width, 75))\n",
    "    negocios2_settings = {\n",
    "        \"vertical_strategy\": \"explicit\",\n",
    "        \"horizontal_strategy\": \"lines\",\n",
    "        \"explicit_vertical_lines\": [58, 114, 135, 214, 320, 332, 390, 453, 520, 535]\n",
    "    }\n",
    "    table_negocios2 = coluna_negocios2.extract_table(negocios2_settings)\n",
    "    print(table_negocios2)\n",
    "    all_text = ''\n",
    "    text = page2.extract_text()\n",
    "    for row in text:\n",
    "        all_text += text\n",
    "    row = all_text.split('\\n')\n",
    "    \n",
    "im = coluna_negocios2.to_image()\n",
    "im.draw_vlines([58, 114, 135, 214, 320, 332, 390, 453, 520, 535])"
   ]
  },
  {
   "cell_type": "code",
   "execution_count": 26,
   "id": "4dc1f4c9",
   "metadata": {
    "scrolled": false
   },
   "outputs": [
    {
     "name": "stdout",
     "output_type": "stream",
     "text": [
      "['IRRF', 'Day', 'Trade:0,00', 'Projeção:', '0,00']\n",
      "0,00\n",
      "{'Vendas a vista': '91.876,11', 'Compras a vista': '91.405,59', 'Opcoes_Compra': '0,00', 'Opcoes_Vendas': '0,00', 'Operacoes a Termo': '0,00', 'Valor das Operacoes com Titulos Publicos V_Nom': '0,00', 'Valor das Operacoes': '183.281,70', 'Especificações Diversas': {'IRRF_Day_Trade': '0,00', 'Projeção': '0,00'}}\n"
     ]
    },
    {
     "data": {
      "image/png": "[encoded data removed]",
      "text/plain": [
       "<pdfplumber.display.PageImage at 0x1ce4ab2a9d0>"
      ]
     },
     "execution_count": 26,
     "metadata": {},
     "output_type": "execute_result"
    }
   ],
   "source": [
    "    coluna_negociacao = page2.crop((20, 80, 300, 250))\n",
    "    negociacao_settings = {\n",
    "        \"vertical_strategy\": \"explicit\",\n",
    "        \"horizontal_strategy\": \"lines\",\n",
    "        \"explicit_vertical_lines\": [55, 249, 293]\n",
    "    }\n",
    "    table_negociacao = coluna_negociacao.extract_table(negociacao_settings)\n",
    "    especificacao = row[-14].split()\n",
    "    irrf = ''\n",
    "    num_caractere = 6\n",
    "    while num_caractere <= len(especificacao[2]) - 1:\n",
    "        irrf += f\"{especificacao[2][num_caractere]}\"\n",
    "        num_caractere += 1\n",
    "    print(especificacao)\n",
    "    print(irrf)\n",
    "    negociacao = {\n",
    "        \"Vendas a vista\": table_negociacao[1][1],\n",
    "        \"Compras a vista\": table_negociacao[2][1],\n",
    "        \"Opcoes_Compra\": table_negociacao[3][1],\n",
    "        \"Opcoes_Vendas\": table_negociacao[4][1],\n",
    "        \"Operacoes a Termo\": table_negociacao[5][1],\n",
    "        \"Valor das Operacoes com Titulos Publicos V_Nom\": table_negociacao[6][1],\n",
    "        \"Valor das Operacoes\": table_negociacao[7][1],\n",
    "        \"Especificações Diversas\": {\n",
    "            \"IRRF_Day_Trade\": irrf,\n",
    "            \"Projeção\": especificacao[-1]\n",
    "        }\n",
    "    }\n",
    "    print(negociacao)\n",
    "    \n",
    "im = coluna_negociacao.to_image()\n",
    "im.draw_vlines([55, 249, 293])\n",
    "im.draw_hlines([])"
   ]
  },
  {
   "cell_type": "code",
   "execution_count": 27,
   "id": "40b29b67",
   "metadata": {},
   "outputs": [
    {
     "name": "stdout",
     "output_type": "stream",
     "text": [
      "{'Dados8': '8 -Liquidação Institucional', 'Dados_D': 'D -Day-Trade', 'Dados_F': 'F -Cobertura', 'Dados_B': 'B -Debêntures', 'Dados_C': 'C -Clubes e Fundos de Ações', 'Dados_A': 'A-Posição Futuro', 'Dados_H': 'H -Home Broker', 'Dados_X': 'X -Box', 'Dados_P': 'P -Carteira Própria', 'Dados_Y': 'Y -Desmanche de Box', 'Dados_L': 'L -Precatório', 'Dados_T': 'T -Liquidação pelo Bruto'}\n"
     ]
    },
    {
     "data": {
      "image/png": "[encoded data removed]",
      "text/plain": [
       "<pdfplumber.display.PageImage at 0x1ce4b0f0750>"
      ]
     },
     "execution_count": 27,
     "metadata": {},
     "output_type": "execute_result"
    }
   ],
   "source": [
    "    coluna_obs = page2.crop((20, 255, 298, 357))\n",
    "    obs_settings = {\n",
    "        \"vertical_strategy\": \"explicit\",\n",
    "        \"horizontal_strategy\": \"lines\",\n",
    "        \"explicit_vertical_lines\": [55, 183, 293],\n",
    "        \"explicit_horizontal_lines\": [256, 266, 280, 300, 310, 330, 340, 354]\n",
    "    }\n",
    "    table_obs = coluna_obs.extract_table(obs_settings)\n",
    "    obs = {\n",
    "        \"Dados8\":  table_obs[1][0],\n",
    "        \"Dados_D\": table_obs[1][1],\n",
    "        \"Dados_F\": table_obs[2][0],\n",
    "        \"Dados_B\": table_obs[2][1],\n",
    "        \"Dados_C\": table_obs[3][0],\n",
    "        \"Dados_A\": table_obs[3][1], \n",
    "        \"Dados_H\": table_obs[4][0],\n",
    "        \"Dados_X\": table_obs[4][1],\n",
    "        \"Dados_P\": table_obs[5][0],\n",
    "        \"Dados_Y\": table_obs[5][1],\n",
    "        \"Dados_L\": table_obs[6][0],\n",
    "        \"Dados_T\": table_obs[6][1]\n",
    "    }\n",
    "    print(obs)\n",
    "im = coluna_obs.to_image()\n",
    "im.draw_vlines([55, 183, 293])\n",
    "im.draw_hlines([256, 266, 280, 300, 310, 330, 340, 354])"
   ]
  },
  {
   "cell_type": "code",
   "execution_count": 38,
   "id": "6d68adc1",
   "metadata": {},
   "outputs": [
    {
     "name": "stdout",
     "output_type": "stream",
     "text": [
      "[['RESUMO FINANCEIRO', '', 'D/C'], ['CBLC', '', ''], ['Valor Líquido das Operações', '470,52', 'C'], ['Taxa de Liquidação', '50,40', 'D'], ['Taxa de Registro', '0,00', ''], ['Total CBLC', '420,12', 'C'], ['', '', ''], ['BOVESPA/SOMA', '', ''], ['Taxa de Termo / Opções', '0,00', ''], ['Taxa A.N.A.', '0,00', ''], ['Emolumentos', '6,96', 'D'], ['Total Bovespa / Soma', '6,96', 'D'], ['', '', ''], ['CORRETAGEM / DESPESAS', '', ''], ['Corretagem', '941,61', 'D'], ['ISS (SÃO PAULO)', '47,08', ''], ['I.R.R.F. s/ operações. Base R$ 91.876,11', '4,59', 'D'], ['Outras', '0,00', ''], ['Líquido para 05/12/2019', '528,45', 'D'], ['', '', '']]\n",
      "{'Corretagem': {'Valor': '941,61', 'DC': 'D'}, 'ISS (SÃO PAULO)': {'Valor': '47,08 ', 'DC': ''}, 'I.R.R.F. s/ operações. Base R$ 91.876,11': {'Valor': '4,59D', 'DC': ''}, 'Outras': {'Valor': '0,00', 'DC': ''}, 'Líquido para 05/12/2019': {'Valor': '528,45', 'DC': 'D'}}\n"
     ]
    },
    {
     "data": {
      "image/png": "[encoded data removed]",
      "text/plain": [
       "<pdfplumber.display.PageImage at 0x1ce4b2d9a10>"
      ]
     },
     "execution_count": 38,
     "metadata": {},
     "output_type": "execute_result"
    }
   ],
   "source": [
    "    coluna_resumo = page2.crop((296, 80, page.width, 380))\n",
    "    resumo_settings = {\n",
    "        \"vertical_strategy\": \"explicit\",\n",
    "        \"horizontal_strategy\": \"lines\",\n",
    "        \"explicit_vertical_lines\": [301, 490, 520, 540]\n",
    "    }\n",
    "    table_resumo = coluna_resumo.extract_table(resumo_settings)\n",
    "    print(table_resumo)\n",
    "    \n",
    "    resumo_financeiro = {\n",
    "        \"CBLC\": {\n",
    "            \"Valor\": table_resumo[1][-2],\n",
    "            \"DC\": table_resumo[1][-1]\n",
    "        },\n",
    "        \"Valor Líquido das Operacões\": {\n",
    "            \"Valor\": table_resumo[2][-2],\n",
    "            \"DC\": table_resumo[2][-1]\n",
    "        },\n",
    "        \"Taxa de Liquidação\": {\n",
    "            \"Valor\": table_resumo[3][-2],\n",
    "            \"DC\": table_resumo[3][-1]\n",
    "        },\n",
    "        \"Taxa de Registro\": {\n",
    "            \"Valor\": table_resumo[4][-2],\n",
    "            \"DC\": table_resumo[4][-1]\n",
    "        },\n",
    "        \"Total CBLC\": {\n",
    "            \"Valor\": table_resumo[5][-2],\n",
    "            \"DC\": table_resumo[5][-1]\n",
    "        }\n",
    "    }\n",
    "    \n",
    "    obj_bovespa = {\n",
    "        \"Taxa de Termo_Opções\": {\n",
    "            \"Valor\": table_resumo[8][-2],\n",
    "            \"DC\": table_resumo[8][-1]\n",
    "        },\n",
    "        \"Taxa_ANA\": {\n",
    "            \"Valor\": table_resumo[9][-2],\n",
    "            \"DC\": table_resumo[9][-1]\n",
    "        },\n",
    "        \"Emolumentos\": {\n",
    "            \"Valor\": table_resumo[10][-2],\n",
    "            \"DC\": table_resumo[10][-1]\n",
    "        },\n",
    "        \"Total_Bovespa_Soma\": {\n",
    "            \"Valor\": table_resumo[11][-2],\n",
    "            \"DC\": table_resumo[11][-1]\n",
    "        }\n",
    "    }\n",
    "    \n",
    "    obj_despesas = {\n",
    "        table_resumo[14][0]: {\n",
    "            \"Valor\": table_resumo[14][-2],\n",
    "            \"DC\": table_resumo[14][-1]\n",
    "        },\n",
    "        table_resumo[15][0]: {\n",
    "            \"Valor\": f\"{table_resumo[15][-2]} {table_resumo[15][-1]}\",\n",
    "            \"DC\": ''\n",
    "        },\n",
    "        table_resumo[16][0]: {\n",
    "            \"Valor\": f\"{table_resumo[16][-2]}{table_resumo[16][-1]}\",\n",
    "            \"DC\": ''\n",
    "        },\n",
    "        table_resumo[17][0]: {\n",
    "            \"Valor\": table_resumo[17][-2],\n",
    "            \"DC\": table_resumo[17][-1]\n",
    "        },\n",
    "        table_resumo[18][0]: {\n",
    "            \"Valor\": table_resumo[18][-2],\n",
    "            \"DC\": table_resumo[18][-1]\n",
    "        }\n",
    "    }\n",
    "    print(obj_despesas)\n",
    "im = coluna_resumo.to_image()\n",
    "im.draw_vlines([301, 490, 520, 540])\n",
    "im.draw_hlines([])"
   ]
  },
  {
   "cell_type": "code",
   "execution_count": 39,
   "id": "2294719d",
   "metadata": {},
   "outputs": [
    {
     "name": "stdout",
     "output_type": "stream",
     "text": [
      "As operações a termo não são computadas no Líquido para 05/12/2019 528,45 D\n",
      "líquido da fatura.\n",
      "DayTrade-IR 1% na Fonte\n"
     ]
    }
   ],
   "source": [
    "    print(row[-4])\n",
    "    print(row[-3])\n",
    "    print(row[-2])\n",
    "    "
   ]
  }
 ],
 "metadata": {
  "kernelspec": {
   "display_name": "Python 3 (ipykernel)",
   "language": "python",
   "name": "python3"
  },
  "language_info": {
   "codemirror_mode": {
    "name": "ipython",
    "version": 3
   },
   "file_extension": ".py",
   "mimetype": "text/x-python",
   "name": "python",
   "nbconvert_exporter": "python",
   "pygments_lexer": "ipython3",
   "version": "3.11.4"
  }
 },
 "nbformat": 4,
 "nbformat_minor": 5
}
